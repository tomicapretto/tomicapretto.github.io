{
 "cells": [
  {
   "cell_type": "raw",
   "metadata": {},
   "source": [
    "---\n",
    "title: \"Binomial family in Bambi\"\n",
    "subtitle: | \n",
    "  My fourth post describing work done during GSoC 2021. On this \n",
    "  occasion, I'm introducing the Binomial family. This new family is very useful \n",
    "  to build models for binary data when each row in the data set contains the \n",
    "  number of successes and the number of trials instead of the results of \n",
    "  Bernoulli trials.\n",
    "date: \"2021-08-03\"\n",
    "---"
   ]
  },
  {
   "cell_type": "markdown",
   "metadata": {},
   "source": [
    "## Introduction\n",
    "\n",
    "Although GSoC 2021 is close to come to an end, there's still a lot of exciting \n",
    "things going on around [Bambi](https://bambinos.github.io/bambi). Today I'm \n",
    "going to talk about another new family that's about to be merged into the main \n",
    "branch, the Binomial family. \n",
    "\n",
    "Let's get started by trying to see why we need to have another new family for\n",
    "modeling binary data in Bambi."
   ]
  },
  {
   "cell_type": "markdown",
   "metadata": {},
   "source": [
    "## Aggregated vs disaggregated data\n",
    "\n",
    "\n",
    "Bambi already has the Bernoulli family to model binary data.\n",
    "This family fits very well when you have a data set where each row represents a \n",
    "single observation and there's a column that represents the binary outcome (\n",
    "i.e the result of the Bernoulli trial) as well as other columns with the \n",
    "predictor variables.\n",
    "\n",
    "Let's say we want to study the lethality of a certain drug and we have a group \n",
    "of mice to experiment with. An approach could be to divide the mice into smaller\n",
    "groups, assign a certain dose to all the mice in each group, and then finally \n",
    "count the number of units that died after a fixed amount of time. Under\n",
    "the Bernoulli family paradigm, each row has to represent a single observation,\n",
    "looking like this:\n",
    "\n",
    "<center>\n",
    "\n",
    "| Obs | Dose | Died |\n",
    "|----:|-----:|-----:|\n",
    "| 1   | 1.3  | 0    |\n",
    "| 2   | 1.8  | 1    |\n",
    "| 3   | 2.2  | 1    |\n",
    "\n",
    "</center>"
   ]
  },
  {
   "cell_type": "markdown",
   "metadata": {},
   "source": [
    "where each row represents a single mouse (i.e. a single Bernoulli trial).\n",
    "The **0** is used to represent a **failure/survival**, and **1** is used to \n",
    "represent a **successes/death**. \n",
    "\n",
    "What if our data is aggregated? The nature of the experiment makes it natural\n",
    "to have rows representing groups, a column representing the number of deaths,\n",
    "and another column representing the number of mice in the group.\n",
    "\n",
    "<center>\n",
    "\n",
    "| Group | Dose | Dead | Total |\n",
    "|------:|-----:|-----:|------:|\n",
    "| 1     | 1.3  | 12   | 20    |\n",
    "| 2     | 1.8  | 18   | 25    |\n",
    "| 3     | 2.2  | 24   | 34    |\n",
    "\n",
    "</center>"
   ]
  },
  {
   "cell_type": "markdown",
   "metadata": {},
   "source": [
    "where each row represents a group of mice. Dose is the dose applied to all the\n",
    "units in the group, Dead is the number of mice that died, and \n",
    "Total is the number of mice in the group. If we focus on the **Dead** and \n",
    "**Total** columns we can easily see they resemble data coming from\n",
    "a **Binomial distribution** (i.e. number of successes out of a series of $n$ \n",
    "independent Bernoulli trials). In other words, for a given row, we can think \n",
    "there's a Binomial distribution where **Dead** represents the number of \n",
    "successes out of **Total** number of trials (each mouse is a trial)."
   ]
  },
  {
   "cell_type": "markdown",
   "metadata": {},
   "source": [
    "Before continuing, it's important to note that if the data is originally \n",
    "aggregated as in the lower table, it can always be disaggregated to resemble \n",
    "the one in the upper table. So what's the problem? \n",
    "\n",
    "The answer is that there's actually nothing wrong with having the data in such\n",
    "a granular form! But, if the data already comes aggregated, why doing extra\n",
    "work when we now have the Binomial family? Let's have a look at the examples\n",
    "below!"
   ]
  },
  {
   "cell_type": "code",
   "execution_count": 1,
   "metadata": {},
   "outputs": [],
   "source": [
    "import arviz as az\n",
    "import bambi as bmb\n",
    "import matplotlib.pyplot as plt\n",
    "import numpy as np\n",
    "import pandas as pd"
   ]
  },
  {
   "cell_type": "code",
   "execution_count": 2,
   "metadata": {},
   "outputs": [],
   "source": [
    "az.style.use(\"arviz-darkgrid\")\n",
    "BLUE = \"#003f5c\"\n",
    "PURPLE = \"#7a5195\"\n",
    "PINK = \"#ef5675\""
   ]
  },
  {
   "cell_type": "markdown",
   "metadata": {},
   "source": [
    "We're going to use real data in this example^[This data can be found in An Introduction to Generalized Linear Models by A. J. Dobson and A. G. Barnett, but the original source is (Bliss, 1935).]. \n",
    "This data consists of the numbers of beetles dead after five hours of \n",
    "exposure to gaseous carbon disulphide at various concentrations:\n",
    "\n",
    "<center>\n",
    "\n",
    "| Dose, $x_i$ <br />($\\log_{10}\\text{CS}_2\\text{mgl}^{-1}$)| Number of beetles, $n_i$ | Number killed, $y_i$ |\n",
    "| --- | --- | --- |\n",
    "| 1.6907 | 59 | 6 |\n",
    "| 1.7242 | 60 | 13 |\n",
    "| 1.7552 | 62 | 18 |\n",
    "| 1.7842 | 56 | 28 |\n",
    "| 1.8113 | 63 | 52 |\n",
    "| 1.8369 | 59 | 53 |\n",
    "| 1.8610 | 62 | 61 |\n",
    "| 1.8839 | 60 | 60 |\n",
    "\n",
    "</center>\n"
   ]
  },
  {
   "cell_type": "code",
   "execution_count": 3,
   "metadata": {},
   "outputs": [],
   "source": [
    "x = np.array([1.6907, 1.7242, 1.7552, 1.7842, 1.8113, 1.8369, 1.8610, 1.8839])\n",
    "n = np.array([59, 60, 62, 56, 63, 59, 62, 60])\n",
    "y = np.array([6, 13, 18, 28, 52, 53, 61, 60])\n",
    "\n",
    "data = pd.DataFrame({\n",
    "    \"x\": x,\n",
    "    \"y\": y,\n",
    "    \"n\": n\n",
    "})"
   ]
  },
  {
   "cell_type": "markdown",
   "metadata": {},
   "source": [
    "Quite simple, right? Can we use it as it is with the Bernoulli family? Let's have a look below."
   ]
  },
  {
   "cell_type": "markdown",
   "metadata": {},
   "source": [
    "## Bernoulli family\n",
    "\n",
    "Nope, no surprises today. To use the Bernoulli family, we first need to\n",
    "transform the data into the dissagregated or long format. One approach is the \n",
    "following "
   ]
  },
  {
   "cell_type": "code",
   "execution_count": 4,
   "metadata": {},
   "outputs": [],
   "source": [
    "data_bernoulli = pd.DataFrame({\n",
    "    \"x\": np.concatenate([np.repeat(x, n) for x, n in zip(x, n)]),\n",
    "    \"killed\": np.concatenate([np.repeat([1, 0], [y, n - y]) for y, n in zip(y, n)])\n",
    "})"
   ]
  },
  {
   "cell_type": "markdown",
   "metadata": {},
   "source": [
    "Do you realize how bothering it can be to do that if we have many more \n",
    "variables? Nevermind, let's keep going.\n",
    "\n",
    "Now let's initialize a Bambi model and sample from the posterior:"
   ]
  },
  {
   "cell_type": "code",
   "execution_count": 5,
   "metadata": {},
   "outputs": [
    {
     "name": "stderr",
     "output_type": "stream",
     "text": [
      "Modeling the probability that killed==1\n",
      "Auto-assigning NUTS sampler...\n",
      "Initializing NUTS using jitter+adapt_diag...\n",
      "Multiprocess sampling (2 chains in 2 jobs)\n",
      "NUTS: [x, Intercept]\n"
     ]
    },
    {
     "data": {
      "text/html": [
       "\n",
       "<style>\n",
       "    /* Turns off some styling */\n",
       "    progress {\n",
       "        /* gets rid of default border in Firefox and Opera. */\n",
       "        border: none;\n",
       "        /* Needs to be in here for Safari polyfill so background images work as expected. */\n",
       "        background-size: auto;\n",
       "    }\n",
       "    .progress-bar-interrupted, .progress-bar-interrupted::-webkit-progress-bar {\n",
       "        background: #F44336;\n",
       "    }\n",
       "</style>\n"
      ],
      "text/plain": [
       "<IPython.core.display.HTML object>"
      ]
     },
     "metadata": {},
     "output_type": "display_data"
    },
    {
     "data": {
      "text/html": [
       "\n",
       "    <div>\n",
       "      <progress value='4000' class='' max='4000' style='width:300px; height:20px; vertical-align: middle;'></progress>\n",
       "      100.00% [4000/4000 00:02<00:00 Sampling 2 chains, 0 divergences]\n",
       "    </div>\n",
       "    "
      ],
      "text/plain": [
       "<IPython.core.display.HTML object>"
      ]
     },
     "metadata": {},
     "output_type": "display_data"
    },
    {
     "name": "stderr",
     "output_type": "stream",
     "text": [
      "Sampling 2 chains for 1_000 tune and 1_000 draw iterations (2_000 + 2_000 draws total) took 3 seconds.\n",
      "The acceptance probability does not match the target. It is 0.8794990003916735, but should be close to 0.8. Try to increase the number of tuning steps.\n"
     ]
    }
   ],
   "source": [
    "model_brn = bmb.Model(\"killed ~ x\", data_bernoulli, family=\"bernoulli\")\n",
    "idata_brn = model_brn.fit()"
   ]
  },
  {
   "cell_type": "markdown",
   "metadata": {},
   "source": [
    "and explore the marginal posteriors"
   ]
  },
  {
   "cell_type": "code",
   "execution_count": 6,
   "metadata": {},
   "outputs": [
    {
     "data": {
      "text/html": [
       "<div>\n",
       "<style scoped>\n",
       "    .dataframe tbody tr th:only-of-type {\n",
       "        vertical-align: middle;\n",
       "    }\n",
       "\n",
       "    .dataframe tbody tr th {\n",
       "        vertical-align: top;\n",
       "    }\n",
       "\n",
       "    .dataframe thead th {\n",
       "        text-align: right;\n",
       "    }\n",
       "</style>\n",
       "<table border=\"1\" class=\"dataframe\">\n",
       "  <thead>\n",
       "    <tr style=\"text-align: right;\">\n",
       "      <th></th>\n",
       "      <th>mean</th>\n",
       "      <th>sd</th>\n",
       "      <th>hdi_3%</th>\n",
       "      <th>hdi_97%</th>\n",
       "    </tr>\n",
       "  </thead>\n",
       "  <tbody>\n",
       "    <tr>\n",
       "      <th>Intercept</th>\n",
       "      <td>-60.917</td>\n",
       "      <td>5.188</td>\n",
       "      <td>-70.414</td>\n",
       "      <td>-51.186</td>\n",
       "    </tr>\n",
       "    <tr>\n",
       "      <th>x</th>\n",
       "      <td>34.382</td>\n",
       "      <td>2.918</td>\n",
       "      <td>28.968</td>\n",
       "      <td>39.777</td>\n",
       "    </tr>\n",
       "  </tbody>\n",
       "</table>\n",
       "</div>"
      ],
      "text/plain": [
       "             mean     sd  hdi_3%  hdi_97%\n",
       "Intercept -60.917  5.188 -70.414  -51.186\n",
       "x          34.382  2.918  28.968   39.777"
      ]
     },
     "execution_count": 6,
     "metadata": {},
     "output_type": "execute_result"
    }
   ],
   "source": [
    "az.summary(idata_brn, kind=\"stats\")"
   ]
  },
  {
   "cell_type": "markdown",
   "metadata": {},
   "source": [
    "We can predict the the probability of dying for out-of-sample data to see how\n",
    "it evolves with the different concentration levels."
   ]
  },
  {
   "cell_type": "code",
   "execution_count": 7,
   "metadata": {},
   "outputs": [],
   "source": [
    "new_data = pd.DataFrame({\"x\": np.linspace(1.6, 2, num=200)})\n",
    "model_brn.predict(idata_brn, data=new_data)"
   ]
  },
  {
   "cell_type": "code",
   "execution_count": 8,
   "metadata": {},
   "outputs": [
    {
     "data": {
      "image/png": "[encoded data removed]",
      "text/plain": [
       "<Figure size 720x504 with 1 Axes>"
      ]
     },
     "metadata": {
      "needs_background": "light"
     },
     "output_type": "display_data"
    }
   ],
   "source": [
    "fig, ax = plt.subplots(figsize=(10, 7))\n",
    "\n",
    "# Plot HDI for the mean of the probability of dying\n",
    "az.plot_hdi(\n",
    "  new_data[\"x\"], \n",
    "  idata_brn.posterior[\"killed_mean\"].values, \n",
    "  color=BLUE,\n",
    "  ax=ax\n",
    ")\n",
    "\n",
    "ax.plot(\n",
    "  new_data[\"x\"], \n",
    "  idata_brn.posterior[\"killed_mean\"].values.mean((0, 1)), \n",
    "  color=BLUE\n",
    ")\n",
    "\n",
    "ax.scatter(x, y / n, s=50, color=PURPLE, edgecolors=\"black\", zorder=10)\n",
    "ax.set_ylabel(\"Probability of death\")\n",
    "ax.set_xlabel(r\"Dose $\\log_{10}CS_2mgl^{-1}$\")\n",
    "ax.set_title(\"family='bernoulli'\")\n",
    "\n",
    "plt.show()"
   ]
  },
  {
   "cell_type": "markdown",
   "metadata": {},
   "source": [
    "## Binomial family\n",
    "\n",
    "Before writing down the model with the Binomial family, let's take a moment to\n",
    "review new notation that was added specifically for this purpose.\n",
    "\n",
    "The model formula syntax only allows us to pass one variable on its LHS. Then, \n",
    "how do we tell Bambi that what we want to model is the **proportion** that\n",
    "results from dividing **y** over **n**?\n",
    "\n",
    "Thanks to recent developments, it's as easy as writing `proportion(y, n)`, or\n",
    "any of its aliases `prop(y, n)` and `p(y, n)`. To keep it shorter, let's use the\n",
    "last one."
   ]
  },
  {
   "cell_type": "code",
   "execution_count": 9,
   "metadata": {},
   "outputs": [
    {
     "name": "stderr",
     "output_type": "stream",
     "text": [
      "Auto-assigning NUTS sampler...\n",
      "Initializing NUTS using jitter+adapt_diag...\n",
      "Multiprocess sampling (2 chains in 2 jobs)\n",
      "NUTS: [x, Intercept]\n"
     ]
    },
    {
     "data": {
      "text/html": [
       "\n",
       "<style>\n",
       "    /* Turns off some styling */\n",
       "    progress {\n",
       "        /* gets rid of default border in Firefox and Opera. */\n",
       "        border: none;\n",
       "        /* Needs to be in here for Safari polyfill so background images work as expected. */\n",
       "        background-size: auto;\n",
       "    }\n",
       "    .progress-bar-interrupted, .progress-bar-interrupted::-webkit-progress-bar {\n",
       "        background: #F44336;\n",
       "    }\n",
       "</style>\n"
      ],
      "text/plain": [
       "<IPython.core.display.HTML object>"
      ]
     },
     "metadata": {},
     "output_type": "display_data"
    },
    {
     "data": {
      "text/html": [
       "\n",
       "    <div>\n",
       "      <progress value='4000' class='' max='4000' style='width:300px; height:20px; vertical-align: middle;'></progress>\n",
       "      100.00% [4000/4000 00:01<00:00 Sampling 2 chains, 0 divergences]\n",
       "    </div>\n",
       "    "
      ],
      "text/plain": [
       "<IPython.core.display.HTML object>"
      ]
     },
     "metadata": {},
     "output_type": "display_data"
    },
    {
     "name": "stderr",
     "output_type": "stream",
     "text": [
      "Sampling 2 chains for 1_000 tune and 1_000 draw iterations (2_000 + 2_000 draws total) took 2 seconds.\n"
     ]
    }
   ],
   "source": [
    "model_bnml = bmb.Model(\"p(y, n) ~ x\", data, family=\"binomial\")\n",
    "idata_bnml = model_bnml.fit()"
   ]
  },
  {
   "cell_type": "markdown",
   "metadata": {},
   "source": [
    "Quite simple, right? The code here is very similar to the one for the model with\n",
    "the Bernoulli family. However, the new Binomial family allows us to\n",
    "**use the data in its original form**.\n",
    "\n",
    "Let's finish this section by getting the marginal posteriors as well as a figure\n",
    "as the one displayed above."
   ]
  },
  {
   "cell_type": "code",
   "execution_count": 10,
   "metadata": {},
   "outputs": [
    {
     "data": {
      "text/html": [
       "<div>\n",
       "<style scoped>\n",
       "    .dataframe tbody tr th:only-of-type {\n",
       "        vertical-align: middle;\n",
       "    }\n",
       "\n",
       "    .dataframe tbody tr th {\n",
       "        vertical-align: top;\n",
       "    }\n",
       "\n",
       "    .dataframe thead th {\n",
       "        text-align: right;\n",
       "    }\n",
       "</style>\n",
       "<table border=\"1\" class=\"dataframe\">\n",
       "  <thead>\n",
       "    <tr style=\"text-align: right;\">\n",
       "      <th></th>\n",
       "      <th>mean</th>\n",
       "      <th>sd</th>\n",
       "      <th>hdi_3%</th>\n",
       "      <th>hdi_97%</th>\n",
       "    </tr>\n",
       "  </thead>\n",
       "  <tbody>\n",
       "    <tr>\n",
       "      <th>Intercept</th>\n",
       "      <td>-61.053</td>\n",
       "      <td>5.095</td>\n",
       "      <td>-69.657</td>\n",
       "      <td>-50.276</td>\n",
       "    </tr>\n",
       "    <tr>\n",
       "      <th>x</th>\n",
       "      <td>34.462</td>\n",
       "      <td>2.861</td>\n",
       "      <td>28.477</td>\n",
       "      <td>39.293</td>\n",
       "    </tr>\n",
       "  </tbody>\n",
       "</table>\n",
       "</div>"
      ],
      "text/plain": [
       "             mean     sd  hdi_3%  hdi_97%\n",
       "Intercept -61.053  5.095 -69.657  -50.276\n",
       "x          34.462  2.861  28.477   39.293"
      ]
     },
     "execution_count": 10,
     "metadata": {},
     "output_type": "execute_result"
    }
   ],
   "source": [
    "az.summary(idata_bnml, kind=\"stats\")"
   ]
  },
  {
   "cell_type": "code",
   "execution_count": 11,
   "metadata": {},
   "outputs": [],
   "source": [
    "model_bnml.predict(idata_bnml, data=new_data)"
   ]
  },
  {
   "cell_type": "code",
   "execution_count": 12,
   "metadata": {},
   "outputs": [
    {
     "data": {
      "image/png": "[encoded data removed]",
      "text/plain": [
       "<Figure size 720x504 with 1 Axes>"
      ]
     },
     "metadata": {
      "needs_background": "light"
     },
     "output_type": "display_data"
    }
   ],
   "source": [
    "fig, ax = plt.subplots(figsize=(10, 7))\n",
    "\n",
    "az.plot_hdi(\n",
    "  new_data[\"x\"],\n",
    "  idata_bnml.posterior[\"p(y, n)_mean\"].values,\n",
    "  color=BLUE,\n",
    "  ax=ax\n",
    ")\n",
    "\n",
    "ax.plot(\n",
    "  new_data[\"x\"], \n",
    "  idata_bnml.posterior[\"p(y, n)_mean\"].values.mean((0, 1)), \n",
    "  color=BLUE\n",
    ")\n",
    "\n",
    "ax.scatter(x, y / n, s=50, color=PURPLE, edgecolors=\"black\", zorder=10)\n",
    "ax.set_ylabel(\"Probability of death\")\n",
    "ax.set_xlabel(r\"Dose $\\log_{10}CS_2mgl^{-1}$\")\n",
    "ax.set_title(\"family='binomial'\")\n",
    "\n",
    "plt.show()"
   ]
  },
  {
   "cell_type": "markdown",
   "metadata": {},
   "source": [
    "## Conclusions\n",
    "\n",
    "This blog post introduced the new Binomial family. This new family saves us \n",
    "from having to manipulate aggregated data prior to modeling, making it more \n",
    "pleasant and simpler to specify and fit models for binary data in Bambi."
   ]
  }
 ],
 "metadata": {
  "interpreter": {
   "hash": "1008626715a3728f1d66c057190bde332dc65ea99517a942c5f170959679b77d"
  },
  "kernelspec": {
   "display_name": "Python 3.9.12 ('bambi')",
   "language": "python",
   "name": "python3"
  },
  "language_info": {
   "codemirror_mode": {
    "name": "ipython",
    "version": 3
   },
   "file_extension": ".py",
   "mimetype": "text/x-python",
   "name": "python",
   "nbconvert_exporter": "python",
   "pygments_lexer": "ipython3",
   "version": "3.9.12"
  },
  "orig_nbformat": 4
 },
 "nbformat": 4,
 "nbformat_minor": 2
}
