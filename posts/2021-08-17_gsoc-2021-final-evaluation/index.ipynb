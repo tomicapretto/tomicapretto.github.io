{
 "cells": [
  {
   "cell_type": "raw",
   "metadata": {
    "vscode": {
     "languageId": "raw"
    }
   },
   "source": [
    "---\n",
    "title: \"GSOC 2021: Final evaluation\"\n",
    "summary: |\n",
    "  Final post about Google Summer of Code 2021. <br>\n",
    "  This post sums up my contributions to the Bambi library during the ten weeks of this program.\n",
    "date: \"2021-08-17\"\n",
    "---"
   ]
  },
  {
   "cell_type": "markdown",
   "metadata": {},
   "source": [
    "In this short blogpost, I'm going to summarize my contributions to the Bambi\n",
    "library during this Google Summer of Code.\n",
    "\n",
    "GSoC has been great. I've learnt so much during the past weeks. And I'm\n",
    "obviously eager to keep learning and doing stuff with \n",
    "[Bambi](https://bambinos.github.io/bambi) in the future. The following is a\n",
    "summary of what we were able to achieve during these time of code:\n",
    "\n",
    "* Implemented new default priors [#360](https://github.com/bambinos/bambi/pull/360), [#385](https://github.com/bambinos/bambi/pull/385).\n",
    "* Added new Student-T family [#367](https://github.com/bambinos/bambi/pull/367).\n",
    "* Added new Beta family [#368](https://github.com/bambinos/bambi/pull/368).\n",
    "* Implemented predictions [#372](https://github.com/bambinos/bambi/pull/372).\n",
    "* Improved internal model specification by splitting it into smaller and composable \n",
    "classes [#366](https://github.com/bambinos/bambi/pull/366).\n",
    "* Added the new Binomial family [#386](https://github.com/bambinos/bambi/pull/386). \n",
    "This also implied [some changes](https://github.com/bambinos/formulae/pull/48) \n",
    "in its sibling project, [formulae](https://bambinos.github.io/formulae).\n",
    "\n",
    "This, with many other smaller changes or improvements that you can find \n",
    "[here](https://github.com/bambinos/bambi/commits?author=tomicapretto) were \n",
    "included in [Bambi 0.6.0](https://pypi.org/project/bambi/0.6.0/).\n",
    "\n",
    "On the other hand, the items on my original proposal that left to do are \n",
    "multinomial regression and ordered categorical terms. I've started to do some \n",
    "work on the formulae side, but these features require a more involved work in \n",
    "Bambi, and thus it is left for future contributions.\n",
    "\n",
    "To conclude, I want to thank Google for having such an amazing program and \n",
    "everyone who contributed or helped me to contribute to Bambi. Specially, I want \n",
    "to recognize the the work of my mentors Ravin Kumar and Thomas Wiecki, and my \n",
    "director Osvaldo Martin for all the support, feedback, and work \n",
    "during this program."
   ]
  }
 ],
 "metadata": {
  "language_info": {
   "name": "python"
  },
  "orig_nbformat": 4
 },
 "nbformat": 4,
 "nbformat_minor": 2
}
