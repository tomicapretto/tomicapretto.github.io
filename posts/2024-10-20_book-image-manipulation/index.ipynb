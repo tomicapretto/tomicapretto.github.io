{
 "cells": [
  {
   "cell_type": "raw",
   "metadata": {
    "vscode": {
     "languageId": "raw"
    }
   },
   "source": [
    "---\n",
    "title: \"How I resize images for my reading list\"\n",
    "date: \"2024-10-20\"\n",
    "---"
   ]
  },
  {
   "cell_type": "code",
   "execution_count": 1,
   "metadata": {},
   "outputs": [],
   "source": [
    "from PIL import Image\n",
    "import os\n",
    "import pathlib"
   ]
  },
  {
   "cell_type": "code",
   "execution_count": 2,
   "metadata": {},
   "outputs": [],
   "source": [
    "base_dir = pathlib.Path(\"../../data/books\").resolve()\n",
    "available_images = os.listdir(base_dir)\n",
    "\n",
    "new_width = 200\n",
    "\n",
    "for image_file in available_images:\n",
    "    image_path = base_dir / image_file\n",
    "    image_webp_path = base_dir / (image_path.stem + \".webp\")\n",
    "    \n",
    "    with Image.open(image_path) as img:\n",
    "        if image_path.suffix == \".webp\" and img.size[0] == new_width:\n",
    "            continue\n",
    "        \n",
    "        # Calculate the new height to maintain the aspect ratios\n",
    "        width_percent = new_width / img.size[0]\n",
    "        new_height = int(img.size[1] * width_percent)\n",
    "\n",
    "        # Resize the image\n",
    "        resized_img = img.resize((new_width, new_height), Image.LANCZOS)\n",
    "\n",
    "        resized_img.save(image_webp_path, \"webp\")\n",
    "    \n",
    "    if image_path.suffix != \".webp\":\n",
    "        os.remove(image_path)"
   ]
  }
 ],
 "metadata": {
  "kernelspec": {
   "display_name": "base",
   "language": "python",
   "name": "python3"
  },
  "language_info": {
   "codemirror_mode": {
    "name": "ipython",
    "version": 3
   },
   "file_extension": ".py",
   "mimetype": "text/x-python",
   "name": "python",
   "nbconvert_exporter": "python",
   "pygments_lexer": "ipython3",
   "version": "3.12.6"
  }
 },
 "nbformat": 4,
 "nbformat_minor": 2
}
