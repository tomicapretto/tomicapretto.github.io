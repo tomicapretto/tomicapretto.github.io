{
 "cells": [
  {
   "cell_type": "code",
   "execution_count": 1,
   "id": "86aaa94d",
   "metadata": {},
   "outputs": [],
   "source": [
    "import arviz as az\n",
    "import matplotlib.pyplot as plt\n",
    "import numpy as np\n",
    "import polars as pl\n",
    "import pymc as pm"
   ]
  },
  {
   "cell_type": "code",
   "execution_count": 2,
   "id": "cbc0b3bf",
   "metadata": {},
   "outputs": [
    {
     "data": {
      "text/html": [
       "<div><style>\n",
       ".dataframe > thead > tr,\n",
       ".dataframe > tbody > tr {\n",
       "  text-align: right;\n",
       "  white-space: pre-wrap;\n",
       "}\n",
       "</style>\n",
       "<small>shape: (2_035, 8)</small><table border=\"1\" class=\"dataframe\"><thead><tr><th>x</th><th>y</th><th>pos</th><th>age</th><th>netuse</th><th>treated</th><th>green</th><th>phc</th></tr><tr><td>f64</td><td>i64</td><td>i64</td><td>i64</td><td>i64</td><td>i64</td><td>f64</td><td>i64</td></tr></thead><tbody><tr><td>349631.3</td><td>1458055</td><td>1</td><td>1783</td><td>0</td><td>0</td><td>40.85</td><td>1</td></tr><tr><td>349631.3</td><td>1458055</td><td>0</td><td>404</td><td>1</td><td>0</td><td>40.85</td><td>1</td></tr><tr><td>349631.3</td><td>1458055</td><td>0</td><td>452</td><td>1</td><td>0</td><td>40.85</td><td>1</td></tr><tr><td>349631.3</td><td>1458055</td><td>1</td><td>566</td><td>1</td><td>0</td><td>40.85</td><td>1</td></tr><tr><td>349631.3</td><td>1458055</td><td>0</td><td>598</td><td>1</td><td>0</td><td>40.85</td><td>1</td></tr><tr><td>&hellip;</td><td>&hellip;</td><td>&hellip;</td><td>&hellip;</td><td>&hellip;</td><td>&hellip;</td><td>&hellip;</td><td>&hellip;</td></tr><tr><td>622086.1</td><td>1474011</td><td>1</td><td>1705</td><td>1</td><td>0</td><td>50.1</td><td>1</td></tr><tr><td>622086.1</td><td>1474011</td><td>1</td><td>1704</td><td>1</td><td>0</td><td>50.1</td><td>1</td></tr><tr><td>622086.1</td><td>1474011</td><td>1</td><td>1733</td><td>0</td><td>0</td><td>50.1</td><td>1</td></tr><tr><td>622086.1</td><td>1474011</td><td>0</td><td>1825</td><td>0</td><td>0</td><td>50.1</td><td>1</td></tr><tr><td>622086.1</td><td>1474011</td><td>0</td><td>1836</td><td>1</td><td>0</td><td>50.1</td><td>1</td></tr></tbody></table></div>"
      ],
      "text/plain": [
       "shape: (2_035, 8)\n",
       "┌──────────┬─────────┬─────┬──────┬────────┬─────────┬───────┬─────┐\n",
       "│ x        ┆ y       ┆ pos ┆ age  ┆ netuse ┆ treated ┆ green ┆ phc │\n",
       "│ ---      ┆ ---     ┆ --- ┆ ---  ┆ ---    ┆ ---     ┆ ---   ┆ --- │\n",
       "│ f64      ┆ i64     ┆ i64 ┆ i64  ┆ i64    ┆ i64     ┆ f64   ┆ i64 │\n",
       "╞══════════╪═════════╪═════╪══════╪════════╪═════════╪═══════╪═════╡\n",
       "│ 349631.3 ┆ 1458055 ┆ 1   ┆ 1783 ┆ 0      ┆ 0       ┆ 40.85 ┆ 1   │\n",
       "│ 349631.3 ┆ 1458055 ┆ 0   ┆ 404  ┆ 1      ┆ 0       ┆ 40.85 ┆ 1   │\n",
       "│ 349631.3 ┆ 1458055 ┆ 0   ┆ 452  ┆ 1      ┆ 0       ┆ 40.85 ┆ 1   │\n",
       "│ 349631.3 ┆ 1458055 ┆ 1   ┆ 566  ┆ 1      ┆ 0       ┆ 40.85 ┆ 1   │\n",
       "│ 349631.3 ┆ 1458055 ┆ 0   ┆ 598  ┆ 1      ┆ 0       ┆ 40.85 ┆ 1   │\n",
       "│ …        ┆ …       ┆ …   ┆ …    ┆ …      ┆ …       ┆ …     ┆ …   │\n",
       "│ 622086.1 ┆ 1474011 ┆ 1   ┆ 1705 ┆ 1      ┆ 0       ┆ 50.1  ┆ 1   │\n",
       "│ 622086.1 ┆ 1474011 ┆ 1   ┆ 1704 ┆ 1      ┆ 0       ┆ 50.1  ┆ 1   │\n",
       "│ 622086.1 ┆ 1474011 ┆ 1   ┆ 1733 ┆ 0      ┆ 0       ┆ 50.1  ┆ 1   │\n",
       "│ 622086.1 ┆ 1474011 ┆ 0   ┆ 1825 ┆ 0      ┆ 0       ┆ 50.1  ┆ 1   │\n",
       "│ 622086.1 ┆ 1474011 ┆ 0   ┆ 1836 ┆ 1      ┆ 0       ┆ 50.1  ┆ 1   │\n",
       "└──────────┴─────────┴─────┴──────┴────────┴─────────┴───────┴─────┘"
      ]
     },
     "execution_count": 2,
     "metadata": {},
     "output_type": "execute_result"
    }
   ],
   "source": [
    "df = pl.read_csv(\"gambia.csv\")\n",
    "df"
   ]
  },
  {
   "cell_type": "code",
   "execution_count": 3,
   "id": "95b9080a",
   "metadata": {},
   "outputs": [
    {
     "data": {
      "text/plain": [
       "array([1, 0, 0, ..., 1, 0, 0], shape=(2035,))"
      ]
     },
     "execution_count": 3,
     "metadata": {},
     "output_type": "execute_result"
    }
   ],
   "source": [
    "y = df.get_column(\"pos\").to_numpy()\n",
    "X = df.select(\"age\", \"netuse\", \"treated\", \"green\", \"phc\").to_numpy()\n",
    "y"
   ]
  },
  {
   "cell_type": "code",
   "execution_count": 4,
   "id": "e2a881ce",
   "metadata": {},
   "outputs": [
    {
     "data": {
      "text/plain": [
       "array([[ 1.65055383, -1.56872061, -0.61692545, -0.84646886,  0.6804236 ],\n",
       "       [-1.58918131,  0.63746214, -0.61692545, -0.84646886,  0.6804236 ],\n",
       "       [-1.47641315,  0.63746214, -0.61692545, -0.84646886,  0.6804236 ],\n",
       "       ...,\n",
       "       [ 1.533087  , -1.56872061, -0.61692545,  0.44666349,  0.6804236 ],\n",
       "       [ 1.74922597, -1.56872061, -0.61692545,  0.44666349,  0.6804236 ],\n",
       "       [ 1.77506867,  0.63746214, -0.61692545,  0.44666349,  0.6804236 ]],\n",
       "      shape=(2035, 5))"
      ]
     },
     "execution_count": 4,
     "metadata": {},
     "output_type": "execute_result"
    }
   ],
   "source": [
    "X_std = (X - X.mean(0)) / X.std(0)\n",
    "X_std"
   ]
  },
  {
   "cell_type": "code",
   "execution_count": 80,
   "id": "7bb8dfea",
   "metadata": {},
   "outputs": [
    {
     "data": {
      "text/plain": [
       "array([1.47463048, 0.66712989, 0.76940629, 1.67539416])"
      ]
     },
     "execution_count": 80,
     "metadata": {},
     "output_type": "execute_result"
    }
   ],
   "source": [
    "import numpy as np\n",
    "from scipy import stats\n",
    "from scipy.optimize import minimize, minimize_scalar\n",
    "from scipy.special import beta\n",
    "\n",
    "def expit(x):\n",
    "    return 1 / (1 + np.exp(-x))\n",
    "\n",
    "\n",
    "def dgbetapr(x, a, b, c, d):\n",
    "    return c * (x / d) ** (a * c - 1) * (1 + (x / d) ** c) ** (-a - b) / (d * beta(a, b))\n",
    "\n",
    "\n",
    "def W_to_R2_scalar(x, b0):\n",
    "    # Equation 3 ?\n",
    "    K = 1000\n",
    "    p_grid = np.linspace(1, K - 1, num=K - 1) / K\n",
    "\n",
    "    probs = expit(stats.norm(loc=b0, scale=x ** 0.5).ppf(p_grid))\n",
    "\n",
    "    # Equations 11 and 12? Maybe 13 I think?\n",
    "    M = np.sum(probs ** 2) / (K - 1) - (np.sum(probs) / (K - 1)) ** 2\n",
    "    V = np.sum(probs * (1 - probs)) / (K - 1)\n",
    "\n",
    "    return M / (M + V)\n",
    "\n",
    "\n",
    "def W_to_R2(W, b0):\n",
    "    return np.array([W_to_R2_scalar(w, b0) for w in np.atleast_1d(W)])\n",
    "\n",
    "\n",
    "def dw(w, a, b, b0):\n",
    "    # Density function of W\n",
    "    # Computes values of the density function of W induced by a Beta(a, b) prior on R2.\n",
    "    delta = 0.001\n",
    "    diff = pw(w=w + delta, a=a, b=b, b0=b0) - pw(w=w - delta, a=a, b=b, b0=b0)\n",
    "    return diff / (2 * delta)\n",
    "\n",
    "\n",
    "def pw(w, a, b, b0):\n",
    "    # Cumulative Distribution Function (CDF) of W\n",
    "    # Computes values of the CDF of W induced by a Beta(a, b) prior on R2.\n",
    "    R2 = W_to_R2(w, b0)\n",
    "    return stats.beta.cdf(R2, a=a, b=b)\n",
    "\n",
    "\n",
    "def qw(p, a, b, b0):\n",
    "    # Quantile Function of W\n",
    "    # Computes the quantiles of W induced by a Beta(a,b) prior on R2.\n",
    "    def inner(p):\n",
    "        def distance(logw):\n",
    "            return (pw(w=np.exp(logw), a=a, b=b, b0=b0) - p) ** 2\n",
    "\n",
    "        output = minimize_scalar(\n",
    "            distance,\n",
    "            bounds=(np.log(1/100000), np.log(100000)),\n",
    "            method=\"bounded\"\n",
    "        ).x\n",
    "\n",
    "        return np.exp(output)\n",
    "\n",
    "    return np.array([inner(p_i) for p_i in np.atleast_1d(p)])\n",
    "\n",
    "\n",
    "def WGBP(a=1, b=1, b0=0, lam=0.25, x0=np.ones(4), method=\"Powell\"):\n",
    "    tau = np.linspace(0.01, 0.99, num=100)\n",
    "    w = qw(p=tau, a=a, b=b, b0=b0).flatten()\n",
    "    py = dw(w=w, a=a, b=b, b0=b0).flatten()\n",
    "\n",
    "\n",
    "    def distance_fun(log_params):\n",
    "        params = np.exp(log_params)\n",
    "        px = dgbetapr(w, *params)\n",
    "        log_target = np.log(np.array([a, b, 1, 1]))\n",
    "\n",
    "        penalty = lam * np.sum((log_params - log_target) ** 2)\n",
    "        distance = np.sum((1 - px / py) ** 2) + penalty\n",
    "        return distance\n",
    "\n",
    "    result = minimize(distance_fun, x0=np.log(np.ones(4)), method=method)\n",
    "\n",
    "    if result.success:\n",
    "        return np.exp(result.x)\n",
    "\n",
    "    raise Exception(\"Minimization didn't converge\")\n",
    "\n",
    "params = WGBP(a=1, b=1, b0=0, lam=0.25)\n",
    "params"
   ]
  },
  {
   "cell_type": "code",
   "execution_count": 76,
   "id": "b991bf33",
   "metadata": {},
   "outputs": [
    {
     "data": {
      "text/plain": [
       "array([1.47463048, 0.66712989, 0.76940629, 1.67539416])"
      ]
     },
     "execution_count": 76,
     "metadata": {},
     "output_type": "execute_result"
    }
   ],
   "source": [
    "np.exp(m.x)"
   ]
  },
  {
   "cell_type": "code",
   "execution_count": null,
   "id": "641c31ec",
   "metadata": {},
   "outputs": [],
   "source": [
    "params = np.array([1.4722786, 0.6494361, 0.7887448, 1.6711417])"
   ]
  },
  {
   "cell_type": "code",
   "execution_count": null,
   "id": "d029993e",
   "metadata": {},
   "outputs": [],
   "source": [
    "coords = {\n",
    "    \"predictor\": [\"age\", \"netuse\", \"treated\", \"green\", \"phc\"],\n",
    "    \"__obs__\": np.arange(X_std.shape[0])\n",
    "}\n",
    "\n",
    "with pm.Model(coords=coords) as model:\n",
    "    V = pm.Beta(\"V\", alpha=params[0], beta=params[1])\n",
    "    W = pm.Deterministic(\"W\", (V / (1 - V)) ** (1 / params[2]) * params[3])\n",
    "    d = pm.Dirichlet(\"d\", a=np.ones(5), dims=\"predictor\")\n",
    "\n",
    "    beta0 = pm.Normal(\"beta0\", mu=0, sigma=3 ** 0.5)\n",
    "    beta = pm.Normal(\"beta\", mu=0, sigma=(W * d) ** 0.5, dims=\"predictor\")\n",
    "\n",
    "    eta = pm.Deterministic(\"eta\", beta0 + X_std @ beta, dims=\"__obs__\")\n",
    "    p = pm.Deterministic(\"p\", pm.math.sigmoid(eta), dims=\"__obs__\")\n",
    "    pm.Bernoulli(\"y\", p=p, observed=y, dims=\"__obs__\")\n",
    "\n",
    "model.to_graphviz()"
   ]
  },
  {
   "cell_type": "code",
   "execution_count": null,
   "id": "3f38913c",
   "metadata": {},
   "outputs": [],
   "source": [
    "with model:\n",
    "    idata = pm.sample(target_accept=0.95)"
   ]
  },
  {
   "cell_type": "code",
   "execution_count": null,
   "id": "7bb89272",
   "metadata": {},
   "outputs": [],
   "source": [
    "az.plot_trace(idata, var_names=[\"V\", \"W\", \"d\", \"beta0\", \"beta\"], backend_kwargs={\"layout\": \"constrained\"});"
   ]
  }
 ],
 "metadata": {
  "kernelspec": {
   "display_name": "pymc-env",
   "language": "python",
   "name": "python3"
  },
  "language_info": {
   "codemirror_mode": {
    "name": "ipython",
    "version": 3
   },
   "file_extension": ".py",
   "mimetype": "text/x-python",
   "name": "python",
   "nbconvert_exporter": "python",
   "pygments_lexer": "ipython3",
   "version": "3.12.2"
  }
 },
 "nbformat": 4,
 "nbformat_minor": 5
}
