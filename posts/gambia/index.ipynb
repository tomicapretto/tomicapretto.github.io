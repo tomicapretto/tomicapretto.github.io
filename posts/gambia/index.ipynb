{
 "cells": [
  {
   "cell_type": "code",
   "execution_count": 1,
   "id": "86aaa94d",
   "metadata": {},
   "outputs": [],
   "source": [
    "import arviz as az\n",
    "import matplotlib.pyplot as plt\n",
    "import numpy as np\n",
    "import polars as pl\n",
    "import pymc as pm"
   ]
  },
  {
   "cell_type": "code",
   "execution_count": 2,
   "id": "cbc0b3bf",
   "metadata": {},
   "outputs": [
    {
     "data": {
      "text/html": [
       "<div><style>\n",
       ".dataframe > thead > tr,\n",
       ".dataframe > tbody > tr {\n",
       "  text-align: right;\n",
       "  white-space: pre-wrap;\n",
       "}\n",
       "</style>\n",
       "<small>shape: (2_035, 8)</small><table border=\"1\" class=\"dataframe\"><thead><tr><th>x</th><th>y</th><th>pos</th><th>age</th><th>netuse</th><th>treated</th><th>green</th><th>phc</th></tr><tr><td>f64</td><td>i64</td><td>i64</td><td>i64</td><td>i64</td><td>i64</td><td>f64</td><td>i64</td></tr></thead><tbody><tr><td>349631.3</td><td>1458055</td><td>1</td><td>1783</td><td>0</td><td>0</td><td>40.85</td><td>1</td></tr><tr><td>349631.3</td><td>1458055</td><td>0</td><td>404</td><td>1</td><td>0</td><td>40.85</td><td>1</td></tr><tr><td>349631.3</td><td>1458055</td><td>0</td><td>452</td><td>1</td><td>0</td><td>40.85</td><td>1</td></tr><tr><td>349631.3</td><td>1458055</td><td>1</td><td>566</td><td>1</td><td>0</td><td>40.85</td><td>1</td></tr><tr><td>349631.3</td><td>1458055</td><td>0</td><td>598</td><td>1</td><td>0</td><td>40.85</td><td>1</td></tr><tr><td>&hellip;</td><td>&hellip;</td><td>&hellip;</td><td>&hellip;</td><td>&hellip;</td><td>&hellip;</td><td>&hellip;</td><td>&hellip;</td></tr><tr><td>622086.1</td><td>1474011</td><td>1</td><td>1705</td><td>1</td><td>0</td><td>50.1</td><td>1</td></tr><tr><td>622086.1</td><td>1474011</td><td>1</td><td>1704</td><td>1</td><td>0</td><td>50.1</td><td>1</td></tr><tr><td>622086.1</td><td>1474011</td><td>1</td><td>1733</td><td>0</td><td>0</td><td>50.1</td><td>1</td></tr><tr><td>622086.1</td><td>1474011</td><td>0</td><td>1825</td><td>0</td><td>0</td><td>50.1</td><td>1</td></tr><tr><td>622086.1</td><td>1474011</td><td>0</td><td>1836</td><td>1</td><td>0</td><td>50.1</td><td>1</td></tr></tbody></table></div>"
      ],
      "text/plain": [
       "shape: (2_035, 8)\n",
       "┌──────────┬─────────┬─────┬──────┬────────┬─────────┬───────┬─────┐\n",
       "│ x        ┆ y       ┆ pos ┆ age  ┆ netuse ┆ treated ┆ green ┆ phc │\n",
       "│ ---      ┆ ---     ┆ --- ┆ ---  ┆ ---    ┆ ---     ┆ ---   ┆ --- │\n",
       "│ f64      ┆ i64     ┆ i64 ┆ i64  ┆ i64    ┆ i64     ┆ f64   ┆ i64 │\n",
       "╞══════════╪═════════╪═════╪══════╪════════╪═════════╪═══════╪═════╡\n",
       "│ 349631.3 ┆ 1458055 ┆ 1   ┆ 1783 ┆ 0      ┆ 0       ┆ 40.85 ┆ 1   │\n",
       "│ 349631.3 ┆ 1458055 ┆ 0   ┆ 404  ┆ 1      ┆ 0       ┆ 40.85 ┆ 1   │\n",
       "│ 349631.3 ┆ 1458055 ┆ 0   ┆ 452  ┆ 1      ┆ 0       ┆ 40.85 ┆ 1   │\n",
       "│ 349631.3 ┆ 1458055 ┆ 1   ┆ 566  ┆ 1      ┆ 0       ┆ 40.85 ┆ 1   │\n",
       "│ 349631.3 ┆ 1458055 ┆ 0   ┆ 598  ┆ 1      ┆ 0       ┆ 40.85 ┆ 1   │\n",
       "│ …        ┆ …       ┆ …   ┆ …    ┆ …      ┆ …       ┆ …     ┆ …   │\n",
       "│ 622086.1 ┆ 1474011 ┆ 1   ┆ 1705 ┆ 1      ┆ 0       ┆ 50.1  ┆ 1   │\n",
       "│ 622086.1 ┆ 1474011 ┆ 1   ┆ 1704 ┆ 1      ┆ 0       ┆ 50.1  ┆ 1   │\n",
       "│ 622086.1 ┆ 1474011 ┆ 1   ┆ 1733 ┆ 0      ┆ 0       ┆ 50.1  ┆ 1   │\n",
       "│ 622086.1 ┆ 1474011 ┆ 0   ┆ 1825 ┆ 0      ┆ 0       ┆ 50.1  ┆ 1   │\n",
       "│ 622086.1 ┆ 1474011 ┆ 0   ┆ 1836 ┆ 1      ┆ 0       ┆ 50.1  ┆ 1   │\n",
       "└──────────┴─────────┴─────┴──────┴────────┴─────────┴───────┴─────┘"
      ]
     },
     "execution_count": 2,
     "metadata": {},
     "output_type": "execute_result"
    }
   ],
   "source": [
    "df = pl.read_csv(\"gambia.csv\")\n",
    "df"
   ]
  },
  {
   "cell_type": "code",
   "execution_count": 3,
   "id": "95b9080a",
   "metadata": {},
   "outputs": [
    {
     "data": {
      "text/plain": [
       "array([1, 0, 0, ..., 1, 0, 0], shape=(2035,))"
      ]
     },
     "execution_count": 3,
     "metadata": {},
     "output_type": "execute_result"
    }
   ],
   "source": [
    "y = df.get_column(\"pos\").to_numpy()\n",
    "X = df.select(\"age\", \"netuse\", \"treated\", \"green\", \"phc\").to_numpy()\n",
    "y"
   ]
  },
  {
   "cell_type": "code",
   "execution_count": 4,
   "id": "e2a881ce",
   "metadata": {},
   "outputs": [
    {
     "data": {
      "text/plain": [
       "array([[ 1.65055383, -1.56872061, -0.61692545, -0.84646886,  0.6804236 ],\n",
       "       [-1.58918131,  0.63746214, -0.61692545, -0.84646886,  0.6804236 ],\n",
       "       [-1.47641315,  0.63746214, -0.61692545, -0.84646886,  0.6804236 ],\n",
       "       ...,\n",
       "       [ 1.533087  , -1.56872061, -0.61692545,  0.44666349,  0.6804236 ],\n",
       "       [ 1.74922597, -1.56872061, -0.61692545,  0.44666349,  0.6804236 ],\n",
       "       [ 1.77506867,  0.63746214, -0.61692545,  0.44666349,  0.6804236 ]],\n",
       "      shape=(2035, 5))"
      ]
     },
     "execution_count": 4,
     "metadata": {},
     "output_type": "execute_result"
    }
   ],
   "source": [
    "X_std = (X - X.mean(0)) / X.std(0)\n",
    "X_std"
   ]
  },
  {
   "cell_type": "code",
   "execution_count": 6,
   "id": "f13fefd2",
   "metadata": {},
   "outputs": [],
   "source": [
    "# def WGBP(a, b, lam, b0, theta, mu, sigma2, disp):\n",
    "#     tau = np.linspace(0.01, 0.99, num=100)\n",
    "\n",
    "#     w = qw(p=tau, a=a, b=b, b0=b0, theta=theta, mu=mu, sigma2=sigma2, disp=disp)\n",
    "#     py = dw(w=w, a=a, b=b, b0=b0, theta=theta, mu=mu, sigma2=sigma2, disp=disp)\n"
   ]
  },
  {
   "cell_type": "code",
   "execution_count": 17,
   "id": "750ed075",
   "metadata": {},
   "outputs": [
    {
     "data": {
      "text/plain": [
       "np.float64(0.11428571428571428)"
      ]
     },
     "execution_count": 17,
     "metadata": {},
     "output_type": "execute_result"
    }
   ],
   "source": [
    "beta(2, 2.5)"
   ]
  },
  {
   "cell_type": "code",
   "execution_count": 19,
   "id": "7bb8dfea",
   "metadata": {},
   "outputs": [],
   "source": [
    "import numpy as np\n",
    "from scipy import stats\n",
    "from scipy.optimize import minimize, minimize_scalar\n",
    "from scipy.special import beta\n",
    "\n",
    "def expit(x):\n",
    "    return 1 / (1 + np.exp(-x))\n",
    "\n",
    "\n",
    "def dgbetapr(x, a, b, c, d):\n",
    "    return c * (x / d) ** (a * c - 1) * (1 + (x / d) ** c) ** (-a - b) / (d * beta(a, b))\n",
    "\n",
    "\n",
    "def W_to_R2_scalar(x, b0):\n",
    "    # Equation 3 ?\n",
    "    K = 1000\n",
    "    p_grid = np.linspace(1, K - 1, num=K - 1) / K\n",
    "\n",
    "    probs = expit(stats.norm(loc=b0, scale=x ** 0.5).ppf(p_grid))\n",
    "\n",
    "    M = np.sum(probs ** 2) / (K - 1) - (np.sum(probs) / (K - 1)) ** 2\n",
    "    V = np.sum(probs * (1 - probs)) / (K - 1)\n",
    "\n",
    "    return M / (M + V)\n",
    "\n",
    "\n",
    "def W_to_R2(W, b0):\n",
    "    return np.array([W_to_R2_scalar(w, b0) for w in np.atleast_1d(W)])\n",
    "\n",
    "\n",
    "def dw(w, a, b, b0):\n",
    "    # Density function of W\n",
    "    # Computes values of the density function of W induced by a Beta(a, b) prior on R2.\n",
    "    delta = 0.001\n",
    "    diff = pw(w=w + delta, a=a, b=b, b0=b0) - pw(w=w - delta, a=a, b=b, b0=b0)\n",
    "    return diff / (2 * delta)\n",
    "\n",
    "\n",
    "def pw(w, a, b, b0):\n",
    "    # Cumulative Distribution Function (CDF) of W\n",
    "    # Computes values of the CDF of W induced by a Beta(a, b) prior on R2.\n",
    "    R2 = W_to_R2(w, b0)\n",
    "    return stats.beta.cdf(R2, a=a, b=b)\n",
    "\n",
    "\n",
    "def qw(p, a, b, b0):\n",
    "    # Quantile Function of W\n",
    "    # Computes the quantiles of W induced by a Beta(a,b) prior on R2.\n",
    "    def inner(p):\n",
    "        def distance(logw):\n",
    "            return (pw(w=np.exp(logw), a=a, b=b, b0=b0) - p) ** 2\n",
    "\n",
    "        output = minimize_scalar(\n",
    "            distance,\n",
    "            bounds=(np.log(1/100000), np.log(100000)),\n",
    "            method=\"bounded\"\n",
    "        ).x\n",
    "\n",
    "        return np.exp(output)\n",
    "\n",
    "    return np.array([inner(p_i) for p_i in np.atleast_1d(p)])"
   ]
  },
  {
   "cell_type": "code",
   "execution_count": 11,
   "id": "375e1563",
   "metadata": {},
   "outputs": [
    {
     "data": {
      "text/plain": [
       "array([[  0.49473469],\n",
       "       [  1.23087283],\n",
       "       [  2.35398589],\n",
       "       [  4.14097597],\n",
       "       [  7.17140156],\n",
       "       [ 12.83173489],\n",
       "       [ 25.16507947],\n",
       "       [ 60.54832116],\n",
       "       [251.8803078 ]])"
      ]
     },
     "execution_count": 11,
     "metadata": {},
     "output_type": "execute_result"
    }
   ],
   "source": [
    "qw(np.linspace(0.1, 0.9, num=9), 1, 1, 0)"
   ]
  },
  {
   "cell_type": "code",
   "execution_count": 21,
   "id": "61becf87",
   "metadata": {},
   "outputs": [
    {
     "data": {
      "text/plain": [
       "[np.int64(1), np.int64(2), np.int64(3), np.int64(4)]"
      ]
     },
     "execution_count": 21,
     "metadata": {},
     "output_type": "execute_result"
    }
   ],
   "source": [
    "[*np.array([1, 2, 3, 4])]"
   ]
  },
  {
   "cell_type": "code",
   "execution_count": 64,
   "id": "5be04651",
   "metadata": {},
   "outputs": [
    {
     "data": {
      "text/plain": [
       "array([0.01      , 0.01989899, 0.02979798, 0.03969697, 0.04959596,\n",
       "       0.05949495, 0.06939394, 0.07929293, 0.08919192, 0.09909091,\n",
       "       0.1089899 , 0.11888889, 0.12878788, 0.13868687, 0.14858586,\n",
       "       0.15848485, 0.16838384, 0.17828283, 0.18818182, 0.19808081,\n",
       "       0.2079798 , 0.21787879, 0.22777778, 0.23767677, 0.24757576,\n",
       "       0.25747475, 0.26737374, 0.27727273, 0.28717172, 0.29707071,\n",
       "       0.3069697 , 0.31686869, 0.32676768, 0.33666667, 0.34656566,\n",
       "       0.35646465, 0.36636364, 0.37626263, 0.38616162, 0.39606061,\n",
       "       0.4059596 , 0.41585859, 0.42575758, 0.43565657, 0.44555556,\n",
       "       0.45545455, 0.46535354, 0.47525253, 0.48515152, 0.49505051,\n",
       "       0.50494949, 0.51484848, 0.52474747, 0.53464646, 0.54454545,\n",
       "       0.55444444, 0.56434343, 0.57424242, 0.58414141, 0.5940404 ,\n",
       "       0.60393939, 0.61383838, 0.62373737, 0.63363636, 0.64353535,\n",
       "       0.65343434, 0.66333333, 0.67323232, 0.68313131, 0.6930303 ,\n",
       "       0.70292929, 0.71282828, 0.72272727, 0.73262626, 0.74252525,\n",
       "       0.75242424, 0.76232323, 0.77222222, 0.78212121, 0.7920202 ,\n",
       "       0.80191919, 0.81181818, 0.82171717, 0.83161616, 0.84151515,\n",
       "       0.85141414, 0.86131313, 0.87121212, 0.88111111, 0.8910101 ,\n",
       "       0.90090909, 0.91080808, 0.92070707, 0.93060606, 0.94050505,\n",
       "       0.95040404, 0.96030303, 0.97020202, 0.98010101, 0.99      ])"
      ]
     },
     "execution_count": 64,
     "metadata": {},
     "output_type": "execute_result"
    }
   ],
   "source": [
    "np.linspace(0.01, 0.99, num=100)"
   ]
  },
  {
   "cell_type": "code",
   "execution_count": 74,
   "id": "8e34ba4a",
   "metadata": {},
   "outputs": [
    {
     "data": {
      "text/plain": [
       " message: Optimization terminated successfully.\n",
       " success: True\n",
       "  status: 0\n",
       "     fun: 0.18151544539677256\n",
       "       x: [ 3.884e-01 -4.048e-01 -2.621e-01  5.160e-01]\n",
       "     nit: 18\n",
       "   direc: [[-1.683e-01 -1.102e-01  7.743e-02  1.813e-01]\n",
       "           [-1.218e-02  5.951e-03  1.516e-03  3.077e-02]\n",
       "           [ 2.698e-02  1.096e-01 -5.764e-02  1.728e-01]\n",
       "           [-7.392e-03 -6.077e-03  5.505e-03  6.312e-03]]\n",
       "    nfev: 766"
      ]
     },
     "execution_count": 74,
     "metadata": {},
     "output_type": "execute_result"
    }
   ],
   "source": [
    "def WGBP(a=1, b=1, b0=0, lam=0.25):\n",
    "    tau = np.linspace(0.01, 0.99, num=100)\n",
    "    w = qw(p=tau, a=a, b=b, b0=b0).flatten()\n",
    "    py = dw(w=w, a=a, b=b, b0=b0).flatten()\n",
    "\n",
    "\n",
    "    def distance(log_params):\n",
    "        params = np.exp(log_params)\n",
    "        px = dgbetapr(w, *params)\n",
    "        log_target = np.log(np.array([a, b, 1, 1]))\n",
    "\n",
    "        penalty = lam * np.sum((log_params - log_target) ** 2)\n",
    "        dist = np.sum((1 - px / py) ** 2) + penalty\n",
    "        return dist\n",
    "\n",
    "    return minimize(distance, x0=np.log(np.ones(4)), method=\"Powell\")\n",
    "\n",
    "m = WGBP(a=1, b=1, b0=0, lam=0.25)\n",
    "m"
   ]
  },
  {
   "cell_type": "code",
   "execution_count": 76,
   "id": "b991bf33",
   "metadata": {},
   "outputs": [
    {
     "data": {
      "text/plain": [
       "array([1.47463048, 0.66712989, 0.76940629, 1.67539416])"
      ]
     },
     "execution_count": 76,
     "metadata": {},
     "output_type": "execute_result"
    }
   ],
   "source": [
    "np.exp(m.x)"
   ]
  },
  {
   "cell_type": "code",
   "execution_count": null,
   "id": "641c31ec",
   "metadata": {},
   "outputs": [],
   "source": [
    "params = np.array([1.4722786, 0.6494361, 0.7887448, 1.6711417])"
   ]
  },
  {
   "cell_type": "code",
   "execution_count": null,
   "id": "d029993e",
   "metadata": {},
   "outputs": [],
   "source": [
    "coords = {\n",
    "    \"predictor\": [\"age\", \"netuse\", \"treated\", \"green\", \"phc\"],\n",
    "    \"__obs__\": np.arange(X_std.shape[0])\n",
    "}\n",
    "\n",
    "with pm.Model(coords=coords) as model:\n",
    "    V = pm.Beta(\"V\", alpha=params[0], beta=params[1])\n",
    "    W = pm.Deterministic(\"W\", (V / (1 - V)) ** (1 / params[2]) * params[3])\n",
    "    d = pm.Dirichlet(\"d\", a=np.ones(5), dims=\"predictor\")\n",
    "\n",
    "    beta0 = pm.Normal(\"beta0\", mu=0, sigma=3 ** 0.5)\n",
    "    beta = pm.Normal(\"beta\", mu=0, sigma=(W * d) ** 0.5, dims=\"predictor\")\n",
    "\n",
    "    eta = pm.Deterministic(\"eta\", beta0 + X_std @ beta, dims=\"__obs__\")\n",
    "    p = pm.Deterministic(\"p\", pm.math.sigmoid(eta), dims=\"__obs__\")\n",
    "    pm.Bernoulli(\"y\", p=p, observed=y, dims=\"__obs__\")\n",
    "\n",
    "model.to_graphviz()"
   ]
  },
  {
   "cell_type": "code",
   "execution_count": null,
   "id": "3f38913c",
   "metadata": {},
   "outputs": [],
   "source": [
    "with model:\n",
    "    idata = pm.sample(target_accept=0.95)"
   ]
  },
  {
   "cell_type": "code",
   "execution_count": null,
   "id": "7bb89272",
   "metadata": {},
   "outputs": [],
   "source": [
    "az.plot_trace(idata, var_names=[\"V\", \"W\", \"d\", \"beta0\", \"beta\"], backend_kwargs={\"layout\": \"constrained\"});"
   ]
  }
 ],
 "metadata": {
  "kernelspec": {
   "display_name": "pymc-env",
   "language": "python",
   "name": "python3"
  },
  "language_info": {
   "codemirror_mode": {
    "name": "ipython",
    "version": 3
   },
   "file_extension": ".py",
   "mimetype": "text/x-python",
   "name": "python",
   "nbconvert_exporter": "python",
   "pygments_lexer": "ipython3",
   "version": "3.12.2"
  }
 },
 "nbformat": 4,
 "nbformat_minor": 5
}
