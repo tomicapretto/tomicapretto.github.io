{
 "cells": [
  {
   "cell_type": "markdown",
   "id": "9d26c0f9",
   "metadata": {},
   "source": [
    "---\n",
    "title: \"Titulo\"\n",
    "summary: |\n",
    "    Resumen\n",
    "date: \"2025-09-25\"\n",
    "#image: imgs/thomas_bayes_mate.png\n",
    "lang: en\n",
    "---"
   ]
  },
  {
   "cell_type": "code",
   "execution_count": null,
   "id": "afa71134",
   "metadata": {},
   "outputs": [],
   "source": [
    "#| code-fold: true\n",
    "import arviz as az\n",
    "import matplotlib.pyplot as plt\n",
    "import numpy as np\n",
    "import polars as pl\n",
    "import pymc as pm\n",
    "import pytensor.tensor as pt\n",
    "\n",
    "c_orange = \"#f08533\"\n",
    "c_blue = \"#3b78b0\"\n",
    "c_red = \"#d1352c\""
   ]
  },
  {
   "cell_type": "markdown",
   "id": "f9f0f153",
   "metadata": {},
   "source": [
    "Mientras *scrapeaba* datos sobre los tiros libres de los *rookies* en la NBA durante la temporada 2024-25, me encontré con [este artículo](https://link.springer.com/article/10.1007/s12662-020-00646-x), donde se concluye que existe un efecto de “precalentamiento”: los jugadores de básquet tienden a fallar más los primeros disparos que el resto. El hallazgo me pareció interesante y lógico, y empecé a preguntarme si valía la pena realizar un análisis similar con los datos que estaba recolectando.\n",
    "Y bueno, acá estamos."
   ]
  },
  {
   "cell_type": "markdown",
   "id": "eb5935ab",
   "metadata": {},
   "source": [
    "## Los datos\n",
    "\n",
    "El siguiente *data frame* contiene información sobre los tiros libres realizados por los *rookies* de la temporada 2024-25 de la NBA.\n",
    "En este caso, las columnas relevantes son la identificación del jugador (`player_id`), el orden del disparo (`description`) y si el lanzamiento fue convertido (`success`)."
   ]
  },
  {
   "cell_type": "code",
   "execution_count": 2,
   "id": "ccf5ecd3",
   "metadata": {},
   "outputs": [
    {
     "data": {
      "text/html": [
       "<div><style>\n",
       ".dataframe > thead > tr,\n",
       ".dataframe > tbody > tr {\n",
       "  text-align: right;\n",
       "  white-space: pre-wrap;\n",
       "}\n",
       "</style>\n",
       "<small>shape: (3_722, 6)</small><table border=\"1\" class=\"dataframe\"><thead><tr><th>game_date</th><th>matchup</th><th>player_id</th><th>player_name</th><th>description</th><th>success</th></tr><tr><td>date</td><td>str</td><td>i32</td><td>str</td><td>str</td><td>bool</td></tr></thead><tbody><tr><td>2025-04-05</td><td>&quot;MEM @ DET&quot;</td><td>1641744</td><td>&quot;Edey, Zach&quot;</td><td>&quot;Free Throw 1 of 2&quot;</td><td>false</td></tr><tr><td>2025-04-05</td><td>&quot;MEM @ DET&quot;</td><td>1641744</td><td>&quot;Edey, Zach&quot;</td><td>&quot;Free Throw 2 of 2&quot;</td><td>false</td></tr><tr><td>2025-01-18</td><td>&quot;PHI @ IND&quot;</td><td>1641737</td><td>&quot;Bona, Adem&quot;</td><td>&quot;Free Throw 1 of 1&quot;</td><td>true</td></tr><tr><td>2025-01-18</td><td>&quot;PHI @ IND&quot;</td><td>1641737</td><td>&quot;Bona, Adem&quot;</td><td>&quot;Free Throw 1 of 2&quot;</td><td>false</td></tr><tr><td>2025-01-18</td><td>&quot;PHI @ IND&quot;</td><td>1641737</td><td>&quot;Bona, Adem&quot;</td><td>&quot;Free Throw 2 of 2&quot;</td><td>true</td></tr><tr><td>&hellip;</td><td>&hellip;</td><td>&hellip;</td><td>&hellip;</td><td>&hellip;</td><td>&hellip;</td></tr><tr><td>2024-11-06</td><td>&quot;MEM vs. LAL&quot;</td><td>1642530</td><td>&quot;Kawamura, Yuki&quot;</td><td>&quot;Free Throw 1 of 2&quot;</td><td>true</td></tr><tr><td>2024-11-06</td><td>&quot;MEM vs. LAL&quot;</td><td>1642530</td><td>&quot;Kawamura, Yuki&quot;</td><td>&quot;Free Throw 2 of 2&quot;</td><td>true</td></tr><tr><td>2025-03-12</td><td>&quot;MEM vs. UTA&quot;</td><td>1641744</td><td>&quot;Edey, Zach&quot;</td><td>&quot;Free Throw 1 of 1&quot;</td><td>false</td></tr><tr><td>2024-11-22</td><td>&quot;NOP vs. GSW&quot;</td><td>1641810</td><td>&quot;Reeves, Antonio&quot;</td><td>&quot;Free Throw 1 of 2&quot;</td><td>true</td></tr><tr><td>2024-11-22</td><td>&quot;NOP vs. GSW&quot;</td><td>1641810</td><td>&quot;Reeves, Antonio&quot;</td><td>&quot;Free Throw 2 of 2&quot;</td><td>false</td></tr></tbody></table></div>"
      ],
      "text/plain": [
       "shape: (3_722, 6)\n",
       "┌────────────┬─────────────┬───────────┬─────────────────┬───────────────────┬─────────┐\n",
       "│ game_date  ┆ matchup     ┆ player_id ┆ player_name     ┆ description       ┆ success │\n",
       "│ ---        ┆ ---         ┆ ---       ┆ ---             ┆ ---               ┆ ---     │\n",
       "│ date       ┆ str         ┆ i32       ┆ str             ┆ str               ┆ bool    │\n",
       "╞════════════╪═════════════╪═══════════╪═════════════════╪═══════════════════╪═════════╡\n",
       "│ 2025-04-05 ┆ MEM @ DET   ┆ 1641744   ┆ Edey, Zach      ┆ Free Throw 1 of 2 ┆ false   │\n",
       "│ 2025-04-05 ┆ MEM @ DET   ┆ 1641744   ┆ Edey, Zach      ┆ Free Throw 2 of 2 ┆ false   │\n",
       "│ 2025-01-18 ┆ PHI @ IND   ┆ 1641737   ┆ Bona, Adem      ┆ Free Throw 1 of 1 ┆ true    │\n",
       "│ 2025-01-18 ┆ PHI @ IND   ┆ 1641737   ┆ Bona, Adem      ┆ Free Throw 1 of 2 ┆ false   │\n",
       "│ 2025-01-18 ┆ PHI @ IND   ┆ 1641737   ┆ Bona, Adem      ┆ Free Throw 2 of 2 ┆ true    │\n",
       "│ …          ┆ …           ┆ …         ┆ …               ┆ …                 ┆ …       │\n",
       "│ 2024-11-06 ┆ MEM vs. LAL ┆ 1642530   ┆ Kawamura, Yuki  ┆ Free Throw 1 of 2 ┆ true    │\n",
       "│ 2024-11-06 ┆ MEM vs. LAL ┆ 1642530   ┆ Kawamura, Yuki  ┆ Free Throw 2 of 2 ┆ true    │\n",
       "│ 2025-03-12 ┆ MEM vs. UTA ┆ 1641744   ┆ Edey, Zach      ┆ Free Throw 1 of 1 ┆ false   │\n",
       "│ 2024-11-22 ┆ NOP vs. GSW ┆ 1641810   ┆ Reeves, Antonio ┆ Free Throw 1 of 2 ┆ true    │\n",
       "│ 2024-11-22 ┆ NOP vs. GSW ┆ 1641810   ┆ Reeves, Antonio ┆ Free Throw 2 of 2 ┆ false   │\n",
       "└────────────┴─────────────┴───────────┴─────────────────┴───────────────────┴─────────┘"
      ]
     },
     "execution_count": 2,
     "metadata": {},
     "output_type": "execute_result"
    }
   ],
   "source": [
    "df = (\n",
    "    pl.read_parquet(\"data.parquet\")\n",
    "    .select(\"game_date\", \"matchup\", \"player_id\", \"player_name\", \"description\", \"success\")\n",
    ")\n",
    "df"
   ]
  },
  {
   "cell_type": "markdown",
   "id": "6f1c0ae7",
   "metadata": {},
   "source": [
    "En la NBA, los tiros libres pueden darse en series de 1, 2 o 3 intentos. Nuestra primera tarea es mapear los valores de `description` a un valor numérico que represente el orden del disparo dentro de su serie."
   ]
  },
  {
   "cell_type": "code",
   "execution_count": 3,
   "id": "59dbdd88",
   "metadata": {},
   "outputs": [
    {
     "data": {
      "text/html": [
       "<div><style>\n",
       ".dataframe > thead > tr,\n",
       ".dataframe > tbody > tr {\n",
       "  text-align: right;\n",
       "  white-space: pre-wrap;\n",
       "}\n",
       "</style>\n",
       "<small>shape: (3_722, 7)</small><table border=\"1\" class=\"dataframe\"><thead><tr><th>game_date</th><th>matchup</th><th>player_id</th><th>player_name</th><th>description</th><th>success</th><th>order</th></tr><tr><td>date</td><td>str</td><td>i32</td><td>str</td><td>str</td><td>bool</td><td>i64</td></tr></thead><tbody><tr><td>2025-04-05</td><td>&quot;MEM @ DET&quot;</td><td>1641744</td><td>&quot;Edey, Zach&quot;</td><td>&quot;Free Throw 1 of 2&quot;</td><td>false</td><td>1</td></tr><tr><td>2025-04-05</td><td>&quot;MEM @ DET&quot;</td><td>1641744</td><td>&quot;Edey, Zach&quot;</td><td>&quot;Free Throw 2 of 2&quot;</td><td>false</td><td>2</td></tr><tr><td>2025-01-18</td><td>&quot;PHI @ IND&quot;</td><td>1641737</td><td>&quot;Bona, Adem&quot;</td><td>&quot;Free Throw 1 of 1&quot;</td><td>true</td><td>1</td></tr><tr><td>2025-01-18</td><td>&quot;PHI @ IND&quot;</td><td>1641737</td><td>&quot;Bona, Adem&quot;</td><td>&quot;Free Throw 1 of 2&quot;</td><td>false</td><td>1</td></tr><tr><td>2025-01-18</td><td>&quot;PHI @ IND&quot;</td><td>1641737</td><td>&quot;Bona, Adem&quot;</td><td>&quot;Free Throw 2 of 2&quot;</td><td>true</td><td>2</td></tr><tr><td>&hellip;</td><td>&hellip;</td><td>&hellip;</td><td>&hellip;</td><td>&hellip;</td><td>&hellip;</td><td>&hellip;</td></tr><tr><td>2024-11-06</td><td>&quot;MEM vs. LAL&quot;</td><td>1642530</td><td>&quot;Kawamura, Yuki&quot;</td><td>&quot;Free Throw 1 of 2&quot;</td><td>true</td><td>1</td></tr><tr><td>2024-11-06</td><td>&quot;MEM vs. LAL&quot;</td><td>1642530</td><td>&quot;Kawamura, Yuki&quot;</td><td>&quot;Free Throw 2 of 2&quot;</td><td>true</td><td>2</td></tr><tr><td>2025-03-12</td><td>&quot;MEM vs. UTA&quot;</td><td>1641744</td><td>&quot;Edey, Zach&quot;</td><td>&quot;Free Throw 1 of 1&quot;</td><td>false</td><td>1</td></tr><tr><td>2024-11-22</td><td>&quot;NOP vs. GSW&quot;</td><td>1641810</td><td>&quot;Reeves, Antonio&quot;</td><td>&quot;Free Throw 1 of 2&quot;</td><td>true</td><td>1</td></tr><tr><td>2024-11-22</td><td>&quot;NOP vs. GSW&quot;</td><td>1641810</td><td>&quot;Reeves, Antonio&quot;</td><td>&quot;Free Throw 2 of 2&quot;</td><td>false</td><td>2</td></tr></tbody></table></div>"
      ],
      "text/plain": [
       "shape: (3_722, 7)\n",
       "┌────────────┬─────────────┬───────────┬─────────────────┬───────────────────┬─────────┬───────┐\n",
       "│ game_date  ┆ matchup     ┆ player_id ┆ player_name     ┆ description       ┆ success ┆ order │\n",
       "│ ---        ┆ ---         ┆ ---       ┆ ---             ┆ ---               ┆ ---     ┆ ---   │\n",
       "│ date       ┆ str         ┆ i32       ┆ str             ┆ str               ┆ bool    ┆ i64   │\n",
       "╞════════════╪═════════════╪═══════════╪═════════════════╪═══════════════════╪═════════╪═══════╡\n",
       "│ 2025-04-05 ┆ MEM @ DET   ┆ 1641744   ┆ Edey, Zach      ┆ Free Throw 1 of 2 ┆ false   ┆ 1     │\n",
       "│ 2025-04-05 ┆ MEM @ DET   ┆ 1641744   ┆ Edey, Zach      ┆ Free Throw 2 of 2 ┆ false   ┆ 2     │\n",
       "│ 2025-01-18 ┆ PHI @ IND   ┆ 1641737   ┆ Bona, Adem      ┆ Free Throw 1 of 1 ┆ true    ┆ 1     │\n",
       "│ 2025-01-18 ┆ PHI @ IND   ┆ 1641737   ┆ Bona, Adem      ┆ Free Throw 1 of 2 ┆ false   ┆ 1     │\n",
       "│ 2025-01-18 ┆ PHI @ IND   ┆ 1641737   ┆ Bona, Adem      ┆ Free Throw 2 of 2 ┆ true    ┆ 2     │\n",
       "│ …          ┆ …           ┆ …         ┆ …               ┆ …                 ┆ …       ┆ …     │\n",
       "│ 2024-11-06 ┆ MEM vs. LAL ┆ 1642530   ┆ Kawamura, Yuki  ┆ Free Throw 1 of 2 ┆ true    ┆ 1     │\n",
       "│ 2024-11-06 ┆ MEM vs. LAL ┆ 1642530   ┆ Kawamura, Yuki  ┆ Free Throw 2 of 2 ┆ true    ┆ 2     │\n",
       "│ 2025-03-12 ┆ MEM vs. UTA ┆ 1641744   ┆ Edey, Zach      ┆ Free Throw 1 of 1 ┆ false   ┆ 1     │\n",
       "│ 2024-11-22 ┆ NOP vs. GSW ┆ 1641810   ┆ Reeves, Antonio ┆ Free Throw 1 of 2 ┆ true    ┆ 1     │\n",
       "│ 2024-11-22 ┆ NOP vs. GSW ┆ 1641810   ┆ Reeves, Antonio ┆ Free Throw 2 of 2 ┆ false   ┆ 2     │\n",
       "└────────────┴─────────────┴───────────┴─────────────────┴───────────────────┴─────────┴───────┘"
      ]
     },
     "execution_count": 3,
     "metadata": {},
     "output_type": "execute_result"
    }
   ],
   "source": [
    "throw_order = {\n",
    "    \"Free Throw 1 of 1\": 1,\n",
    "    \"Free Throw 1 of 2\": 1,\n",
    "    \"Free Throw 1 of 3\": 1,\n",
    "    \"Free Throw 2 of 2\": 2,\n",
    "    \"Free Throw 2 of 3\": 2,\n",
    "    \"Free Throw 3 of 3\": 3,\n",
    "    \"Free Throw Clear Path 1 of 2\": 1,\n",
    "    \"Free Throw Clear Path 2 of 2\": 2,\n",
    "    \"Free Throw Flagrant 1 of 1\": 1,\n",
    "    \"Free Throw Flagrant 1 of 2\": 1,\n",
    "    \"Free Throw Flagrant 2 of 2\": 2,\n",
    "    \"Free Throw Technical\": 1,\n",
    "}\n",
    "\n",
    "df = df.with_columns(\n",
    "    pl.col(\"description\").replace_strict(throw_order, return_dtype=pl.Int64).alias(\"order\")\n",
    ")\n",
    "df"
   ]
  },
  {
   "cell_type": "markdown",
   "id": "8ee44d42",
   "metadata": {},
   "source": [
    "Podemos observar que los primeros intentos suelen fallarse con mayor frecuencia que los segundos, y que estos, a su vez, se fallan más que los terceros."
   ]
  },
  {
   "cell_type": "code",
   "execution_count": null,
   "id": "6fa81d15",
   "metadata": {},
   "outputs": [
    {
     "data": {
      "text/html": [
       "<div><style>\n",
       ".dataframe > thead > tr,\n",
       ".dataframe > tbody > tr {\n",
       "  text-align: right;\n",
       "  white-space: pre-wrap;\n",
       "}\n",
       "</style>\n",
       "<small>shape: (3, 4)</small><table border=\"1\" class=\"dataframe\"><thead><tr><th>order</th><th>y</th><th>n</th><th>p</th></tr><tr><td>i64</td><td>u32</td><td>u32</td><td>f64</td></tr></thead><tbody><tr><td>1</td><td>1435</td><td>2069</td><td>0.693572</td></tr><tr><td>2</td><td>1227</td><td>1625</td><td>0.755077</td></tr><tr><td>3</td><td>23</td><td>28</td><td>0.821429</td></tr></tbody></table></div>"
      ],
      "text/plain": [
       "shape: (3, 4)\n",
       "┌───────┬──────┬──────┬──────────┐\n",
       "│ order ┆ y    ┆ n    ┆ p        │\n",
       "│ ---   ┆ ---  ┆ ---  ┆ ---      │\n",
       "│ i64   ┆ u32  ┆ u32  ┆ f64      │\n",
       "╞═══════╪══════╪══════╪══════════╡\n",
       "│ 1     ┆ 1435 ┆ 2069 ┆ 0.693572 │\n",
       "│ 2     ┆ 1227 ┆ 1625 ┆ 0.755077 │\n",
       "│ 3     ┆ 23   ┆ 28   ┆ 0.821429 │\n",
       "└───────┴──────┴──────┴──────────┘"
      ]
     },
     "execution_count": 27,
     "metadata": {},
     "output_type": "execute_result"
    }
   ],
   "source": [
    "df_summary = (\n",
    "    df\n",
    "    .group_by(\"order\")\n",
    "    .agg(pl.col(\"success\").sum().alias(\"y\"), pl.len().alias(\"n\"))\n",
    "    .with_columns((pl.col(\"y\") / pl.col(\"n\")).alias(\"p\"))\n",
    "    .sort(\"order\")\n",
    ")\n",
    "df_summary"
   ]
  },
  {
   "cell_type": "markdown",
   "id": "c251a5a0",
   "metadata": {},
   "source": [
    "## Modelo agrupado\n",
    "\n",
    "Como primer paso, utilizamos un modelo que agrupa los disparos de todos los jugadores, los considera equivalentes, más de lo mismo.\n",
    "Definimos $Y_1$ como la cantidad de aciertos en primeros disparos y $Y_2$ como la cantidad de aciertos en segundos disparos.\n",
    "Luego, $\\pi_1$ representa la probabilidad de acertar en un primer intento y $\\pi_2$ en un segundo.\n",
    "\n",
    "$$\n",
    "\\begin{aligned}\n",
    "Y_1 &\\sim \\text{Binomial}(N_1, \\pi_1) \\\\\n",
    "Y_2 &\\sim \\text{Binomial}(N_2, \\pi_2) \\\\\n",
    "\\pi_1 &\\sim \\text{Beta}(4, 2) \\\\\n",
    "\\pi_2 &\\sim \\text{Beta}(4, 2) \\\\\n",
    "\\end{aligned}\n",
    "$$"
   ]
  },
  {
   "cell_type": "markdown",
   "id": "13c08adf",
   "metadata": {},
   "source": [
    "En PyMC, tenemos:"
   ]
  },
  {
   "cell_type": "code",
   "execution_count": 29,
   "id": "d9632925",
   "metadata": {},
   "outputs": [
    {
     "data": {
      "image/svg+xml": [
       "<?xml version=\"1.0\" encoding=\"UTF-8\" standalone=\"no\"?>\n",
       "<!DOCTYPE svg PUBLIC \"-//W3C//DTD SVG 1.1//EN\"\n",
       " \"http://www.w3.org/Graphics/SVG/1.1/DTD/svg11.dtd\">\n",
       "<!-- Generated by graphviz version 12.2.1 (20250203.1708)\n",
       " -->\n",
       "<!-- Pages: 1 -->\n",
       "<svg width=\"152pt\" height=\"270pt\"\n",
       " viewBox=\"0.00 0.00 152.00 270.25\" xmlns=\"http://www.w3.org/2000/svg\" xmlns:xlink=\"http://www.w3.org/1999/xlink\">\n",
       "<g id=\"graph0\" class=\"graph\" transform=\"scale(1 1) rotate(0) translate(4 266.25)\">\n",
       "<polygon fill=\"white\" stroke=\"none\" points=\"-4,4 -4,-266.25 148,-266.25 148,4 -4,4\"/>\n",
       "<g id=\"clust1\" class=\"cluster\">\n",
       "<title>clusterorder (2)</title>\n",
       "<path fill=\"none\" stroke=\"black\" d=\"M20,-8C20,-8 124,-8 124,-8 130,-8 136,-14 136,-20 136,-20 136,-242.25 136,-242.25 136,-248.25 130,-254.25 124,-254.25 124,-254.25 20,-254.25 20,-254.25 14,-254.25 8,-248.25 8,-242.25 8,-242.25 8,-20 8,-20 8,-14 14,-8 20,-8\"/>\n",
       "<text text-anchor=\"middle\" x=\"96.5\" y=\"-15.95\" font-family=\"Times,serif\" font-size=\"14.00\">order (2)</text>\n",
       "</g>\n",
       "<!-- y -->\n",
       "<g id=\"node1\" class=\"node\">\n",
       "<title>y</title>\n",
       "<ellipse fill=\"lightgrey\" stroke=\"black\" cx=\"72\" cy=\"-83.5\" rx=\"55.86\" ry=\"42.25\"/>\n",
       "<text text-anchor=\"middle\" x=\"72\" y=\"-96.07\" font-family=\"Times,serif\" font-size=\"14.00\">y</text>\n",
       "<text text-anchor=\"middle\" x=\"72\" y=\"-78.82\" font-family=\"Times,serif\" font-size=\"14.00\">~</text>\n",
       "<text text-anchor=\"middle\" x=\"72\" y=\"-61.57\" font-family=\"Times,serif\" font-size=\"14.00\">Binomial</text>\n",
       "</g>\n",
       "<!-- pi -->\n",
       "<g id=\"node2\" class=\"node\">\n",
       "<title>pi</title>\n",
       "<ellipse fill=\"none\" stroke=\"black\" cx=\"72\" cy=\"-204\" rx=\"34.65\" ry=\"42.25\"/>\n",
       "<text text-anchor=\"middle\" x=\"72\" y=\"-216.57\" font-family=\"Times,serif\" font-size=\"14.00\">pi</text>\n",
       "<text text-anchor=\"middle\" x=\"72\" y=\"-199.32\" font-family=\"Times,serif\" font-size=\"14.00\">~</text>\n",
       "<text text-anchor=\"middle\" x=\"72\" y=\"-182.07\" font-family=\"Times,serif\" font-size=\"14.00\">Beta</text>\n",
       "</g>\n",
       "<!-- pi&#45;&gt;y -->\n",
       "<g id=\"edge1\" class=\"edge\">\n",
       "<title>pi&#45;&gt;y</title>\n",
       "<path fill=\"none\" stroke=\"black\" d=\"M72,-161.55C72,-153.75 72,-145.49 72,-137.4\"/>\n",
       "<polygon fill=\"black\" stroke=\"black\" points=\"75.5,-137.64 72,-127.64 68.5,-137.64 75.5,-137.64\"/>\n",
       "</g>\n",
       "</g>\n",
       "</svg>\n"
      ],
      "text/plain": [
       "<graphviz.graphs.Digraph at 0x7ff7106dc920>"
      ]
     },
     "execution_count": 29,
     "metadata": {},
     "output_type": "execute_result"
    }
   ],
   "source": [
    "y = df_summary.head(2)[\"y\"].to_numpy()\n",
    "n = df_summary.head(2)[\"n\"].to_numpy()\n",
    "\n",
    "with pm.Model(coords={\"order\": [1, 2]}) as model:\n",
    "    pi = pm.Beta(\"pi\", alpha=4, beta=2, dims=\"order\")\n",
    "    y = pm.Binomial(\"y\", p=pi, n=n, observed=y, dims=\"order\")\n",
    "    idata = pm.sample(chains=4, random_seed=1211, nuts_sampler=\"nutpie\", progressbar=False)\n",
    "\n",
    "model.to_graphviz()"
   ]
  },
  {
   "cell_type": "markdown",
   "id": "a9032c2c",
   "metadata": {},
   "source": [
    "Calculamos $\\delta$ como la diferencia entre $\\pi_2$ y $\\pi_1$, y analizamos las distribuciones marginales *a posteriori*.\n",
    "\n",
    "En primer lugar, los diagnósticos no indican problemas en el muestreo: $\\hat{R}$ cercano a 1, tamaños efectivos de muestra adecuados, etc."
   ]
  },
  {
   "cell_type": "code",
   "execution_count": 31,
   "id": "da64b84f",
   "metadata": {},
   "outputs": [
    {
     "data": {
      "text/html": [
       "<div>\n",
       "<style scoped>\n",
       "    .dataframe tbody tr th:only-of-type {\n",
       "        vertical-align: middle;\n",
       "    }\n",
       "\n",
       "    .dataframe tbody tr th {\n",
       "        vertical-align: top;\n",
       "    }\n",
       "\n",
       "    .dataframe thead th {\n",
       "        text-align: right;\n",
       "    }\n",
       "</style>\n",
       "<table border=\"1\" class=\"dataframe\">\n",
       "  <thead>\n",
       "    <tr style=\"text-align: right;\">\n",
       "      <th></th>\n",
       "      <th>mean</th>\n",
       "      <th>sd</th>\n",
       "      <th>hdi_3%</th>\n",
       "      <th>hdi_97%</th>\n",
       "      <th>mcse_mean</th>\n",
       "      <th>mcse_sd</th>\n",
       "      <th>ess_bulk</th>\n",
       "      <th>ess_tail</th>\n",
       "      <th>r_hat</th>\n",
       "    </tr>\n",
       "  </thead>\n",
       "  <tbody>\n",
       "    <tr>\n",
       "      <th>pi[1]</th>\n",
       "      <td>0.694</td>\n",
       "      <td>0.010</td>\n",
       "      <td>0.673</td>\n",
       "      <td>0.712</td>\n",
       "      <td>0.0</td>\n",
       "      <td>0.0</td>\n",
       "      <td>4040.0</td>\n",
       "      <td>2880.0</td>\n",
       "      <td>1.0</td>\n",
       "    </tr>\n",
       "    <tr>\n",
       "      <th>pi[2]</th>\n",
       "      <td>0.754</td>\n",
       "      <td>0.011</td>\n",
       "      <td>0.733</td>\n",
       "      <td>0.773</td>\n",
       "      <td>0.0</td>\n",
       "      <td>0.0</td>\n",
       "      <td>3996.0</td>\n",
       "      <td>2737.0</td>\n",
       "      <td>1.0</td>\n",
       "    </tr>\n",
       "    <tr>\n",
       "      <th>delta</th>\n",
       "      <td>0.061</td>\n",
       "      <td>0.015</td>\n",
       "      <td>0.030</td>\n",
       "      <td>0.088</td>\n",
       "      <td>0.0</td>\n",
       "      <td>0.0</td>\n",
       "      <td>4193.0</td>\n",
       "      <td>2918.0</td>\n",
       "      <td>1.0</td>\n",
       "    </tr>\n",
       "  </tbody>\n",
       "</table>\n",
       "</div>"
      ],
      "text/plain": [
       "        mean     sd  hdi_3%  hdi_97%  mcse_mean  mcse_sd  ess_bulk  ess_tail  \\\n",
       "pi[1]  0.694  0.010   0.673    0.712        0.0      0.0    4040.0    2880.0   \n",
       "pi[2]  0.754  0.011   0.733    0.773        0.0      0.0    3996.0    2737.0   \n",
       "delta  0.061  0.015   0.030    0.088        0.0      0.0    4193.0    2918.0   \n",
       "\n",
       "       r_hat  \n",
       "pi[1]    1.0  \n",
       "pi[2]    1.0  \n",
       "delta    1.0  "
      ]
     },
     "execution_count": 31,
     "metadata": {},
     "output_type": "execute_result"
    }
   ],
   "source": [
    "#| classes: .center-table-70\n",
    "idata.posterior[\"delta\"] = idata.posterior[\"pi\"].sel(order=2) - idata.posterior[\"pi\"].sel(order=1)\n",
    "az.summary(idata, var_names=[\"pi\", \"delta\"])"
   ]
  },
  {
   "cell_type": "markdown",
   "id": "bbc32a2c",
   "metadata": {},
   "source": [
    "Si nos enfocamos en la distribución _a posteriori_ de $\\delta$, podemos ver que la probabilidad de que $\\delta$ sea mayor a 0 es igual a 1.\n",
    "Así, llegamos a nuestra primera gran conclusión: efectivamente, la probabilidad de acertar en el segundo intento es mayor que en el primero."
   ]
  },
  {
   "cell_type": "code",
   "execution_count": 32,
   "id": "6c65a1c7",
   "metadata": {},
   "outputs": [
    {
     "data": {
      "image/png": "[encoded data removed]",
      "text/plain": [
       "<Figure size 900x400 with 2 Axes>"
      ]
     },
     "metadata": {},
     "output_type": "display_data"
    }
   ],
   "source": [
    "#| echo: false\n",
    "fig, axes = plt.subplots(1, 2, figsize=(9, 4), layout=\"constrained\")\n",
    "\n",
    "axes[0].hist(idata.posterior.pi.sel(order=1).values.ravel(), bins=50, color=c_blue, label=\"Throw 1\")\n",
    "axes[0].hist(idata.posterior.pi.sel(order=2).values.ravel(), bins=50, color=c_orange, label=\"Throw 2\")\n",
    "axes[1].hist(idata.posterior.delta.values.ravel(), bins=50, color=c_blue)\n",
    "\n",
    "axes[0].set(xlabel=\"$\\\\pi$\", yticks=[])\n",
    "axes[0].legend()\n",
    "axes[1].set(xlabel=\"$\\\\delta$\", yticks=[]);"
   ]
  },
  {
   "cell_type": "markdown",
   "id": "773508c5",
   "metadata": {},
   "source": [
    "## Modelo parcialmente agrupado\n",
    "\n",
    "El modelo anterior solo nos permite concluir que es más probable que un _rookie_ acierte un segundo lanzamiento que un primero.\n",
    "Ahora, vamos a implementar un modelo jerárquico, en el cuál cada jugador tiene su propia probabilidad de acertar un primer o un segundo lanzamiento."
   ]
  },
  {
   "cell_type": "code",
   "execution_count": null,
   "id": "67ef624d",
   "metadata": {},
   "outputs": [
    {
     "data": {
      "text/html": [
       "<div><style>\n",
       ".dataframe > thead > tr,\n",
       ".dataframe > tbody > tr {\n",
       "  text-align: right;\n",
       "  white-space: pre-wrap;\n",
       "}\n",
       "</style>\n",
       "<small>shape: (184, 4)</small><table border=\"1\" class=\"dataframe\"><thead><tr><th>player_id</th><th>order</th><th>y</th><th>n</th></tr><tr><td>i32</td><td>i64</td><td>u32</td><td>u32</td></tr></thead><tbody><tr><td>1630283</td><td>1</td><td>1</td><td>5</td></tr><tr><td>1630283</td><td>2</td><td>5</td><td>5</td></tr><tr><td>1630542</td><td>1</td><td>4</td><td>5</td></tr><tr><td>1630542</td><td>2</td><td>4</td><td>5</td></tr><tr><td>1630545</td><td>1</td><td>9</td><td>12</td></tr><tr><td>&hellip;</td><td>&hellip;</td><td>&hellip;</td><td>&hellip;</td></tr><tr><td>1642502</td><td>2</td><td>1</td><td>2</td></tr><tr><td>1642505</td><td>1</td><td>1</td><td>1</td></tr><tr><td>1642505</td><td>2</td><td>1</td><td>1</td></tr><tr><td>1642530</td><td>1</td><td>4</td><td>5</td></tr><tr><td>1642530</td><td>2</td><td>3</td><td>4</td></tr></tbody></table></div>"
      ],
      "text/plain": [
       "shape: (184, 4)\n",
       "┌───────────┬───────┬─────┬─────┐\n",
       "│ player_id ┆ order ┆ y   ┆ n   │\n",
       "│ ---       ┆ ---   ┆ --- ┆ --- │\n",
       "│ i32       ┆ i64   ┆ u32 ┆ u32 │\n",
       "╞═══════════╪═══════╪═════╪═════╡\n",
       "│ 1630283   ┆ 1     ┆ 1   ┆ 5   │\n",
       "│ 1630283   ┆ 2     ┆ 5   ┆ 5   │\n",
       "│ 1630542   ┆ 1     ┆ 4   ┆ 5   │\n",
       "│ 1630542   ┆ 2     ┆ 4   ┆ 5   │\n",
       "│ 1630545   ┆ 1     ┆ 9   ┆ 12  │\n",
       "│ …         ┆ …     ┆ …   ┆ …   │\n",
       "│ 1642502   ┆ 2     ┆ 1   ┆ 2   │\n",
       "│ 1642505   ┆ 1     ┆ 1   ┆ 1   │\n",
       "│ 1642505   ┆ 2     ┆ 1   ┆ 1   │\n",
       "│ 1642530   ┆ 1     ┆ 4   ┆ 5   │\n",
       "│ 1642530   ┆ 2     ┆ 3   ┆ 4   │\n",
       "└───────────┴───────┴─────┴─────┘"
      ]
     },
     "execution_count": 8,
     "metadata": {},
     "output_type": "execute_result"
    }
   ],
   "source": [
    "#| classes: .center-table-40\n",
    "df_agg = (\n",
    "    df\n",
    "    .group_by(\"player_id\", \"order\")\n",
    "    .agg(\n",
    "        pl.col(\"success\").sum().alias(\"y\"),\n",
    "        pl.len().alias(\"n\")\n",
    "    )\n",
    "    .sort(\"player_id\", \"order\")\n",
    ")\n",
    "selected_ids = (\n",
    "    df_agg\n",
    "    .filter(pl.col(\"order\") == 2, pl.col(\"n\") > 0)\n",
    "    .get_column(\"player_id\")\n",
    "    .unique()\n",
    "    .to_list()\n",
    ")\n",
    "\n",
    "df_model = (\n",
    "    df_agg\n",
    "    .filter(pl.col(\"player_id\").is_in(selected_ids), pl.col(\"order\") < 3)\n",
    "    .sort(\"player_id\", \"order\")\n",
    ")\n",
    "df_model"
   ]
  },
  {
   "cell_type": "code",
   "execution_count": null,
   "id": "bc932449",
   "metadata": {},
   "outputs": [
    {
     "data": {
      "image/svg+xml": [
       "<?xml version=\"1.0\" encoding=\"UTF-8\" standalone=\"no\"?>\n",
       "<!DOCTYPE svg PUBLIC \"-//W3C//DTD SVG 1.1//EN\"\n",
       " \"http://www.w3.org/Graphics/SVG/1.1/DTD/svg11.dtd\">\n",
       "<!-- Generated by graphviz version 12.2.1 (20250203.1708)\n",
       " -->\n",
       "<!-- Pages: 1 -->\n",
       "<svg width=\"564pt\" height=\"495pt\"\n",
       " viewBox=\"0.00 0.00 564.16 495.25\" xmlns=\"http://www.w3.org/2000/svg\" xmlns:xlink=\"http://www.w3.org/1999/xlink\">\n",
       "<g id=\"graph0\" class=\"graph\" transform=\"scale(1 1) rotate(0) translate(4 491.25)\">\n",
       "<polygon fill=\"white\" stroke=\"none\" points=\"-4,4 -4,-491.25 560.16,-491.25 560.16,4 -4,4\"/>\n",
       "<g id=\"clust1\" class=\"cluster\">\n",
       "<title>clusterplayer (92)</title>\n",
       "<path fill=\"none\" stroke=\"black\" d=\"M115.54,-8C115.54,-8 351.54,-8 351.54,-8 357.54,-8 363.54,-14 363.54,-20 363.54,-20 363.54,-362.75 363.54,-362.75 363.54,-368.75 357.54,-374.75 351.54,-374.75 351.54,-374.75 115.54,-374.75 115.54,-374.75 109.54,-374.75 103.54,-368.75 103.54,-362.75 103.54,-362.75 103.54,-20 103.54,-20 103.54,-14 109.54,-8 115.54,-8\"/>\n",
       "<text text-anchor=\"middle\" x=\"316.54\" y=\"-15.95\" font-family=\"Times,serif\" font-size=\"14.00\">player (92)</text>\n",
       "</g>\n",
       "<!-- delta_mu -->\n",
       "<g id=\"node1\" class=\"node\">\n",
       "<title>delta_mu</title>\n",
       "<ellipse fill=\"none\" stroke=\"black\" cx=\"307.54\" cy=\"-445\" rx=\"57.45\" ry=\"42.25\"/>\n",
       "<text text-anchor=\"middle\" x=\"307.54\" y=\"-457.57\" font-family=\"Times,serif\" font-size=\"14.00\">delta_mu</text>\n",
       "<text text-anchor=\"middle\" x=\"307.54\" y=\"-440.32\" font-family=\"Times,serif\" font-size=\"14.00\">~</text>\n",
       "<text text-anchor=\"middle\" x=\"307.54\" y=\"-423.07\" font-family=\"Times,serif\" font-size=\"14.00\">Normal</text>\n",
       "</g>\n",
       "<!-- delta -->\n",
       "<g id=\"node8\" class=\"node\">\n",
       "<title>delta</title>\n",
       "<ellipse fill=\"none\" stroke=\"black\" cx=\"306.54\" cy=\"-324.5\" rx=\"48.97\" ry=\"42.25\"/>\n",
       "<text text-anchor=\"middle\" x=\"306.54\" y=\"-337.07\" font-family=\"Times,serif\" font-size=\"14.00\">delta</text>\n",
       "<text text-anchor=\"middle\" x=\"306.54\" y=\"-319.82\" font-family=\"Times,serif\" font-size=\"14.00\">~</text>\n",
       "<text text-anchor=\"middle\" x=\"306.54\" y=\"-302.57\" font-family=\"Times,serif\" font-size=\"14.00\">Normal</text>\n",
       "</g>\n",
       "<!-- delta_mu&#45;&gt;delta -->\n",
       "<g id=\"edge3\" class=\"edge\">\n",
       "<title>delta_mu&#45;&gt;delta</title>\n",
       "<path fill=\"none\" stroke=\"black\" d=\"M307.19,-402.55C307.13,-394.75 307.06,-386.49 306.99,-378.4\"/>\n",
       "<polygon fill=\"black\" stroke=\"black\" points=\"310.49,-378.6 306.91,-368.63 303.49,-378.66 310.49,-378.6\"/>\n",
       "</g>\n",
       "<!-- pi_mu -->\n",
       "<g id=\"node2\" class=\"node\">\n",
       "<title>pi_mu</title>\n",
       "<ellipse fill=\"none\" stroke=\"black\" cx=\"41.54\" cy=\"-445\" rx=\"41.54\" ry=\"42.25\"/>\n",
       "<text text-anchor=\"middle\" x=\"41.54\" y=\"-457.57\" font-family=\"Times,serif\" font-size=\"14.00\">pi_mu</text>\n",
       "<text text-anchor=\"middle\" x=\"41.54\" y=\"-440.32\" font-family=\"Times,serif\" font-size=\"14.00\">~</text>\n",
       "<text text-anchor=\"middle\" x=\"41.54\" y=\"-423.07\" font-family=\"Times,serif\" font-size=\"14.00\">Beta</text>\n",
       "</g>\n",
       "<!-- pi -->\n",
       "<g id=\"node6\" class=\"node\">\n",
       "<title>pi</title>\n",
       "<ellipse fill=\"none\" stroke=\"black\" cx=\"166.54\" cy=\"-324.5\" rx=\"34.65\" ry=\"42.25\"/>\n",
       "<text text-anchor=\"middle\" x=\"166.54\" y=\"-337.07\" font-family=\"Times,serif\" font-size=\"14.00\">pi</text>\n",
       "<text text-anchor=\"middle\" x=\"166.54\" y=\"-319.82\" font-family=\"Times,serif\" font-size=\"14.00\">~</text>\n",
       "<text text-anchor=\"middle\" x=\"166.54\" y=\"-302.57\" font-family=\"Times,serif\" font-size=\"14.00\">Beta</text>\n",
       "</g>\n",
       "<!-- pi_mu&#45;&gt;pi -->\n",
       "<g id=\"edge1\" class=\"edge\">\n",
       "<title>pi_mu&#45;&gt;pi</title>\n",
       "<path fill=\"none\" stroke=\"black\" d=\"M71.48,-415.61C89.4,-398.63 112.26,-376.96 131.08,-359.12\"/>\n",
       "<polygon fill=\"black\" stroke=\"black\" points=\"133.46,-361.69 138.31,-352.27 128.64,-356.61 133.46,-361.69\"/>\n",
       "</g>\n",
       "<!-- pi_kappa -->\n",
       "<g id=\"node3\" class=\"node\">\n",
       "<title>pi_kappa</title>\n",
       "<ellipse fill=\"none\" stroke=\"black\" cx=\"166.54\" cy=\"-445\" rx=\"65.94\" ry=\"42.25\"/>\n",
       "<text text-anchor=\"middle\" x=\"166.54\" y=\"-457.57\" font-family=\"Times,serif\" font-size=\"14.00\">pi_kappa</text>\n",
       "<text text-anchor=\"middle\" x=\"166.54\" y=\"-440.32\" font-family=\"Times,serif\" font-size=\"14.00\">~</text>\n",
       "<text text-anchor=\"middle\" x=\"166.54\" y=\"-423.07\" font-family=\"Times,serif\" font-size=\"14.00\">InvGamma</text>\n",
       "</g>\n",
       "<!-- pi_kappa&#45;&gt;pi -->\n",
       "<g id=\"edge2\" class=\"edge\">\n",
       "<title>pi_kappa&#45;&gt;pi</title>\n",
       "<path fill=\"none\" stroke=\"black\" d=\"M166.54,-402.55C166.54,-394.75 166.54,-386.49 166.54,-378.4\"/>\n",
       "<polygon fill=\"black\" stroke=\"black\" points=\"170.04,-378.63 166.54,-368.63 163.04,-378.63 170.04,-378.63\"/>\n",
       "</g>\n",
       "<!-- delta_sigma^2 -->\n",
       "<g id=\"node4\" class=\"node\">\n",
       "<title>delta_sigma^2</title>\n",
       "<ellipse fill=\"none\" stroke=\"black\" cx=\"469.54\" cy=\"-445\" rx=\"86.62\" ry=\"42.25\"/>\n",
       "<text text-anchor=\"middle\" x=\"469.54\" y=\"-457.57\" font-family=\"Times,serif\" font-size=\"14.00\">delta_sigma^2</text>\n",
       "<text text-anchor=\"middle\" x=\"469.54\" y=\"-440.32\" font-family=\"Times,serif\" font-size=\"14.00\">~</text>\n",
       "<text text-anchor=\"middle\" x=\"469.54\" y=\"-423.07\" font-family=\"Times,serif\" font-size=\"14.00\">InvGamma</text>\n",
       "</g>\n",
       "<!-- delta_sigma^2&#45;&gt;delta -->\n",
       "<g id=\"edge4\" class=\"edge\">\n",
       "<title>delta_sigma^2&#45;&gt;delta</title>\n",
       "<path fill=\"none\" stroke=\"black\" d=\"M421.96,-409.4C400.18,-393.57 374.48,-374.89 352.86,-359.17\"/>\n",
       "<polygon fill=\"black\" stroke=\"black\" points=\"354.93,-356.35 344.78,-353.3 350.81,-362.01 354.93,-356.35\"/>\n",
       "</g>\n",
       "<!-- y_1 -->\n",
       "<g id=\"node5\" class=\"node\">\n",
       "<title>y_1</title>\n",
       "<ellipse fill=\"lightgrey\" stroke=\"black\" cx=\"167.54\" cy=\"-204\" rx=\"55.86\" ry=\"42.25\"/>\n",
       "<text text-anchor=\"middle\" x=\"167.54\" y=\"-216.57\" font-family=\"Times,serif\" font-size=\"14.00\">y_1</text>\n",
       "<text text-anchor=\"middle\" x=\"167.54\" y=\"-199.32\" font-family=\"Times,serif\" font-size=\"14.00\">~</text>\n",
       "<text text-anchor=\"middle\" x=\"167.54\" y=\"-182.07\" font-family=\"Times,serif\" font-size=\"14.00\">Binomial</text>\n",
       "</g>\n",
       "<!-- pi&#45;&gt;y_1 -->\n",
       "<g id=\"edge7\" class=\"edge\">\n",
       "<title>pi&#45;&gt;y_1</title>\n",
       "<path fill=\"none\" stroke=\"black\" d=\"M166.89,-282.05C166.96,-274.25 167.03,-265.99 167.1,-257.9\"/>\n",
       "<polygon fill=\"black\" stroke=\"black\" points=\"170.59,-258.16 167.18,-248.13 163.59,-258.1 170.59,-258.16\"/>\n",
       "</g>\n",
       "<!-- theta -->\n",
       "<g id=\"node7\" class=\"node\">\n",
       "<title>theta</title>\n",
       "<polygon fill=\"none\" stroke=\"black\" points=\"355.29,-233.87 241.79,-233.87 241.79,-174.12 355.29,-174.12 355.29,-233.87\"/>\n",
       "<text text-anchor=\"middle\" x=\"298.54\" y=\"-216.57\" font-family=\"Times,serif\" font-size=\"14.00\">theta</text>\n",
       "<text text-anchor=\"middle\" x=\"298.54\" y=\"-199.32\" font-family=\"Times,serif\" font-size=\"14.00\">~</text>\n",
       "<text text-anchor=\"middle\" x=\"298.54\" y=\"-182.07\" font-family=\"Times,serif\" font-size=\"14.00\">Deterministic</text>\n",
       "</g>\n",
       "<!-- pi&#45;&gt;theta -->\n",
       "<g id=\"edge6\" class=\"edge\">\n",
       "<title>pi&#45;&gt;theta</title>\n",
       "<path fill=\"none\" stroke=\"black\" d=\"M194.21,-298.66C212.69,-282.07 237.29,-259.99 257.96,-241.43\"/>\n",
       "<polygon fill=\"black\" stroke=\"black\" points=\"260.03,-244.28 265.13,-234.99 255.35,-239.07 260.03,-244.28\"/>\n",
       "</g>\n",
       "<!-- y_2 -->\n",
       "<g id=\"node9\" class=\"node\">\n",
       "<title>y_2</title>\n",
       "<ellipse fill=\"lightgrey\" stroke=\"black\" cx=\"298.54\" cy=\"-83.5\" rx=\"55.86\" ry=\"42.25\"/>\n",
       "<text text-anchor=\"middle\" x=\"298.54\" y=\"-96.07\" font-family=\"Times,serif\" font-size=\"14.00\">y_2</text>\n",
       "<text text-anchor=\"middle\" x=\"298.54\" y=\"-78.82\" font-family=\"Times,serif\" font-size=\"14.00\">~</text>\n",
       "<text text-anchor=\"middle\" x=\"298.54\" y=\"-61.57\" font-family=\"Times,serif\" font-size=\"14.00\">Binomial</text>\n",
       "</g>\n",
       "<!-- theta&#45;&gt;y_2 -->\n",
       "<g id=\"edge8\" class=\"edge\">\n",
       "<title>theta&#45;&gt;y_2</title>\n",
       "<path fill=\"none\" stroke=\"black\" d=\"M298.54,-173.71C298.54,-162.69 298.54,-149.79 298.54,-137.29\"/>\n",
       "<polygon fill=\"black\" stroke=\"black\" points=\"302.04,-137.49 298.54,-127.49 295.04,-137.49 302.04,-137.49\"/>\n",
       "</g>\n",
       "<!-- delta&#45;&gt;theta -->\n",
       "<g id=\"edge5\" class=\"edge\">\n",
       "<title>delta&#45;&gt;theta</title>\n",
       "<path fill=\"none\" stroke=\"black\" d=\"M303.74,-282.05C302.95,-270.24 302.08,-257.39 301.29,-245.62\"/>\n",
       "<polygon fill=\"black\" stroke=\"black\" points=\"304.79,-245.55 300.62,-235.81 297.8,-246.02 304.79,-245.55\"/>\n",
       "</g>\n",
       "</g>\n",
       "</svg>\n"
      ],
      "text/plain": [
       "<graphviz.graphs.Digraph at 0x7ff713a58740>"
      ]
     },
     "execution_count": 10,
     "metadata": {},
     "output_type": "execute_result"
    }
   ],
   "source": [
    "y_1 = df_model.filter(pl.col(\"order\") == 1)[\"y\"].to_numpy()\n",
    "y_2 = df_model.filter(pl.col(\"order\") == 2)[\"y\"].to_numpy()\n",
    "\n",
    "n_1 = df_model.filter(pl.col(\"order\") == 1)[\"n\"].to_numpy()\n",
    "n_2 = df_model.filter(pl.col(\"order\") == 2)[\"n\"].to_numpy()\n",
    "\n",
    "player_ids = df_model[\"player_id\"].unique(maintain_order=True)\n",
    "N = len(player_ids)\n",
    "coords = {\"player\": player_ids}\n",
    "\n",
    "with pm.Model(coords=coords) as model_h:\n",
    "    pi_mu = pm.Beta(\"pi_mu\", alpha=4, beta=2)\n",
    "    pi_kappa = pm.InverseGamma(\"pi_kappa\", alpha=0.5 * 15, beta=0.5 * 15 * 10)\n",
    "    pi_alpha = pi_mu * pi_kappa\n",
    "    pi_beta = (1 - pi_mu) * pi_kappa\n",
    "    pi = pm.Beta(\"pi\", alpha=pi_alpha, beta=pi_beta, dims=\"player\")\n",
    "\n",
    "    delta_mu = pm.Normal(\"delta_mu\", mu=0, sigma=0.15)\n",
    "    delta_sigma = pm.InverseGamma(\"delta_sigma^2\", 0.5 * 30, 0.5 * 30 * 0.05 ** 2) ** 0.5\n",
    "    delta = pm.Normal(\n",
    "        \"delta\",\n",
    "        mu=delta_mu,\n",
    "        sigma=delta_sigma,\n",
    "        dims=\"player\",\n",
    "        initval=np.zeros(N)\n",
    "    )\n",
    "\n",
    "    theta = pm.Deterministic(\"theta\", pt.clip(pi + delta, 0.0001, 0.9999), dims=\"player\")\n",
    "\n",
    "    pm.Binomial(\"y_1\", p=pi, n=n_1, observed=y_1, dims=\"player\")\n",
    "    pm.Binomial(\"y_2\", p=theta, n=n_2, observed=y_2, dims=\"player\")\n",
    "\n",
    "model_h.to_graphviz()"
   ]
  },
  {
   "cell_type": "code",
   "execution_count": null,
   "id": "e391709d",
   "metadata": {},
   "outputs": [
    {
     "data": {
      "text/html": [
       "<div>\n",
       "<style scoped>\n",
       "    .dataframe tbody tr th:only-of-type {\n",
       "        vertical-align: middle;\n",
       "    }\n",
       "\n",
       "    .dataframe tbody tr th {\n",
       "        vertical-align: top;\n",
       "    }\n",
       "\n",
       "    .dataframe thead th {\n",
       "        text-align: right;\n",
       "    }\n",
       "</style>\n",
       "<table border=\"1\" class=\"dataframe\">\n",
       "  <thead>\n",
       "    <tr style=\"text-align: right;\">\n",
       "      <th></th>\n",
       "      <th>mean</th>\n",
       "      <th>sd</th>\n",
       "      <th>hdi_3%</th>\n",
       "      <th>hdi_97%</th>\n",
       "      <th>mcse_mean</th>\n",
       "      <th>mcse_sd</th>\n",
       "      <th>ess_bulk</th>\n",
       "      <th>ess_tail</th>\n",
       "      <th>r_hat</th>\n",
       "    </tr>\n",
       "  </thead>\n",
       "  <tbody>\n",
       "    <tr>\n",
       "      <th>pi_mu</th>\n",
       "      <td>0.698</td>\n",
       "      <td>0.015</td>\n",
       "      <td>0.670</td>\n",
       "      <td>0.727</td>\n",
       "      <td>0.000</td>\n",
       "      <td>0.000</td>\n",
       "      <td>1063.0</td>\n",
       "      <td>2206.0</td>\n",
       "      <td>1.00</td>\n",
       "    </tr>\n",
       "    <tr>\n",
       "      <th>pi_kappa</th>\n",
       "      <td>28.903</td>\n",
       "      <td>9.035</td>\n",
       "      <td>14.499</td>\n",
       "      <td>45.731</td>\n",
       "      <td>0.286</td>\n",
       "      <td>0.278</td>\n",
       "      <td>1001.0</td>\n",
       "      <td>1623.0</td>\n",
       "      <td>1.00</td>\n",
       "    </tr>\n",
       "    <tr>\n",
       "      <th>delta_mu</th>\n",
       "      <td>0.055</td>\n",
       "      <td>0.016</td>\n",
       "      <td>0.027</td>\n",
       "      <td>0.086</td>\n",
       "      <td>0.001</td>\n",
       "      <td>0.000</td>\n",
       "      <td>497.0</td>\n",
       "      <td>910.0</td>\n",
       "      <td>1.01</td>\n",
       "    </tr>\n",
       "    <tr>\n",
       "      <th>delta_sigma^2</th>\n",
       "      <td>0.002</td>\n",
       "      <td>0.001</td>\n",
       "      <td>0.001</td>\n",
       "      <td>0.003</td>\n",
       "      <td>0.000</td>\n",
       "      <td>0.000</td>\n",
       "      <td>1262.0</td>\n",
       "      <td>2006.0</td>\n",
       "      <td>1.00</td>\n",
       "    </tr>\n",
       "  </tbody>\n",
       "</table>\n",
       "</div>"
      ],
      "text/plain": [
       "                 mean     sd  hdi_3%  hdi_97%  mcse_mean  mcse_sd  ess_bulk  \\\n",
       "pi_mu           0.698  0.015   0.670    0.727      0.000    0.000    1063.0   \n",
       "pi_kappa       28.903  9.035  14.499   45.731      0.286    0.278    1001.0   \n",
       "delta_mu        0.055  0.016   0.027    0.086      0.001    0.000     497.0   \n",
       "delta_sigma^2   0.002  0.001   0.001    0.003      0.000    0.000    1262.0   \n",
       "\n",
       "               ess_tail  r_hat  \n",
       "pi_mu            2206.0   1.00  \n",
       "pi_kappa         1623.0   1.00  \n",
       "delta_mu          910.0   1.01  \n",
       "delta_sigma^2    2006.0   1.00  "
      ]
     },
     "execution_count": 12,
     "metadata": {},
     "output_type": "execute_result"
    }
   ],
   "source": [
    "#| classes: .center-table-70\n",
    "with model_h:\n",
    "    idata_h = pm.sample(\n",
    "        chains=4,\n",
    "        target_accept=0.99,\n",
    "        nuts_sampler=\"nutpie\",\n",
    "        random_seed=1211,\n",
    "        progressbar=False,\n",
    "    )\n",
    "\n",
    "az.summary(idata_h, var_names=[\"pi_mu\", \"pi_kappa\", \"delta_mu\", \"delta_sigma^2\"])"
   ]
  },
  {
   "cell_type": "code",
   "execution_count": null,
   "id": "843351de",
   "metadata": {},
   "outputs": [
    {
     "name": "stdout",
     "output_type": "stream",
     "text": [
      "-  1630762 Wheeler, Phillip\n",
      "-  1641989 Harkless, Elijah\n",
      "-  1630283 Kelley, Kylor\n",
      "-  1630574 Hukporti, Ariel\n",
      "-  1642265 Dillingham, Rob\n",
      "-  1641736 Beekman, Reece\n",
      "-  1642277 Furphy, Johnny\n",
      "-  1631232 Brooks Jr., Keion\n",
      "-  1641810 Reeves, Antonio\n",
      "-  1642348 Edwards, Justin\n",
      "-  1642272 McCain, Jared\n",
      "-  1641783 da Silva, Tristan\n",
      "-  1642347 Shead, Jamal\n",
      "-  1642266 Walter, Ja'Kobe\n",
      "-  1642273 George, Kyshawn\n",
      "-  1641824 Buzelis, Matas\n",
      "-  1642270 Clingan, Donovan\n",
      "-  1641842 Holland II, Ronald\n",
      "-  1642377 Wells, Jaylen\n",
      "-  1641744 Edey, Zach\n",
      "-  1642271 Filipowski, Kyle\n",
      "-  1642258 Risacher, Zaccharie\n",
      "-  1642268 Collier, Isaiah\n",
      "-  1642259 Sarr, Alex\n",
      "-  1642274 Missi, Yves\n",
      "-  1642264 Castle, Stephon\n"
     ]
    }
   ],
   "source": [
    "#| echo: false\n",
    "players = (\n",
    "    df_model\n",
    "    .filter(pl.col(\"order\") == 1)\n",
    "    .unique(\"n\")\n",
    "    .sort(\"n\")\n",
    "    .get_column(\"player_id\")\n",
    "    .to_numpy()\n",
    ")\n",
    "players = np.concatenate([players[:(len(players ) - 10):2], players[-10:]])\n",
    "for player in players:\n",
    "    player_name = df.filter(pl.col(\"player_id\") == player).get_column(\"player_name\").unique().item()\n",
    "    print(\"-\", player, player_name)"
   ]
  },
  {
   "cell_type": "code",
   "execution_count": null,
   "id": "99e20d4c",
   "metadata": {},
   "outputs": [
    {
     "data": {
      "image/png": "[encoded data removed]",
      "text/plain": [
       "<Figure size 900x600 with 2 Axes>"
      ]
     },
     "metadata": {},
     "output_type": "display_data"
    }
   ],
   "source": [
    "#| echo: false\n",
    "posterior_players = idata_h.posterior.sel(player=players)\n",
    "pi_mean = posterior_players[\"pi\"].mean((\"chain\", \"draw\")).to_numpy()\n",
    "pi_ci = posterior_players[\"pi\"].quantile((0.05, 0.95), (\"chain\", \"draw\")).to_numpy()\n",
    "\n",
    "theta_mean = posterior_players[\"theta\"].mean((\"chain\", \"draw\")).to_numpy()\n",
    "theta_ci = posterior_players[\"theta\"].quantile((0.05, 0.95), (\"chain\", \"draw\")).to_numpy()\n",
    "\n",
    "delta_mean = posterior_players[\"delta\"].mean((\"chain\", \"draw\")).to_numpy()\n",
    "delta_ci = posterior_players[\"delta\"].quantile((0.05, 0.95), (\"chain\", \"draw\")).to_numpy()\n",
    "\n",
    "x_label = (\n",
    "    df_model\n",
    "    .filter(pl.col(\"player_id\").is_in(players))\n",
    "    .pivot(on=\"order\", index=\"player_id\", values=[\"y\", \"n\"])\n",
    "    .sort(\"n_1\")\n",
    "    .with_columns(\n",
    "        pl.concat_str(pl.col(\"n_1\", \"n_2\"), separator = \"\\n\").alias(\"label\")\n",
    "    )\n",
    "    .get_column(\"label\")\n",
    "    .to_list()\n",
    ")\n",
    "\n",
    "x = np.arange(len(players))\n",
    "\n",
    "fig, axes = plt.subplots(2, 1, figsize=(9, 6), layout=\"constrained\")\n",
    "\n",
    "axes[0].scatter(x - 0.25, pi_mean, color=c_blue, label=\"Throw 1\")\n",
    "axes[0].vlines(x - 0.25, pi_ci[0], pi_ci[1], color=c_blue)\n",
    "axes[0].scatter(x + 0.25, theta_mean, color=c_orange, label=\"Throw 2\")\n",
    "axes[0].vlines(x + 0.25, theta_ci[0], theta_ci[1], color=c_orange)\n",
    "axes[0].set(xticks=[], ylabel=\"P(success)\")\n",
    "axes[0].legend()\n",
    "\n",
    "\n",
    "axes[1].scatter(x, delta_mean, color=c_red)\n",
    "axes[1].vlines(x, delta_ci[0], delta_ci[1], color=c_red)\n",
    "axes[1].axhline(0, ls=\"--\", color=\"0.3\", lw=1)\n",
    "axes[1].set(xlabel=\"Player\", ylabel=\"$\\\\delta$\", ylim=[-0.06, 0.20]);\n",
    "\n",
    "for x_i, x_l in zip(x, x_label):\n",
    "    axes[1].text(x_i, 0.165, x_l, size=10, ha=\"center\")\n",
    "\n",
    "axes[1].text(-0.75, 0.165, \"$n_1$\\n$n_2$\", size=10, ha=\"center\");"
   ]
  },
  {
   "cell_type": "code",
   "execution_count": null,
   "id": "08143049",
   "metadata": {},
   "outputs": [
    {
     "data": {
      "image/png": "[encoded data removed]",
      "text/plain": [
       "<Figure size 640x480 with 1 Axes>"
      ]
     },
     "metadata": {},
     "output_type": "display_data"
    }
   ],
   "source": [
    "#| echo: false\n",
    "fig, ax = plt.subplots()\n",
    "p_delta = (idata_h.posterior[\"delta\"] > 0).mean((\"chain\", \"draw\")).to_numpy()\n",
    "ax.hist(p_delta, bins=20, color=c_blue)\n",
    "ax.set(yticks=[], xlabel=\"$P(\\\\delta_i > 0)$\");"
   ]
  },
  {
   "cell_type": "code",
   "execution_count": null,
   "id": "bac92867",
   "metadata": {},
   "outputs": [
    {
     "data": {
      "image/png": "[encoded data removed]",
      "text/plain": [
       "<Figure size 640x480 with 1 Axes>"
      ]
     },
     "metadata": {},
     "output_type": "display_data"
    }
   ],
   "source": [
    "#| echo: false\n",
    "fig, ax = plt.subplots()\n",
    "\n",
    "delta_1 = idata.posterior[\"delta\"].to_numpy().flatten()\n",
    "delta_2 = idata_h.posterior[\"delta_mu\"].to_numpy().flatten()\n",
    "\n",
    "ax.hist(delta_1, bins=20, color=c_blue, alpha=0.5, label=\"Pooled model\")\n",
    "ax.hist(delta_2, bins=20, color=c_orange, alpha=0.5, label=\"Partially-pooled model\")\n",
    "ax.set(yticks=[], xlabel=\"$\\\\delta$\")\n",
    "ax.legend();"
   ]
  }
 ],
 "metadata": {
  "kernelspec": {
   "display_name": "pymc-env",
   "language": "python",
   "name": "python3"
  },
  "language_info": {
   "codemirror_mode": {
    "name": "ipython",
    "version": 3
   },
   "file_extension": ".py",
   "mimetype": "text/x-python",
   "name": "python",
   "nbconvert_exporter": "python",
   "pygments_lexer": "ipython3",
   "version": "3.12.2"
  }
 },
 "nbformat": 4,
 "nbformat_minor": 5
}
