{
 "cells": [
  {
   "cell_type": "raw",
   "id": "9d26c0f9",
   "metadata": {
    "vscode": {
     "languageId": "raw"
    }
   },
   "source": [
    "---\n",
    "title: \"¿Los rookies mejoran con cada lanzamiento? Jugando Bayes con datos de tiros libres de la NBA\"\n",
    "summary: |\n",
    "    Si tuvieras que apostar en contra de un tiro libre, ¿apostarías en contra del primer intento o del segundo?\n",
    "    ¿Y si el jugador fuera un rookie? ¿Y si se tratara de un rookie en particular?\n",
    "    Vamos a intentar averiguarlo.\n",
    "date: \"2025-09-25\"\n",
    "image: ../imgs/bayes_freethrow.png\n",
    "lang: es\n",
    "---"
   ]
  },
  {
   "cell_type": "code",
   "execution_count": 1,
   "id": "afa71134",
   "metadata": {},
   "outputs": [],
   "source": [
    "#| code-fold: true\n",
    "import arviz as az\n",
    "import matplotlib.pyplot as plt\n",
    "import numpy as np\n",
    "import polars as pl\n",
    "import pymc as pm\n",
    "import pytensor.tensor as pt\n",
    "\n",
    "c_orange = \"#f08533\"\n",
    "c_blue = \"#3b78b0\"\n",
    "c_red = \"#d1352c\""
   ]
  },
  {
   "cell_type": "markdown",
   "id": "f9f0f153",
   "metadata": {},
   "source": [
    "Mientras *scrapeaba* datos sobre los tiros libres de los *rookies* en la NBA durante la temporada 2024-25, me encontré con [este artículo](https://link.springer.com/article/10.1007/s12662-020-00646-x), donde se concluye que existe un efecto de “precalentamiento”: los jugadores de básquet tienden a fallar más los primeros disparos que el resto. El hallazgo me pareció interesante y lógico, y empecé a preguntarme si valía la pena realizar un análisis similar con los datos que estaba recolectando.\n",
    "Y bueno, acá estamos."
   ]
  },
  {
   "cell_type": "markdown",
   "id": "eb5935ab",
   "metadata": {},
   "source": [
    "## Los datos\n",
    "\n",
    "El siguiente *data frame* contiene información sobre los tiros libres realizados por los *rookies* de la temporada 2024-25 de la NBA.\n",
    "En este caso, las columnas relevantes son la identificación del jugador (`player_id`), el orden del disparo (`description`) y si el lanzamiento fue convertido (`success`)."
   ]
  },
  {
   "cell_type": "code",
   "execution_count": 2,
   "id": "ccf5ecd3",
   "metadata": {},
   "outputs": [
    {
     "data": {
      "text/html": [
       "<div><style>\n",
       ".dataframe > thead > tr,\n",
       ".dataframe > tbody > tr {\n",
       "  text-align: right;\n",
       "  white-space: pre-wrap;\n",
       "}\n",
       "</style>\n",
       "<small>shape: (3_722, 6)</small><table border=\"1\" class=\"dataframe\"><thead><tr><th>game_date</th><th>matchup</th><th>player_id</th><th>player_name</th><th>description</th><th>success</th></tr><tr><td>date</td><td>str</td><td>i32</td><td>str</td><td>str</td><td>bool</td></tr></thead><tbody><tr><td>2025-04-05</td><td>&quot;MEM @ DET&quot;</td><td>1641744</td><td>&quot;Edey, Zach&quot;</td><td>&quot;Free Throw 1 of 2&quot;</td><td>false</td></tr><tr><td>2025-04-05</td><td>&quot;MEM @ DET&quot;</td><td>1641744</td><td>&quot;Edey, Zach&quot;</td><td>&quot;Free Throw 2 of 2&quot;</td><td>false</td></tr><tr><td>2025-01-18</td><td>&quot;PHI @ IND&quot;</td><td>1641737</td><td>&quot;Bona, Adem&quot;</td><td>&quot;Free Throw 1 of 1&quot;</td><td>true</td></tr><tr><td>2025-01-18</td><td>&quot;PHI @ IND&quot;</td><td>1641737</td><td>&quot;Bona, Adem&quot;</td><td>&quot;Free Throw 1 of 2&quot;</td><td>false</td></tr><tr><td>2025-01-18</td><td>&quot;PHI @ IND&quot;</td><td>1641737</td><td>&quot;Bona, Adem&quot;</td><td>&quot;Free Throw 2 of 2&quot;</td><td>true</td></tr><tr><td>&hellip;</td><td>&hellip;</td><td>&hellip;</td><td>&hellip;</td><td>&hellip;</td><td>&hellip;</td></tr><tr><td>2024-11-06</td><td>&quot;MEM vs. LAL&quot;</td><td>1642530</td><td>&quot;Kawamura, Yuki&quot;</td><td>&quot;Free Throw 1 of 2&quot;</td><td>true</td></tr><tr><td>2024-11-06</td><td>&quot;MEM vs. LAL&quot;</td><td>1642530</td><td>&quot;Kawamura, Yuki&quot;</td><td>&quot;Free Throw 2 of 2&quot;</td><td>true</td></tr><tr><td>2025-03-12</td><td>&quot;MEM vs. UTA&quot;</td><td>1641744</td><td>&quot;Edey, Zach&quot;</td><td>&quot;Free Throw 1 of 1&quot;</td><td>false</td></tr><tr><td>2024-11-22</td><td>&quot;NOP vs. GSW&quot;</td><td>1641810</td><td>&quot;Reeves, Antonio&quot;</td><td>&quot;Free Throw 1 of 2&quot;</td><td>true</td></tr><tr><td>2024-11-22</td><td>&quot;NOP vs. GSW&quot;</td><td>1641810</td><td>&quot;Reeves, Antonio&quot;</td><td>&quot;Free Throw 2 of 2&quot;</td><td>false</td></tr></tbody></table></div>"
      ],
      "text/plain": [
       "shape: (3_722, 6)\n",
       "┌────────────┬─────────────┬───────────┬─────────────────┬───────────────────┬─────────┐\n",
       "│ game_date  ┆ matchup     ┆ player_id ┆ player_name     ┆ description       ┆ success │\n",
       "│ ---        ┆ ---         ┆ ---       ┆ ---             ┆ ---               ┆ ---     │\n",
       "│ date       ┆ str         ┆ i32       ┆ str             ┆ str               ┆ bool    │\n",
       "╞════════════╪═════════════╪═══════════╪═════════════════╪═══════════════════╪═════════╡\n",
       "│ 2025-04-05 ┆ MEM @ DET   ┆ 1641744   ┆ Edey, Zach      ┆ Free Throw 1 of 2 ┆ false   │\n",
       "│ 2025-04-05 ┆ MEM @ DET   ┆ 1641744   ┆ Edey, Zach      ┆ Free Throw 2 of 2 ┆ false   │\n",
       "│ 2025-01-18 ┆ PHI @ IND   ┆ 1641737   ┆ Bona, Adem      ┆ Free Throw 1 of 1 ┆ true    │\n",
       "│ 2025-01-18 ┆ PHI @ IND   ┆ 1641737   ┆ Bona, Adem      ┆ Free Throw 1 of 2 ┆ false   │\n",
       "│ 2025-01-18 ┆ PHI @ IND   ┆ 1641737   ┆ Bona, Adem      ┆ Free Throw 2 of 2 ┆ true    │\n",
       "│ …          ┆ …           ┆ …         ┆ …               ┆ …                 ┆ …       │\n",
       "│ 2024-11-06 ┆ MEM vs. LAL ┆ 1642530   ┆ Kawamura, Yuki  ┆ Free Throw 1 of 2 ┆ true    │\n",
       "│ 2024-11-06 ┆ MEM vs. LAL ┆ 1642530   ┆ Kawamura, Yuki  ┆ Free Throw 2 of 2 ┆ true    │\n",
       "│ 2025-03-12 ┆ MEM vs. UTA ┆ 1641744   ┆ Edey, Zach      ┆ Free Throw 1 of 1 ┆ false   │\n",
       "│ 2024-11-22 ┆ NOP vs. GSW ┆ 1641810   ┆ Reeves, Antonio ┆ Free Throw 1 of 2 ┆ true    │\n",
       "│ 2024-11-22 ┆ NOP vs. GSW ┆ 1641810   ┆ Reeves, Antonio ┆ Free Throw 2 of 2 ┆ false   │\n",
       "└────────────┴─────────────┴───────────┴─────────────────┴───────────────────┴─────────┘"
      ]
     },
     "execution_count": 2,
     "metadata": {},
     "output_type": "execute_result"
    }
   ],
   "source": [
    "df = (\n",
    "    pl.read_parquet(\"../data.parquet\")\n",
    "    .select(\"game_date\", \"matchup\", \"player_id\", \"player_name\", \"description\", \"success\")\n",
    ")\n",
    "df"
   ]
  },
  {
   "cell_type": "markdown",
   "id": "6f1c0ae7",
   "metadata": {},
   "source": [
    "En la NBA, los tiros libres pueden darse en series de 1, 2 o 3 intentos. Nuestra primera tarea es mapear los valores de `description` a un valor numérico que represente el orden del disparo dentro de su serie."
   ]
  },
  {
   "cell_type": "code",
   "execution_count": 3,
   "id": "59dbdd88",
   "metadata": {},
   "outputs": [
    {
     "data": {
      "text/html": [
       "<div><style>\n",
       ".dataframe > thead > tr,\n",
       ".dataframe > tbody > tr {\n",
       "  text-align: right;\n",
       "  white-space: pre-wrap;\n",
       "}\n",
       "</style>\n",
       "<small>shape: (3_722, 7)</small><table border=\"1\" class=\"dataframe\"><thead><tr><th>game_date</th><th>matchup</th><th>player_id</th><th>player_name</th><th>description</th><th>success</th><th>order</th></tr><tr><td>date</td><td>str</td><td>i32</td><td>str</td><td>str</td><td>bool</td><td>i64</td></tr></thead><tbody><tr><td>2025-04-05</td><td>&quot;MEM @ DET&quot;</td><td>1641744</td><td>&quot;Edey, Zach&quot;</td><td>&quot;Free Throw 1 of 2&quot;</td><td>false</td><td>1</td></tr><tr><td>2025-04-05</td><td>&quot;MEM @ DET&quot;</td><td>1641744</td><td>&quot;Edey, Zach&quot;</td><td>&quot;Free Throw 2 of 2&quot;</td><td>false</td><td>2</td></tr><tr><td>2025-01-18</td><td>&quot;PHI @ IND&quot;</td><td>1641737</td><td>&quot;Bona, Adem&quot;</td><td>&quot;Free Throw 1 of 1&quot;</td><td>true</td><td>1</td></tr><tr><td>2025-01-18</td><td>&quot;PHI @ IND&quot;</td><td>1641737</td><td>&quot;Bona, Adem&quot;</td><td>&quot;Free Throw 1 of 2&quot;</td><td>false</td><td>1</td></tr><tr><td>2025-01-18</td><td>&quot;PHI @ IND&quot;</td><td>1641737</td><td>&quot;Bona, Adem&quot;</td><td>&quot;Free Throw 2 of 2&quot;</td><td>true</td><td>2</td></tr><tr><td>&hellip;</td><td>&hellip;</td><td>&hellip;</td><td>&hellip;</td><td>&hellip;</td><td>&hellip;</td><td>&hellip;</td></tr><tr><td>2024-11-06</td><td>&quot;MEM vs. LAL&quot;</td><td>1642530</td><td>&quot;Kawamura, Yuki&quot;</td><td>&quot;Free Throw 1 of 2&quot;</td><td>true</td><td>1</td></tr><tr><td>2024-11-06</td><td>&quot;MEM vs. LAL&quot;</td><td>1642530</td><td>&quot;Kawamura, Yuki&quot;</td><td>&quot;Free Throw 2 of 2&quot;</td><td>true</td><td>2</td></tr><tr><td>2025-03-12</td><td>&quot;MEM vs. UTA&quot;</td><td>1641744</td><td>&quot;Edey, Zach&quot;</td><td>&quot;Free Throw 1 of 1&quot;</td><td>false</td><td>1</td></tr><tr><td>2024-11-22</td><td>&quot;NOP vs. GSW&quot;</td><td>1641810</td><td>&quot;Reeves, Antonio&quot;</td><td>&quot;Free Throw 1 of 2&quot;</td><td>true</td><td>1</td></tr><tr><td>2024-11-22</td><td>&quot;NOP vs. GSW&quot;</td><td>1641810</td><td>&quot;Reeves, Antonio&quot;</td><td>&quot;Free Throw 2 of 2&quot;</td><td>false</td><td>2</td></tr></tbody></table></div>"
      ],
      "text/plain": [
       "shape: (3_722, 7)\n",
       "┌────────────┬─────────────┬───────────┬─────────────────┬───────────────────┬─────────┬───────┐\n",
       "│ game_date  ┆ matchup     ┆ player_id ┆ player_name     ┆ description       ┆ success ┆ order │\n",
       "│ ---        ┆ ---         ┆ ---       ┆ ---             ┆ ---               ┆ ---     ┆ ---   │\n",
       "│ date       ┆ str         ┆ i32       ┆ str             ┆ str               ┆ bool    ┆ i64   │\n",
       "╞════════════╪═════════════╪═══════════╪═════════════════╪═══════════════════╪═════════╪═══════╡\n",
       "│ 2025-04-05 ┆ MEM @ DET   ┆ 1641744   ┆ Edey, Zach      ┆ Free Throw 1 of 2 ┆ false   ┆ 1     │\n",
       "│ 2025-04-05 ┆ MEM @ DET   ┆ 1641744   ┆ Edey, Zach      ┆ Free Throw 2 of 2 ┆ false   ┆ 2     │\n",
       "│ 2025-01-18 ┆ PHI @ IND   ┆ 1641737   ┆ Bona, Adem      ┆ Free Throw 1 of 1 ┆ true    ┆ 1     │\n",
       "│ 2025-01-18 ┆ PHI @ IND   ┆ 1641737   ┆ Bona, Adem      ┆ Free Throw 1 of 2 ┆ false   ┆ 1     │\n",
       "│ 2025-01-18 ┆ PHI @ IND   ┆ 1641737   ┆ Bona, Adem      ┆ Free Throw 2 of 2 ┆ true    ┆ 2     │\n",
       "│ …          ┆ …           ┆ …         ┆ …               ┆ …                 ┆ …       ┆ …     │\n",
       "│ 2024-11-06 ┆ MEM vs. LAL ┆ 1642530   ┆ Kawamura, Yuki  ┆ Free Throw 1 of 2 ┆ true    ┆ 1     │\n",
       "│ 2024-11-06 ┆ MEM vs. LAL ┆ 1642530   ┆ Kawamura, Yuki  ┆ Free Throw 2 of 2 ┆ true    ┆ 2     │\n",
       "│ 2025-03-12 ┆ MEM vs. UTA ┆ 1641744   ┆ Edey, Zach      ┆ Free Throw 1 of 1 ┆ false   ┆ 1     │\n",
       "│ 2024-11-22 ┆ NOP vs. GSW ┆ 1641810   ┆ Reeves, Antonio ┆ Free Throw 1 of 2 ┆ true    ┆ 1     │\n",
       "│ 2024-11-22 ┆ NOP vs. GSW ┆ 1641810   ┆ Reeves, Antonio ┆ Free Throw 2 of 2 ┆ false   ┆ 2     │\n",
       "└────────────┴─────────────┴───────────┴─────────────────┴───────────────────┴─────────┴───────┘"
      ]
     },
     "execution_count": 3,
     "metadata": {},
     "output_type": "execute_result"
    }
   ],
   "source": [
    "throw_order = {\n",
    "    \"Free Throw 1 of 1\": 1,\n",
    "    \"Free Throw 1 of 2\": 1,\n",
    "    \"Free Throw 1 of 3\": 1,\n",
    "    \"Free Throw 2 of 2\": 2,\n",
    "    \"Free Throw 2 of 3\": 2,\n",
    "    \"Free Throw 3 of 3\": 3,\n",
    "    \"Free Throw Clear Path 1 of 2\": 1,\n",
    "    \"Free Throw Clear Path 2 of 2\": 2,\n",
    "    \"Free Throw Flagrant 1 of 1\": 1,\n",
    "    \"Free Throw Flagrant 1 of 2\": 1,\n",
    "    \"Free Throw Flagrant 2 of 2\": 2,\n",
    "    \"Free Throw Technical\": 1,\n",
    "}\n",
    "\n",
    "df = df.with_columns(\n",
    "    pl.col(\"description\").replace_strict(throw_order, return_dtype=pl.Int64).alias(\"order\")\n",
    ")\n",
    "df"
   ]
  },
  {
   "cell_type": "markdown",
   "id": "8ee44d42",
   "metadata": {},
   "source": [
    "Podemos observar que los primeros intentos suelen fallarse con mayor frecuencia que los segundos, y que estos, a su vez, se fallan más que los terceros."
   ]
  },
  {
   "cell_type": "code",
   "execution_count": null,
   "id": "6fa81d15",
   "metadata": {},
   "outputs": [
    {
     "data": {
      "text/html": [
       "<div><style>\n",
       ".dataframe > thead > tr,\n",
       ".dataframe > tbody > tr {\n",
       "  text-align: right;\n",
       "  white-space: pre-wrap;\n",
       "}\n",
       "</style>\n",
       "<small>shape: (3, 4)</small><table border=\"1\" class=\"dataframe\"><thead><tr><th>order</th><th>y</th><th>n</th><th>p</th></tr><tr><td>i64</td><td>u32</td><td>u32</td><td>f64</td></tr></thead><tbody><tr><td>1</td><td>1435</td><td>2069</td><td>0.693572</td></tr><tr><td>2</td><td>1227</td><td>1625</td><td>0.755077</td></tr><tr><td>3</td><td>23</td><td>28</td><td>0.821429</td></tr></tbody></table></div>"
      ],
      "text/plain": [
       "shape: (3, 4)\n",
       "┌───────┬──────┬──────┬──────────┐\n",
       "│ order ┆ y    ┆ n    ┆ p        │\n",
       "│ ---   ┆ ---  ┆ ---  ┆ ---      │\n",
       "│ i64   ┆ u32  ┆ u32  ┆ f64      │\n",
       "╞═══════╪══════╪══════╪══════════╡\n",
       "│ 1     ┆ 1435 ┆ 2069 ┆ 0.693572 │\n",
       "│ 2     ┆ 1227 ┆ 1625 ┆ 0.755077 │\n",
       "│ 3     ┆ 23   ┆ 28   ┆ 0.821429 │\n",
       "└───────┴──────┴──────┴──────────┘"
      ]
     },
     "execution_count": 4,
     "metadata": {},
     "output_type": "execute_result"
    }
   ],
   "source": [
    "#| classes: .center-table-70\n",
    "df_summary = (\n",
    "    df\n",
    "    .group_by(\"order\")\n",
    "    .agg(pl.col(\"success\").sum().alias(\"y\"), pl.len().alias(\"n\"))\n",
    "    .with_columns((pl.col(\"y\") / pl.col(\"n\")).alias(\"p\"))\n",
    "    .sort(\"order\")\n",
    ")\n",
    "df_summary"
   ]
  },
  {
   "cell_type": "markdown",
   "id": "c251a5a0",
   "metadata": {},
   "source": [
    "## Modelo agrupado\n",
    "\n",
    "Como primer paso, utilizamos un modelo que agrupa los disparos de todos los jugadores, los considera equivalentes, más de lo mismo.\n",
    "Definimos $Y_1$ como la cantidad de aciertos en primeros disparos y $Y_2$ como la cantidad de aciertos en segundos disparos.\n",
    "Luego, $\\pi_1$ representa la probabilidad de acertar en un primer intento y $\\pi_2$ en un segundo.\n",
    "\n",
    "$$\n",
    "\\begin{aligned}\n",
    "Y_1 &\\sim \\text{Binomial}(N_1, \\pi_1) \\\\\n",
    "Y_2 &\\sim \\text{Binomial}(N_2, \\pi_2) \\\\\n",
    "\\pi_1 &\\sim \\text{Beta}(4, 2) \\\\\n",
    "\\pi_2 &\\sim \\text{Beta}(4, 2) \\\\\n",
    "\\end{aligned}\n",
    "$$"
   ]
  },
  {
   "cell_type": "markdown",
   "id": "13c08adf",
   "metadata": {},
   "source": [
    "En PyMC, tenemos:"
   ]
  },
  {
   "cell_type": "code",
   "execution_count": 5,
   "id": "d9632925",
   "metadata": {},
   "outputs": [
    {
     "data": {
      "image/svg+xml": [
       "<?xml version=\"1.0\" encoding=\"UTF-8\" standalone=\"no\"?>\n",
       "<!DOCTYPE svg PUBLIC \"-//W3C//DTD SVG 1.1//EN\"\n",
       " \"http://www.w3.org/Graphics/SVG/1.1/DTD/svg11.dtd\">\n",
       "<!-- Generated by graphviz version 12.2.1 (20250203.1708)\n",
       " -->\n",
       "<!-- Pages: 1 -->\n",
       "<svg width=\"152pt\" height=\"270pt\"\n",
       " viewBox=\"0.00 0.00 152.00 270.25\" xmlns=\"http://www.w3.org/2000/svg\" xmlns:xlink=\"http://www.w3.org/1999/xlink\">\n",
       "<g id=\"graph0\" class=\"graph\" transform=\"scale(1 1) rotate(0) translate(4 266.25)\">\n",
       "<polygon fill=\"white\" stroke=\"none\" points=\"-4,4 -4,-266.25 148,-266.25 148,4 -4,4\"/>\n",
       "<g id=\"clust1\" class=\"cluster\">\n",
       "<title>clusterorder (2)</title>\n",
       "<path fill=\"none\" stroke=\"black\" d=\"M20,-8C20,-8 124,-8 124,-8 130,-8 136,-14 136,-20 136,-20 136,-242.25 136,-242.25 136,-248.25 130,-254.25 124,-254.25 124,-254.25 20,-254.25 20,-254.25 14,-254.25 8,-248.25 8,-242.25 8,-242.25 8,-20 8,-20 8,-14 14,-8 20,-8\"/>\n",
       "<text text-anchor=\"middle\" x=\"96.5\" y=\"-15.95\" font-family=\"Times,serif\" font-size=\"14.00\">order (2)</text>\n",
       "</g>\n",
       "<!-- y -->\n",
       "<g id=\"node1\" class=\"node\">\n",
       "<title>y</title>\n",
       "<ellipse fill=\"lightgrey\" stroke=\"black\" cx=\"72\" cy=\"-83.5\" rx=\"55.86\" ry=\"42.25\"/>\n",
       "<text text-anchor=\"middle\" x=\"72\" y=\"-96.07\" font-family=\"Times,serif\" font-size=\"14.00\">y</text>\n",
       "<text text-anchor=\"middle\" x=\"72\" y=\"-78.82\" font-family=\"Times,serif\" font-size=\"14.00\">~</text>\n",
       "<text text-anchor=\"middle\" x=\"72\" y=\"-61.57\" font-family=\"Times,serif\" font-size=\"14.00\">Binomial</text>\n",
       "</g>\n",
       "<!-- pi -->\n",
       "<g id=\"node2\" class=\"node\">\n",
       "<title>pi</title>\n",
       "<ellipse fill=\"none\" stroke=\"black\" cx=\"72\" cy=\"-204\" rx=\"34.65\" ry=\"42.25\"/>\n",
       "<text text-anchor=\"middle\" x=\"72\" y=\"-216.57\" font-family=\"Times,serif\" font-size=\"14.00\">pi</text>\n",
       "<text text-anchor=\"middle\" x=\"72\" y=\"-199.32\" font-family=\"Times,serif\" font-size=\"14.00\">~</text>\n",
       "<text text-anchor=\"middle\" x=\"72\" y=\"-182.07\" font-family=\"Times,serif\" font-size=\"14.00\">Beta</text>\n",
       "</g>\n",
       "<!-- pi&#45;&gt;y -->\n",
       "<g id=\"edge1\" class=\"edge\">\n",
       "<title>pi&#45;&gt;y</title>\n",
       "<path fill=\"none\" stroke=\"black\" d=\"M72,-161.55C72,-153.75 72,-145.49 72,-137.4\"/>\n",
       "<polygon fill=\"black\" stroke=\"black\" points=\"75.5,-137.64 72,-127.64 68.5,-137.64 75.5,-137.64\"/>\n",
       "</g>\n",
       "</g>\n",
       "</svg>\n"
      ],
      "text/plain": [
       "<graphviz.graphs.Digraph at 0x7fd180ed2240>"
      ]
     },
     "execution_count": 5,
     "metadata": {},
     "output_type": "execute_result"
    }
   ],
   "source": [
    "y = df_summary.head(2)[\"y\"].to_numpy()\n",
    "n = df_summary.head(2)[\"n\"].to_numpy()\n",
    "\n",
    "with pm.Model(coords={\"order\": [1, 2]}) as model:\n",
    "    pi = pm.Beta(\"pi\", alpha=4, beta=2, dims=\"order\")\n",
    "    y = pm.Binomial(\"y\", p=pi, n=n, observed=y, dims=\"order\")\n",
    "    idata = pm.sample(chains=4, random_seed=1211, nuts_sampler=\"nutpie\", progressbar=False)\n",
    "\n",
    "model.to_graphviz()"
   ]
  },
  {
   "cell_type": "markdown",
   "id": "a9032c2c",
   "metadata": {},
   "source": [
    "Calculamos $\\delta$ como la diferencia entre $\\pi_2$ y $\\pi_1$, y analizamos las distribuciones marginales *a posteriori*.\n",
    "\n",
    "En primer lugar, los diagnósticos no indican problemas en el muestreo: $\\hat{R}$ cercano a 1, tamaños efectivos de muestra adecuados, etc."
   ]
  },
  {
   "cell_type": "code",
   "execution_count": 6,
   "id": "da64b84f",
   "metadata": {},
   "outputs": [
    {
     "data": {
      "text/html": [
       "<div>\n",
       "<style scoped>\n",
       "    .dataframe tbody tr th:only-of-type {\n",
       "        vertical-align: middle;\n",
       "    }\n",
       "\n",
       "    .dataframe tbody tr th {\n",
       "        vertical-align: top;\n",
       "    }\n",
       "\n",
       "    .dataframe thead th {\n",
       "        text-align: right;\n",
       "    }\n",
       "</style>\n",
       "<table border=\"1\" class=\"dataframe\">\n",
       "  <thead>\n",
       "    <tr style=\"text-align: right;\">\n",
       "      <th></th>\n",
       "      <th>mean</th>\n",
       "      <th>sd</th>\n",
       "      <th>hdi_3%</th>\n",
       "      <th>hdi_97%</th>\n",
       "      <th>mcse_mean</th>\n",
       "      <th>mcse_sd</th>\n",
       "      <th>ess_bulk</th>\n",
       "      <th>ess_tail</th>\n",
       "      <th>r_hat</th>\n",
       "    </tr>\n",
       "  </thead>\n",
       "  <tbody>\n",
       "    <tr>\n",
       "      <th>pi[1]</th>\n",
       "      <td>0.694</td>\n",
       "      <td>0.010</td>\n",
       "      <td>0.673</td>\n",
       "      <td>0.712</td>\n",
       "      <td>0.0</td>\n",
       "      <td>0.0</td>\n",
       "      <td>4040.0</td>\n",
       "      <td>2880.0</td>\n",
       "      <td>1.0</td>\n",
       "    </tr>\n",
       "    <tr>\n",
       "      <th>pi[2]</th>\n",
       "      <td>0.754</td>\n",
       "      <td>0.011</td>\n",
       "      <td>0.733</td>\n",
       "      <td>0.773</td>\n",
       "      <td>0.0</td>\n",
       "      <td>0.0</td>\n",
       "      <td>3996.0</td>\n",
       "      <td>2737.0</td>\n",
       "      <td>1.0</td>\n",
       "    </tr>\n",
       "    <tr>\n",
       "      <th>delta</th>\n",
       "      <td>0.061</td>\n",
       "      <td>0.015</td>\n",
       "      <td>0.030</td>\n",
       "      <td>0.088</td>\n",
       "      <td>0.0</td>\n",
       "      <td>0.0</td>\n",
       "      <td>4193.0</td>\n",
       "      <td>2918.0</td>\n",
       "      <td>1.0</td>\n",
       "    </tr>\n",
       "  </tbody>\n",
       "</table>\n",
       "</div>"
      ],
      "text/plain": [
       "        mean     sd  hdi_3%  hdi_97%  mcse_mean  mcse_sd  ess_bulk  ess_tail  \\\n",
       "pi[1]  0.694  0.010   0.673    0.712        0.0      0.0    4040.0    2880.0   \n",
       "pi[2]  0.754  0.011   0.733    0.773        0.0      0.0    3996.0    2737.0   \n",
       "delta  0.061  0.015   0.030    0.088        0.0      0.0    4193.0    2918.0   \n",
       "\n",
       "       r_hat  \n",
       "pi[1]    1.0  \n",
       "pi[2]    1.0  \n",
       "delta    1.0  "
      ]
     },
     "execution_count": 6,
     "metadata": {},
     "output_type": "execute_result"
    }
   ],
   "source": [
    "#| classes: .center-table-70\n",
    "idata.posterior[\"delta\"] = idata.posterior[\"pi\"].sel(order=2) - idata.posterior[\"pi\"].sel(order=1)\n",
    "az.summary(idata, var_names=[\"pi\", \"delta\"])"
   ]
  },
  {
   "cell_type": "markdown",
   "id": "bbc32a2c",
   "metadata": {},
   "source": [
    "Si nos enfocamos en la distribución _a posteriori_ de $\\delta$, podemos ver que la probabilidad de que $\\delta$ sea mayor a 0 es igual a 1.\n",
    "\n",
    "Así, llegamos a nuestra primera gran conclusión: efectivamente, la probabilidad de acertar en el segundo intento es mayor que en el primero.\n",
    "De hecho, la probabilidad de acierto se incrementa, en promedio, un 6 %.\n",
    "Y, con un alto grado de certeza, podemos afirmar que esta mejora se encuentra entre el 3 % y el 9 %."
   ]
  },
  {
   "cell_type": "code",
   "execution_count": 7,
   "id": "6c65a1c7",
   "metadata": {},
   "outputs": [
    {
     "data": {
      "image/png": "[encoded data removed]",
      "text/plain": [
       "<Figure size 900x400 with 2 Axes>"
      ]
     },
     "metadata": {},
     "output_type": "display_data"
    }
   ],
   "source": [
    "#| echo: false\n",
    "fig, axes = plt.subplots(1, 2, figsize=(9, 4), layout=\"constrained\")\n",
    "\n",
    "axes[0].hist(idata.posterior.pi.sel(order=1).values.ravel(), bins=50, color=c_blue, label=\"Throw 1\")\n",
    "axes[0].hist(idata.posterior.pi.sel(order=2).values.ravel(), bins=50, color=c_orange, label=\"Throw 2\")\n",
    "axes[1].hist(idata.posterior.delta.values.ravel(), bins=50, color=c_blue)\n",
    "\n",
    "axes[0].set(xlabel=\"$\\\\pi$\", yticks=[])\n",
    "axes[0].legend()\n",
    "axes[1].set(xlabel=\"$\\\\delta$\", yticks=[]);"
   ]
  },
  {
   "cell_type": "markdown",
   "id": "773508c5",
   "metadata": {},
   "source": [
    "## Modelo parcialmente agrupado\n",
    "\n",
    "El modelo anterior solo nos permite concluir que es más probable que un _rookie_ acierte un segundo lanzamiento que un primero (y cuantificar la magnitud de la diferencia).\n",
    "Sin embargo, no podemos extraer conclusiones sobre jugadores individuales.\n",
    "Por ejemplo, no sabemos si este fenómeno de “precalentamiento” se presenta en todos ellos, ni si su intensidad varía de un jugador a otro.\n",
    "\n",
    "Una alternativa sería ajustar pares de modelos beta-binomiales como los anteriores para cada jugador.\n",
    "Lamentablemente, dado que la cantidad de disparos varía entre apenas uno y unas pocas centenas, las distribuciones _a posteriori_ pueden resultar extremadamente inciertas en algunos casos o excesivamente confiadas en otros.\n",
    "\n",
    "Así llegamos a la alternativa bayesiana por excelencia: el modelo jerárquico.\n",
    "Bajo este enfoque, cada jugador tiene su propia probabilidad de acierto, pero dicha probabilidad proviene de una distribución común compartida con el resto.\n",
    "De este modo, las estimaciones son más estables y se evita el sobreajuste a los datos particulares de cada jugador, ya que la distribución *a posteriori* de cada uno está influenciada, en cierta medida, por la información del resto.\n",
    "\n",
    "Los datos que necesitamos son la cantidad de disparos y aciertos en el primer y segundo intento para cada jugador.\n",
    "Por simplicidad, consideramos únicamente a los jugadores que realizaron al menos una serie de dos tiros libres."
   ]
  },
  {
   "cell_type": "code",
   "execution_count": 8,
   "id": "67ef624d",
   "metadata": {},
   "outputs": [
    {
     "data": {
      "text/html": [
       "<div><style>\n",
       ".dataframe > thead > tr,\n",
       ".dataframe > tbody > tr {\n",
       "  text-align: right;\n",
       "  white-space: pre-wrap;\n",
       "}\n",
       "</style>\n",
       "<small>shape: (184, 4)</small><table border=\"1\" class=\"dataframe\"><thead><tr><th>player_id</th><th>order</th><th>y</th><th>n</th></tr><tr><td>i32</td><td>i64</td><td>u32</td><td>u32</td></tr></thead><tbody><tr><td>1630283</td><td>1</td><td>1</td><td>5</td></tr><tr><td>1630283</td><td>2</td><td>5</td><td>5</td></tr><tr><td>1630542</td><td>1</td><td>4</td><td>5</td></tr><tr><td>1630542</td><td>2</td><td>4</td><td>5</td></tr><tr><td>1630545</td><td>1</td><td>9</td><td>12</td></tr><tr><td>&hellip;</td><td>&hellip;</td><td>&hellip;</td><td>&hellip;</td></tr><tr><td>1642502</td><td>2</td><td>1</td><td>2</td></tr><tr><td>1642505</td><td>1</td><td>1</td><td>1</td></tr><tr><td>1642505</td><td>2</td><td>1</td><td>1</td></tr><tr><td>1642530</td><td>1</td><td>4</td><td>5</td></tr><tr><td>1642530</td><td>2</td><td>3</td><td>4</td></tr></tbody></table></div>"
      ],
      "text/plain": [
       "shape: (184, 4)\n",
       "┌───────────┬───────┬─────┬─────┐\n",
       "│ player_id ┆ order ┆ y   ┆ n   │\n",
       "│ ---       ┆ ---   ┆ --- ┆ --- │\n",
       "│ i32       ┆ i64   ┆ u32 ┆ u32 │\n",
       "╞═══════════╪═══════╪═════╪═════╡\n",
       "│ 1630283   ┆ 1     ┆ 1   ┆ 5   │\n",
       "│ 1630283   ┆ 2     ┆ 5   ┆ 5   │\n",
       "│ 1630542   ┆ 1     ┆ 4   ┆ 5   │\n",
       "│ 1630542   ┆ 2     ┆ 4   ┆ 5   │\n",
       "│ 1630545   ┆ 1     ┆ 9   ┆ 12  │\n",
       "│ …         ┆ …     ┆ …   ┆ …   │\n",
       "│ 1642502   ┆ 2     ┆ 1   ┆ 2   │\n",
       "│ 1642505   ┆ 1     ┆ 1   ┆ 1   │\n",
       "│ 1642505   ┆ 2     ┆ 1   ┆ 1   │\n",
       "│ 1642530   ┆ 1     ┆ 4   ┆ 5   │\n",
       "│ 1642530   ┆ 2     ┆ 3   ┆ 4   │\n",
       "└───────────┴───────┴─────┴─────┘"
      ]
     },
     "execution_count": 8,
     "metadata": {},
     "output_type": "execute_result"
    }
   ],
   "source": [
    "#| classes: .center-table-40\n",
    "df_agg = (\n",
    "    df\n",
    "    .group_by(\"player_id\", \"order\")\n",
    "    .agg(\n",
    "        pl.col(\"success\").sum().alias(\"y\"),\n",
    "        pl.len().alias(\"n\")\n",
    "    )\n",
    "    .sort(\"player_id\", \"order\")\n",
    ")\n",
    "selected_ids = (\n",
    "    df_agg\n",
    "    .filter(pl.col(\"order\") == 2, pl.col(\"n\") > 0)\n",
    "    .get_column(\"player_id\")\n",
    "    .unique()\n",
    "    .to_list()\n",
    ")\n",
    "\n",
    "df_model = (\n",
    "    df_agg\n",
    "    .filter(pl.col(\"player_id\").is_in(selected_ids), pl.col(\"order\") < 3)\n",
    "    .sort(\"player_id\", \"order\")\n",
    ")\n",
    "df_model"
   ]
  },
  {
   "cell_type": "markdown",
   "id": "3c1867e9",
   "metadata": {},
   "source": [
    "De manera distribucional, podemos representar al modelo de la siguiente manera:\n",
    "\n",
    "\\begin{aligned}\n",
    "Y_{i1} &\\sim \\text{Binomial}(N_{i1}, \\pi_i) \\\\\n",
    "Y_{i2} &\\sim \\text{Binomial}(N_{i2}, \\theta_i) \\\\ \\\\\n",
    "\n",
    "& \\text{--- P(Free throw 1 is made) ---} \\\\\n",
    "\n",
    "\\pi_i &\\sim \\text{Beta}(\\mu_\\pi, \\kappa_\\pi) \\\\\n",
    "\\mu_\\pi &\\sim \\text{Beta}(4, 2) \\\\\n",
    "\\kappa_\\pi &\\sim \\text{InverseGamma}(0.5 \\cdot 15, 0.5 \\cdot 15 \\cdot 10) \\\\ \\\\\n",
    "\n",
    "& \\text{--- P(Free throw 2 is made) --- } \\\\\n",
    "\n",
    "\\theta_i &= \\pi_i + \\delta_i \\\\\n",
    "\\delta_i &\\sim \\text{Normal}(\\mu_\\delta, \\sigma^2_\\delta) \\\\\n",
    "\\mu_\\delta &\\sim \\text{Normal}(0, 0.15^2) \\\\\n",
    "\\sigma^2_\\delta &\\sim \\text{InverseGamma}(0.5 \\cdot 30, 0.5 \\cdot 30 \\cdot 0.05) \\\\\n",
    "\\end{aligned}\n",
    "\n",
    "\n",
    "donde $i \\in \\{1, \\dots, 92\\}$ indexa a los jugadores.\n",
    "\n",
    "En otras palabras, modelizamos la probabilidad de acierto en el segundo intento como la suma de la probabilidad de acierto en el primero ($\\pi_i$) y un diferencial específico de cada jugador ($\\delta_i$).\n",
    "\n",
    "Las distribuciones _a priori_ para $\\mu_\\pi$ y $\\mu_\\delta$ son levemente y moderadamente informativas, respectivamente.\n",
    "Por su parte, los _priors_ asignados a $\\kappa_\\pi$ y $\\sigma^2_\\delta$ también son moderadamente informativos, aunque en este caso su función principal es favorecer la estabilidad del muestreo del _posterior_."
   ]
  },
  {
   "cell_type": "code",
   "execution_count": 9,
   "id": "bc932449",
   "metadata": {},
   "outputs": [],
   "source": [
    "y_1 = df_model.filter(pl.col(\"order\") == 1)[\"y\"].to_numpy()   # <1>\n",
    "y_2 = df_model.filter(pl.col(\"order\") == 2)[\"y\"].to_numpy()   # <1>\n",
    "n_1 = df_model.filter(pl.col(\"order\") == 1)[\"n\"].to_numpy()   # <1>\n",
    "n_2 = df_model.filter(pl.col(\"order\") == 2)[\"n\"].to_numpy()   # <1>\n",
    "\n",
    "player_ids = df_model[\"player_id\"].unique(maintain_order=True) # <2>\n",
    "N = len(player_ids)                                            # <2>\n",
    "coords = {\"player\": player_ids}                                # <2>\n",
    "\n",
    "with pm.Model(coords=coords) as model_h:\n",
    "    pi_mu = pm.Beta(\"pi_mu\", alpha=4, beta=2)                                     # <3>\n",
    "    pi_kappa = pm.InverseGamma(\"pi_kappa\", alpha=0.5 * 15, beta=0.5 * 15 * 10)    # <3>\n",
    "    pi_alpha = pi_mu * pi_kappa                                                   # <3>\n",
    "    pi_beta = (1 - pi_mu) * pi_kappa                                              # <3>\n",
    "    pi = pm.Beta(\"pi\", alpha=pi_alpha, beta=pi_beta, dims=\"player\")               # <3>\n",
    "\n",
    "    delta_mu = pm.Normal(\"delta_mu\", mu=0, sigma=0.15)                                      # <4>\n",
    "    delta_sigma = pm.InverseGamma(\"delta_sigma^2\", 0.5 * 30, 0.5 * 30 * 0.05 ** 2) ** 0.5   # <4>\n",
    "    delta = pm.Normal(                                                                      # <4>\n",
    "        \"delta\", mu=delta_mu, sigma=delta_sigma, dims=\"player\", initval=np.zeros(N)         # <5>\n",
    "    )                                                                                       # <4>\n",
    "    theta = pm.Deterministic(\"theta\", pt.clip(pi + delta, 0.0001, 0.9999), dims=\"player\")   # <6>\n",
    "    # <4>\n",
    "\n",
    "    pm.Binomial(\"y_1\", p=pi, n=n_1, observed=y_1, dims=\"player\")\n",
    "    pm.Binomial(\"y_2\", p=theta, n=n_2, observed=y_2, dims=\"player\")"
   ]
  },
  {
   "cell_type": "markdown",
   "id": "f4142d86",
   "metadata": {},
   "source": [
    "1. **Preparación de datos:** se usan vectores (se podrían haber usado arreglos bidimensionales).\n",
    "2. **Preparación de coordenadas:** representan los diferentes jugadores.\n",
    "3. **Construcción de $\\pi_i$:** se asignan _priors_ para la media y la precisión, que luego se transforman en parámetros de escala para usados directamente en `pm.Beta`.\n",
    "4. **Construcción de $\\theta_i$:** se especifica, para cada jugador, un parámetro de diferencia $\\delta_i$.\n",
    "5. **Uso de `initval`:** para que el algoritmo de inferencia comience en un punto válido del espacio paramétrico.\n",
    "6. **Uso de `pt.clip`:** para asegurarnos que $\\pi_i + \\delta_i$ se encuentre entre 0 y 1. Esto no afecta al _posterior_, pero es necesario para inicializar correctamente el algoritmo de muestreo.\n",
    "\n",
    "Finalmente, así es como se ve una representación gráfica del modelo:"
   ]
  },
  {
   "cell_type": "code",
   "execution_count": 10,
   "id": "cd7ff322",
   "metadata": {},
   "outputs": [
    {
     "data": {
      "image/svg+xml": [
       "<?xml version=\"1.0\" encoding=\"UTF-8\" standalone=\"no\"?>\n",
       "<!DOCTYPE svg PUBLIC \"-//W3C//DTD SVG 1.1//EN\"\n",
       " \"http://www.w3.org/Graphics/SVG/1.1/DTD/svg11.dtd\">\n",
       "<!-- Generated by graphviz version 12.2.1 (20250203.1708)\n",
       " -->\n",
       "<!-- Pages: 1 -->\n",
       "<svg width=\"565pt\" height=\"495pt\"\n",
       " viewBox=\"0.00 0.00 564.99 495.25\" xmlns=\"http://www.w3.org/2000/svg\" xmlns:xlink=\"http://www.w3.org/1999/xlink\">\n",
       "<g id=\"graph0\" class=\"graph\" transform=\"scale(1 1) rotate(0) translate(4 491.25)\">\n",
       "<polygon fill=\"white\" stroke=\"none\" points=\"-4,4 -4,-491.25 560.99,-491.25 560.99,4 -4,4\"/>\n",
       "<g id=\"clust1\" class=\"cluster\">\n",
       "<title>clusterplayer (92)</title>\n",
       "<path fill=\"none\" stroke=\"black\" d=\"M135.54,-8C135.54,-8 371.54,-8 371.54,-8 377.54,-8 383.54,-14 383.54,-20 383.54,-20 383.54,-362.75 383.54,-362.75 383.54,-368.75 377.54,-374.75 371.54,-374.75 371.54,-374.75 135.54,-374.75 135.54,-374.75 129.54,-374.75 123.54,-368.75 123.54,-362.75 123.54,-362.75 123.54,-20 123.54,-20 123.54,-14 129.54,-8 135.54,-8\"/>\n",
       "<text text-anchor=\"middle\" x=\"336.54\" y=\"-15.95\" font-family=\"Times,serif\" font-size=\"14.00\">player (92)</text>\n",
       "</g>\n",
       "<!-- pi_mu -->\n",
       "<g id=\"node1\" class=\"node\">\n",
       "<title>pi_mu</title>\n",
       "<ellipse fill=\"none\" stroke=\"black\" cx=\"41.54\" cy=\"-445\" rx=\"41.54\" ry=\"42.25\"/>\n",
       "<text text-anchor=\"middle\" x=\"41.54\" y=\"-457.57\" font-family=\"Times,serif\" font-size=\"14.00\">pi_mu</text>\n",
       "<text text-anchor=\"middle\" x=\"41.54\" y=\"-440.32\" font-family=\"Times,serif\" font-size=\"14.00\">~</text>\n",
       "<text text-anchor=\"middle\" x=\"41.54\" y=\"-423.07\" font-family=\"Times,serif\" font-size=\"14.00\">Beta</text>\n",
       "</g>\n",
       "<!-- pi -->\n",
       "<g id=\"node6\" class=\"node\">\n",
       "<title>pi</title>\n",
       "<ellipse fill=\"none\" stroke=\"black\" cx=\"177.54\" cy=\"-324.5\" rx=\"34.65\" ry=\"42.25\"/>\n",
       "<text text-anchor=\"middle\" x=\"177.54\" y=\"-337.07\" font-family=\"Times,serif\" font-size=\"14.00\">pi</text>\n",
       "<text text-anchor=\"middle\" x=\"177.54\" y=\"-319.82\" font-family=\"Times,serif\" font-size=\"14.00\">~</text>\n",
       "<text text-anchor=\"middle\" x=\"177.54\" y=\"-302.57\" font-family=\"Times,serif\" font-size=\"14.00\">Beta</text>\n",
       "</g>\n",
       "<!-- pi_mu&#45;&gt;pi -->\n",
       "<g id=\"edge1\" class=\"edge\">\n",
       "<title>pi_mu&#45;&gt;pi</title>\n",
       "<path fill=\"none\" stroke=\"black\" d=\"M72.74,-416.81C93.15,-399.03 119.87,-375.75 141.23,-357.14\"/>\n",
       "<polygon fill=\"black\" stroke=\"black\" points=\"143.34,-359.94 148.58,-350.74 138.74,-354.67 143.34,-359.94\"/>\n",
       "</g>\n",
       "<!-- pi_kappa -->\n",
       "<g id=\"node2\" class=\"node\">\n",
       "<title>pi_kappa</title>\n",
       "<ellipse fill=\"none\" stroke=\"black\" cx=\"166.54\" cy=\"-445\" rx=\"65.94\" ry=\"42.25\"/>\n",
       "<text text-anchor=\"middle\" x=\"166.54\" y=\"-457.57\" font-family=\"Times,serif\" font-size=\"14.00\">pi_kappa</text>\n",
       "<text text-anchor=\"middle\" x=\"166.54\" y=\"-440.32\" font-family=\"Times,serif\" font-size=\"14.00\">~</text>\n",
       "<text text-anchor=\"middle\" x=\"166.54\" y=\"-423.07\" font-family=\"Times,serif\" font-size=\"14.00\">InvGamma</text>\n",
       "</g>\n",
       "<!-- pi_kappa&#45;&gt;pi -->\n",
       "<g id=\"edge2\" class=\"edge\">\n",
       "<title>pi_kappa&#45;&gt;pi</title>\n",
       "<path fill=\"none\" stroke=\"black\" d=\"M170.39,-402.55C171.12,-394.66 171.9,-386.3 172.66,-378.11\"/>\n",
       "<polygon fill=\"black\" stroke=\"black\" points=\"176.14,-378.51 173.58,-368.23 169.17,-377.86 176.14,-378.51\"/>\n",
       "</g>\n",
       "<!-- delta_sigma^2 -->\n",
       "<g id=\"node3\" class=\"node\">\n",
       "<title>delta_sigma^2</title>\n",
       "<ellipse fill=\"none\" stroke=\"black\" cx=\"337.54\" cy=\"-445\" rx=\"86.62\" ry=\"42.25\"/>\n",
       "<text text-anchor=\"middle\" x=\"337.54\" y=\"-457.57\" font-family=\"Times,serif\" font-size=\"14.00\">delta_sigma^2</text>\n",
       "<text text-anchor=\"middle\" x=\"337.54\" y=\"-440.32\" font-family=\"Times,serif\" font-size=\"14.00\">~</text>\n",
       "<text text-anchor=\"middle\" x=\"337.54\" y=\"-423.07\" font-family=\"Times,serif\" font-size=\"14.00\">InvGamma</text>\n",
       "</g>\n",
       "<!-- delta -->\n",
       "<g id=\"node7\" class=\"node\">\n",
       "<title>delta</title>\n",
       "<ellipse fill=\"none\" stroke=\"black\" cx=\"326.54\" cy=\"-324.5\" rx=\"48.97\" ry=\"42.25\"/>\n",
       "<text text-anchor=\"middle\" x=\"326.54\" y=\"-337.07\" font-family=\"Times,serif\" font-size=\"14.00\">delta</text>\n",
       "<text text-anchor=\"middle\" x=\"326.54\" y=\"-319.82\" font-family=\"Times,serif\" font-size=\"14.00\">~</text>\n",
       "<text text-anchor=\"middle\" x=\"326.54\" y=\"-302.57\" font-family=\"Times,serif\" font-size=\"14.00\">Normal</text>\n",
       "</g>\n",
       "<!-- delta_sigma^2&#45;&gt;delta -->\n",
       "<g id=\"edge3\" class=\"edge\">\n",
       "<title>delta_sigma^2&#45;&gt;delta</title>\n",
       "<path fill=\"none\" stroke=\"black\" d=\"M333.7,-402.55C332.96,-394.66 332.19,-386.3 331.43,-378.11\"/>\n",
       "<polygon fill=\"black\" stroke=\"black\" points=\"334.92,-377.86 330.51,-368.23 327.95,-378.51 334.92,-377.86\"/>\n",
       "</g>\n",
       "<!-- delta_mu -->\n",
       "<g id=\"node4\" class=\"node\">\n",
       "<title>delta_mu</title>\n",
       "<ellipse fill=\"none\" stroke=\"black\" cx=\"499.54\" cy=\"-445\" rx=\"57.45\" ry=\"42.25\"/>\n",
       "<text text-anchor=\"middle\" x=\"499.54\" y=\"-457.57\" font-family=\"Times,serif\" font-size=\"14.00\">delta_mu</text>\n",
       "<text text-anchor=\"middle\" x=\"499.54\" y=\"-440.32\" font-family=\"Times,serif\" font-size=\"14.00\">~</text>\n",
       "<text text-anchor=\"middle\" x=\"499.54\" y=\"-423.07\" font-family=\"Times,serif\" font-size=\"14.00\">Normal</text>\n",
       "</g>\n",
       "<!-- delta_mu&#45;&gt;delta -->\n",
       "<g id=\"edge4\" class=\"edge\">\n",
       "<title>delta_mu&#45;&gt;delta</title>\n",
       "<path fill=\"none\" stroke=\"black\" d=\"M458.1,-415.61C432.82,-398.3 400.41,-376.09 374.08,-358.06\"/>\n",
       "<polygon fill=\"black\" stroke=\"black\" points=\"376.16,-355.24 365.93,-352.48 372.21,-361.02 376.16,-355.24\"/>\n",
       "</g>\n",
       "<!-- y_1 -->\n",
       "<g id=\"node5\" class=\"node\">\n",
       "<title>y_1</title>\n",
       "<ellipse fill=\"lightgrey\" stroke=\"black\" cx=\"187.54\" cy=\"-204\" rx=\"55.86\" ry=\"42.25\"/>\n",
       "<text text-anchor=\"middle\" x=\"187.54\" y=\"-216.57\" font-family=\"Times,serif\" font-size=\"14.00\">y_1</text>\n",
       "<text text-anchor=\"middle\" x=\"187.54\" y=\"-199.32\" font-family=\"Times,serif\" font-size=\"14.00\">~</text>\n",
       "<text text-anchor=\"middle\" x=\"187.54\" y=\"-182.07\" font-family=\"Times,serif\" font-size=\"14.00\">Binomial</text>\n",
       "</g>\n",
       "<!-- pi&#45;&gt;y_1 -->\n",
       "<g id=\"edge7\" class=\"edge\">\n",
       "<title>pi&#45;&gt;y_1</title>\n",
       "<path fill=\"none\" stroke=\"black\" d=\"M181.04,-282.05C181.7,-274.25 182.4,-265.99 183.08,-257.9\"/>\n",
       "<polygon fill=\"black\" stroke=\"black\" points=\"186.55,-258.39 183.9,-248.13 179.57,-257.8 186.55,-258.39\"/>\n",
       "</g>\n",
       "<!-- theta -->\n",
       "<g id=\"node9\" class=\"node\">\n",
       "<title>theta</title>\n",
       "<polygon fill=\"none\" stroke=\"black\" points=\"375.29,-233.87 261.79,-233.87 261.79,-174.12 375.29,-174.12 375.29,-233.87\"/>\n",
       "<text text-anchor=\"middle\" x=\"318.54\" y=\"-216.57\" font-family=\"Times,serif\" font-size=\"14.00\">theta</text>\n",
       "<text text-anchor=\"middle\" x=\"318.54\" y=\"-199.32\" font-family=\"Times,serif\" font-size=\"14.00\">~</text>\n",
       "<text text-anchor=\"middle\" x=\"318.54\" y=\"-182.07\" font-family=\"Times,serif\" font-size=\"14.00\">Deterministic</text>\n",
       "</g>\n",
       "<!-- pi&#45;&gt;theta -->\n",
       "<g id=\"edge6\" class=\"edge\">\n",
       "<title>pi&#45;&gt;theta</title>\n",
       "<path fill=\"none\" stroke=\"black\" d=\"M205.74,-299.8C225.53,-283.17 252.39,-260.6 274.93,-241.65\"/>\n",
       "<polygon fill=\"black\" stroke=\"black\" points=\"277.09,-244.41 282.49,-235.3 272.59,-239.05 277.09,-244.41\"/>\n",
       "</g>\n",
       "<!-- delta&#45;&gt;theta -->\n",
       "<g id=\"edge5\" class=\"edge\">\n",
       "<title>delta&#45;&gt;theta</title>\n",
       "<path fill=\"none\" stroke=\"black\" d=\"M323.74,-282.05C322.95,-270.24 322.08,-257.39 321.29,-245.62\"/>\n",
       "<polygon fill=\"black\" stroke=\"black\" points=\"324.79,-245.55 320.62,-235.81 317.8,-246.02 324.79,-245.55\"/>\n",
       "</g>\n",
       "<!-- y_2 -->\n",
       "<g id=\"node8\" class=\"node\">\n",
       "<title>y_2</title>\n",
       "<ellipse fill=\"lightgrey\" stroke=\"black\" cx=\"318.54\" cy=\"-83.5\" rx=\"55.86\" ry=\"42.25\"/>\n",
       "<text text-anchor=\"middle\" x=\"318.54\" y=\"-96.07\" font-family=\"Times,serif\" font-size=\"14.00\">y_2</text>\n",
       "<text text-anchor=\"middle\" x=\"318.54\" y=\"-78.82\" font-family=\"Times,serif\" font-size=\"14.00\">~</text>\n",
       "<text text-anchor=\"middle\" x=\"318.54\" y=\"-61.57\" font-family=\"Times,serif\" font-size=\"14.00\">Binomial</text>\n",
       "</g>\n",
       "<!-- theta&#45;&gt;y_2 -->\n",
       "<g id=\"edge8\" class=\"edge\">\n",
       "<title>theta&#45;&gt;y_2</title>\n",
       "<path fill=\"none\" stroke=\"black\" d=\"M318.54,-173.71C318.54,-162.69 318.54,-149.79 318.54,-137.29\"/>\n",
       "<polygon fill=\"black\" stroke=\"black\" points=\"322.04,-137.49 318.54,-127.49 315.04,-137.49 322.04,-137.49\"/>\n",
       "</g>\n",
       "</g>\n",
       "</svg>\n"
      ],
      "text/plain": [
       "<graphviz.graphs.Digraph at 0x7fd180fa0320>"
      ]
     },
     "execution_count": 10,
     "metadata": {},
     "output_type": "execute_result"
    }
   ],
   "source": [
    "#| echo: false\n",
    "\n",
    "# Regular data preparation. I could have used two bi-dimensional arrays, too.\n",
    "# NOTE: Clip to guarantee theta is within the expected range, needed for initialization\n",
    "model_h.to_graphviz()"
   ]
  },
  {
   "cell_type": "markdown",
   "id": "f574d569",
   "metadata": {},
   "source": [
    "Gracias a nutpie, es posible obtener muestras fiables del _posterior_ en muy pocos segundos.\n",
    "\n",
    "Si bien los diagnósticos no se ven tan bien como en el modelo agrupado (lo cual es esperable en modelos jerárquicos), los valores son aceptables y podemos continuar con nuestro análisis."
   ]
  },
  {
   "cell_type": "code",
   "execution_count": 11,
   "id": "e391709d",
   "metadata": {},
   "outputs": [
    {
     "data": {
      "text/html": [
       "<div>\n",
       "<style scoped>\n",
       "    .dataframe tbody tr th:only-of-type {\n",
       "        vertical-align: middle;\n",
       "    }\n",
       "\n",
       "    .dataframe tbody tr th {\n",
       "        vertical-align: top;\n",
       "    }\n",
       "\n",
       "    .dataframe thead th {\n",
       "        text-align: right;\n",
       "    }\n",
       "</style>\n",
       "<table border=\"1\" class=\"dataframe\">\n",
       "  <thead>\n",
       "    <tr style=\"text-align: right;\">\n",
       "      <th></th>\n",
       "      <th>mean</th>\n",
       "      <th>sd</th>\n",
       "      <th>hdi_3%</th>\n",
       "      <th>hdi_97%</th>\n",
       "      <th>mcse_mean</th>\n",
       "      <th>mcse_sd</th>\n",
       "      <th>ess_bulk</th>\n",
       "      <th>ess_tail</th>\n",
       "      <th>r_hat</th>\n",
       "    </tr>\n",
       "  </thead>\n",
       "  <tbody>\n",
       "    <tr>\n",
       "      <th>pi_mu</th>\n",
       "      <td>0.698</td>\n",
       "      <td>0.015</td>\n",
       "      <td>0.670</td>\n",
       "      <td>0.727</td>\n",
       "      <td>0.000</td>\n",
       "      <td>0.000</td>\n",
       "      <td>1063.0</td>\n",
       "      <td>2206.0</td>\n",
       "      <td>1.00</td>\n",
       "    </tr>\n",
       "    <tr>\n",
       "      <th>pi_kappa</th>\n",
       "      <td>28.903</td>\n",
       "      <td>9.035</td>\n",
       "      <td>14.499</td>\n",
       "      <td>45.731</td>\n",
       "      <td>0.286</td>\n",
       "      <td>0.278</td>\n",
       "      <td>1001.0</td>\n",
       "      <td>1623.0</td>\n",
       "      <td>1.00</td>\n",
       "    </tr>\n",
       "    <tr>\n",
       "      <th>delta_mu</th>\n",
       "      <td>0.055</td>\n",
       "      <td>0.016</td>\n",
       "      <td>0.027</td>\n",
       "      <td>0.086</td>\n",
       "      <td>0.001</td>\n",
       "      <td>0.000</td>\n",
       "      <td>497.0</td>\n",
       "      <td>910.0</td>\n",
       "      <td>1.01</td>\n",
       "    </tr>\n",
       "    <tr>\n",
       "      <th>delta_sigma^2</th>\n",
       "      <td>0.002</td>\n",
       "      <td>0.001</td>\n",
       "      <td>0.001</td>\n",
       "      <td>0.003</td>\n",
       "      <td>0.000</td>\n",
       "      <td>0.000</td>\n",
       "      <td>1262.0</td>\n",
       "      <td>2006.0</td>\n",
       "      <td>1.00</td>\n",
       "    </tr>\n",
       "  </tbody>\n",
       "</table>\n",
       "</div>"
      ],
      "text/plain": [
       "                 mean     sd  hdi_3%  hdi_97%  mcse_mean  mcse_sd  ess_bulk  \\\n",
       "pi_mu           0.698  0.015   0.670    0.727      0.000    0.000    1063.0   \n",
       "pi_kappa       28.903  9.035  14.499   45.731      0.286    0.278    1001.0   \n",
       "delta_mu        0.055  0.016   0.027    0.086      0.001    0.000     497.0   \n",
       "delta_sigma^2   0.002  0.001   0.001    0.003      0.000    0.000    1262.0   \n",
       "\n",
       "               ess_tail  r_hat  \n",
       "pi_mu            2206.0   1.00  \n",
       "pi_kappa         1623.0   1.00  \n",
       "delta_mu          910.0   1.01  \n",
       "delta_sigma^2    2006.0   1.00  "
      ]
     },
     "execution_count": 11,
     "metadata": {},
     "output_type": "execute_result"
    }
   ],
   "source": [
    "#| classes: .center-table-70\n",
    "with model_h:\n",
    "    idata_h = pm.sample(\n",
    "        chains=4,\n",
    "        target_accept=0.99,\n",
    "        nuts_sampler=\"nutpie\",\n",
    "        random_seed=1211,\n",
    "        progressbar=False,\n",
    "    )\n",
    "\n",
    "az.summary(idata_h, var_names=[\"pi_mu\", \"pi_kappa\", \"delta_mu\", \"delta_sigma^2\"])"
   ]
  },
  {
   "cell_type": "markdown",
   "id": "65919f45",
   "metadata": {},
   "source": [
    "Los _posteriors_ marginales de los parámetros poblacionales son los siguientes:"
   ]
  },
  {
   "cell_type": "code",
   "execution_count": 12,
   "id": "31602cfd",
   "metadata": {},
   "outputs": [
    {
     "data": {
      "image/png": "[encoded data removed]",
      "text/plain": [
       "<Figure size 900x600 with 4 Axes>"
      ]
     },
     "metadata": {},
     "output_type": "display_data"
    }
   ],
   "source": [
    "#| echo: false\n",
    "fig, axes = plt.subplots(2, 2, figsize=(9, 6), layout=\"constrained\")\n",
    "\n",
    "axes[0, 0].hist(idata_h.posterior[\"pi_mu\"].to_numpy().flatten(), bins=50, color=c_blue);\n",
    "axes[1, 0].hist(idata_h.posterior[\"pi_kappa\"].to_numpy().flatten(), bins=50, color=c_blue);\n",
    "axes[0, 1].hist(idata_h.posterior[\"delta_mu\"].to_numpy().flatten(), bins=50, color=c_orange);\n",
    "axes[1, 1].hist(idata_h.posterior[\"delta_sigma^2\"].to_numpy().flatten(), bins=50, color=c_orange);\n",
    "\n",
    "axes[0, 0].set(yticks=[], title=\"$\\\\mu_{\\\\pi}$\")\n",
    "axes[1, 0].set(yticks=[], title=\"$\\\\kappa_{\\\\pi}$\")\n",
    "axes[0, 1].set(yticks=[], title=\"$\\\\mu_{\\\\delta}$\")\n",
    "axes[1, 1].set(yticks=[], title=\"$\\\\sigma^2_{\\\\delta}$\");"
   ]
  },
  {
   "cell_type": "markdown",
   "id": "ef46d599",
   "metadata": {},
   "source": [
    "A simple vista, se observa que, en promedio, la probabilidad de acertar un primer lanzamiento ronda el 70 %, y que los segundos intentos tienen, en promedio, cerca de un 6 % más de probabilidad de ser convertidos. Aunque esto no resulte novedoso, es satisfactorio comprobar que las inferencias obtenidas con el modelo jerárquico son consistentes con los hallazgos anteriores.\n",
    "\n",
    "Lo realmente interesante de este modelo jerárquico es que nos permite analizar las distribuciones *a posteriori* de $\\pi_i$, $\\theta_i$ y $\\delta_i$ a nivel individual, es decir, para cada jugador.\n",
    "\n",
    "Sin embargo, visualizar estas distribuciones para todos ellos puede resultar poco práctico.\n",
    "Por eso, seleccionamos un subconjunto representativo de jugadores en función de sus valores de $N_1$ (la cantidad de primeros lanzamientos).\n",
    "En concreto, conservamos a los 10 jugadores con mayor $N_1$ y, entre el resto, los ordenamos de menor a mayor y elegimos uno cada dos posiciones para formar una muestra más manejable."
   ]
  },
  {
   "cell_type": "code",
   "execution_count": 13,
   "id": "843351de",
   "metadata": {},
   "outputs": [
    {
     "data": {
      "text/html": [
       "<div><style>\n",
       ".dataframe > thead > tr,\n",
       ".dataframe > tbody > tr {\n",
       "  text-align: right;\n",
       "  white-space: pre-wrap;\n",
       "}\n",
       "</style>\n",
       "<small>shape: (26, 6)</small><table border=\"1\" class=\"dataframe\"><thead><tr><th>player_id</th><th>player_name</th><th>y_1</th><th>y_2</th><th>n_1</th><th>n_2</th></tr><tr><td>i32</td><td>str</td><td>u32</td><td>u32</td><td>u32</td><td>u32</td></tr></thead><tbody><tr><td>1642264</td><td>&quot;Castle, Stephon&quot;</td><td>128</td><td>121</td><td>192</td><td>152</td></tr><tr><td>1642274</td><td>&quot;Missi, Yves&quot;</td><td>63</td><td>64</td><td>112</td><td>92</td></tr><tr><td>1642259</td><td>&quot;Sarr, Alex&quot;</td><td>62</td><td>50</td><td>88</td><td>77</td></tr><tr><td>1642268</td><td>&quot;Collier, Isaiah&quot;</td><td>56</td><td>49</td><td>85</td><td>69</td></tr><tr><td>1642258</td><td>&quot;Risacher, Zaccharie&quot;</td><td>55</td><td>47</td><td>82</td><td>62</td></tr><tr><td>1642271</td><td>&quot;Filipowski, Kyle&quot;</td><td>47</td><td>46</td><td>81</td><td>62</td></tr><tr><td>1641744</td><td>&quot;Edey, Zach&quot;</td><td>54</td><td>36</td><td>76</td><td>51</td></tr><tr><td>1642377</td><td>&quot;Wells, Jaylen&quot;</td><td>62</td><td>44</td><td>73</td><td>56</td></tr><tr><td>1641842</td><td>&quot;Holland II, Ronald&quot;</td><td>51</td><td>41</td><td>70</td><td>52</td></tr><tr><td>1642270</td><td>&quot;Clingan, Donovan&quot;</td><td>33</td><td>29</td><td>60</td><td>44</td></tr><tr><td>1641824</td><td>&quot;Buzelis, Matas&quot;</td><td>45</td><td>43</td><td>59</td><td>49</td></tr><tr><td>1642273</td><td>&quot;George, Kyshawn&quot;</td><td>39</td><td>31</td><td>51</td><td>42</td></tr><tr><td>1642266</td><td>&quot;Walter, Ja&#x27;Kobe&quot;</td><td>34</td><td>32</td><td>47</td><td>36</td></tr><tr><td>1642347</td><td>&quot;Shead, Jamal&quot;</td><td>32</td><td>20</td><td>42</td><td>26</td></tr><tr><td>1641783</td><td>&quot;da Silva, Tristan&quot;</td><td>29</td><td>26</td><td>35</td><td>28</td></tr><tr><td>1642272</td><td>&quot;McCain, Jared&quot;</td><td>23</td><td>23</td><td>28</td><td>25</td></tr><tr><td>1642348</td><td>&quot;Edwards, Justin&quot;</td><td>17</td><td>15</td><td>24</td><td>22</td></tr><tr><td>1641810</td><td>&quot;Reeves, Antonio&quot;</td><td>16</td><td>12</td><td>21</td><td>14</td></tr><tr><td>1631232</td><td>&quot;Brooks Jr., Keion&quot;</td><td>12</td><td>10</td><td>17</td><td>13</td></tr><tr><td>1642277</td><td>&quot;Furphy, Johnny&quot;</td><td>11</td><td>7</td><td>13</td><td>9</td></tr><tr><td>1641736</td><td>&quot;Beekman, Reece&quot;</td><td>8</td><td>8</td><td>11</td><td>10</td></tr><tr><td>1642265</td><td>&quot;Dillingham, Rob&quot;</td><td>4</td><td>4</td><td>9</td><td>6</td></tr><tr><td>1630574</td><td>&quot;Hukporti, Ariel&quot;</td><td>2</td><td>4</td><td>7</td><td>6</td></tr><tr><td>1630283</td><td>&quot;Kelley, Kylor&quot;</td><td>1</td><td>5</td><td>5</td><td>5</td></tr><tr><td>1641989</td><td>&quot;Harkless, Elijah&quot;</td><td>2</td><td>1</td><td>3</td><td>3</td></tr><tr><td>1630762</td><td>&quot;Wheeler, Phillip&quot;</td><td>1</td><td>1</td><td>1</td><td>1</td></tr></tbody></table></div>"
      ],
      "text/plain": [
       "shape: (26, 6)\n",
       "┌───────────┬─────────────────────┬─────┬─────┬─────┬─────┐\n",
       "│ player_id ┆ player_name         ┆ y_1 ┆ y_2 ┆ n_1 ┆ n_2 │\n",
       "│ ---       ┆ ---                 ┆ --- ┆ --- ┆ --- ┆ --- │\n",
       "│ i32       ┆ str                 ┆ u32 ┆ u32 ┆ u32 ┆ u32 │\n",
       "╞═══════════╪═════════════════════╪═════╪═════╪═════╪═════╡\n",
       "│ 1642264   ┆ Castle, Stephon     ┆ 128 ┆ 121 ┆ 192 ┆ 152 │\n",
       "│ 1642274   ┆ Missi, Yves         ┆ 63  ┆ 64  ┆ 112 ┆ 92  │\n",
       "│ 1642259   ┆ Sarr, Alex          ┆ 62  ┆ 50  ┆ 88  ┆ 77  │\n",
       "│ 1642268   ┆ Collier, Isaiah     ┆ 56  ┆ 49  ┆ 85  ┆ 69  │\n",
       "│ 1642258   ┆ Risacher, Zaccharie ┆ 55  ┆ 47  ┆ 82  ┆ 62  │\n",
       "│ 1642271   ┆ Filipowski, Kyle    ┆ 47  ┆ 46  ┆ 81  ┆ 62  │\n",
       "│ 1641744   ┆ Edey, Zach          ┆ 54  ┆ 36  ┆ 76  ┆ 51  │\n",
       "│ 1642377   ┆ Wells, Jaylen       ┆ 62  ┆ 44  ┆ 73  ┆ 56  │\n",
       "│ 1641842   ┆ Holland II, Ronald  ┆ 51  ┆ 41  ┆ 70  ┆ 52  │\n",
       "│ 1642270   ┆ Clingan, Donovan    ┆ 33  ┆ 29  ┆ 60  ┆ 44  │\n",
       "│ 1641824   ┆ Buzelis, Matas      ┆ 45  ┆ 43  ┆ 59  ┆ 49  │\n",
       "│ 1642273   ┆ George, Kyshawn     ┆ 39  ┆ 31  ┆ 51  ┆ 42  │\n",
       "│ 1642266   ┆ Walter, Ja'Kobe     ┆ 34  ┆ 32  ┆ 47  ┆ 36  │\n",
       "│ 1642347   ┆ Shead, Jamal        ┆ 32  ┆ 20  ┆ 42  ┆ 26  │\n",
       "│ 1641783   ┆ da Silva, Tristan   ┆ 29  ┆ 26  ┆ 35  ┆ 28  │\n",
       "│ 1642272   ┆ McCain, Jared       ┆ 23  ┆ 23  ┆ 28  ┆ 25  │\n",
       "│ 1642348   ┆ Edwards, Justin     ┆ 17  ┆ 15  ┆ 24  ┆ 22  │\n",
       "│ 1641810   ┆ Reeves, Antonio     ┆ 16  ┆ 12  ┆ 21  ┆ 14  │\n",
       "│ 1631232   ┆ Brooks Jr., Keion   ┆ 12  ┆ 10  ┆ 17  ┆ 13  │\n",
       "│ 1642277   ┆ Furphy, Johnny      ┆ 11  ┆ 7   ┆ 13  ┆ 9   │\n",
       "│ 1641736   ┆ Beekman, Reece      ┆ 8   ┆ 8   ┆ 11  ┆ 10  │\n",
       "│ 1642265   ┆ Dillingham, Rob     ┆ 4   ┆ 4   ┆ 9   ┆ 6   │\n",
       "│ 1630574   ┆ Hukporti, Ariel     ┆ 2   ┆ 4   ┆ 7   ┆ 6   │\n",
       "│ 1630283   ┆ Kelley, Kylor       ┆ 1   ┆ 5   ┆ 5   ┆ 5   │\n",
       "│ 1641989   ┆ Harkless, Elijah    ┆ 2   ┆ 1   ┆ 3   ┆ 3   │\n",
       "│ 1630762   ┆ Wheeler, Phillip    ┆ 1   ┆ 1   ┆ 1   ┆ 1   │\n",
       "└───────────┴─────────────────────┴─────┴─────┴─────┴─────┘"
      ]
     },
     "metadata": {},
     "output_type": "display_data"
    }
   ],
   "source": [
    "#| echo: false\n",
    "#| classes: .center-table-60\n",
    "df_selected_players = df_model.filter(pl.col(\"order\") == 1).unique(\"n\").sort(\"n\")\n",
    "players = df_selected_players.get_column(\"player_id\").to_numpy()\n",
    "players = np.concatenate([players[:(len(players ) - 10):2], players[-10:]])\n",
    "\n",
    "player_mapping = []\n",
    "for player in players:\n",
    "    player_name = df.filter(pl.col(\"player_id\") == player).get_column(\"player_name\").unique().item()\n",
    "    player_mapping.append({\"player_id\": player, \"player_name\": player_name})\n",
    "\n",
    "df_player_mapping = pl.from_dicts(player_mapping)\n",
    "with pl.Config(tbl_rows=30):\n",
    "    display(\n",
    "        df_model\n",
    "        .filter(pl.col(\"player_id\").is_in(players))\n",
    "        .join(df_player_mapping, on=\"player_id\")\n",
    "        .pivot(on=\"order\", index=[\"player_id\", \"player_name\"], values=[\"y\", \"n\"])\n",
    "        .sort(\"n_1\", descending=True)\n",
    "    )"
   ]
  },
  {
   "cell_type": "markdown",
   "id": "2a27a234",
   "metadata": {},
   "source": [
    "Luego, podemos visualizar los *posterior* marginales de $\\pi_i$, $\\theta_i$ y $\\delta_i$ para cada jugador seleccionado.\n",
    "Naturalmente, a medida que aumenta la cantidad de disparos observados, las distribuciones *a posteriori* se vuelven más estrechas, reflejando un mayor nivel de certidumbre.\n",
    "\n",
    "En todos los casos, incluso cuando $N_1 = 1$ y $N_2 = 1$, la media *a posteriori* de $\\theta_i$ es mayor que la de $\\pi_i$.\n",
    "\n",
    "Visto desde otro ángulo, en el panel inferior se observa que la media de $\\delta_i$ es siempre mayor que 0.\n",
    "Sin embargo, solo en aquellos casos en los que se registran cientos de lanzamientos puede concluirse, con probabilidad cercana a 1, que los jugadores son efectivamente mejores en los segundos intentos que en los primeros."
   ]
  },
  {
   "cell_type": "code",
   "execution_count": 14,
   "id": "99e20d4c",
   "metadata": {},
   "outputs": [
    {
     "data": {
      "image/png": "[encoded data removed]",
      "text/plain": [
       "<Figure size 900x600 with 2 Axes>"
      ]
     },
     "metadata": {},
     "output_type": "display_data"
    }
   ],
   "source": [
    "#| echo: false\n",
    "posterior_players = idata_h.posterior.sel(player=players)\n",
    "pi_mean = posterior_players[\"pi\"].mean((\"chain\", \"draw\")).to_numpy()\n",
    "pi_ci = posterior_players[\"pi\"].quantile((0.05, 0.95), (\"chain\", \"draw\")).to_numpy()\n",
    "\n",
    "theta_mean = posterior_players[\"theta\"].mean((\"chain\", \"draw\")).to_numpy()\n",
    "theta_ci = posterior_players[\"theta\"].quantile((0.05, 0.95), (\"chain\", \"draw\")).to_numpy()\n",
    "\n",
    "delta_mean = posterior_players[\"delta\"].mean((\"chain\", \"draw\")).to_numpy()\n",
    "delta_ci = posterior_players[\"delta\"].quantile((0.05, 0.95), (\"chain\", \"draw\")).to_numpy()\n",
    "\n",
    "x_label = (\n",
    "    df_model\n",
    "    .filter(pl.col(\"player_id\").is_in(players))\n",
    "    .pivot(on=\"order\", index=\"player_id\", values=[\"y\", \"n\"])\n",
    "    .sort(\"n_1\")\n",
    "    .with_columns(\n",
    "        pl.concat_str(pl.col(\"n_1\", \"n_2\"), separator = \"\\n\").alias(\"label\")\n",
    "    )\n",
    "    .get_column(\"label\")\n",
    "    .to_list()\n",
    ")\n",
    "\n",
    "x = np.arange(len(players))\n",
    "\n",
    "fig, axes = plt.subplots(2, 1, figsize=(9, 6), layout=\"constrained\")\n",
    "\n",
    "axes[0].scatter(x - 0.25, pi_mean, color=c_blue, label=\"Throw 1\")\n",
    "axes[0].vlines(x - 0.25, pi_ci[0], pi_ci[1], color=c_blue)\n",
    "axes[0].scatter(x + 0.25, theta_mean, color=c_orange, label=\"Throw 2\")\n",
    "axes[0].vlines(x + 0.25, theta_ci[0], theta_ci[1], color=c_orange)\n",
    "axes[0].set(xticks=[], ylabel=\"P(success)\")\n",
    "axes[0].legend()\n",
    "\n",
    "\n",
    "axes[1].scatter(x, delta_mean, color=c_red)\n",
    "axes[1].vlines(x, delta_ci[0], delta_ci[1], color=c_red)\n",
    "axes[1].axhline(0, ls=\"--\", color=\"0.3\", lw=1)\n",
    "axes[1].set(xlabel=\"Player\", ylabel=\"$\\\\delta$\", ylim=[-0.06, 0.20]);\n",
    "\n",
    "for x_i, x_l in zip(x, x_label):\n",
    "    axes[1].text(x_i, 0.175, x_l, size=10, ha=\"center\", va=\"center\")\n",
    "\n",
    "axes[1].plot([-1, 25.5], [0.175, 0.175], lw=0.8, color=\"0.3\")\n",
    "\n",
    "axes[1].text(-0.75, 0.175, \"$n_1$\\n$n_2$\", size=10, ha=\"center\", va=\"center\");"
   ]
  },
  {
   "cell_type": "markdown",
   "id": "bdbe0d36",
   "metadata": {},
   "source": [
    "Como somos bayesianos y utilizamos métodos de Markov Chain Monte Carlo para obtener muestras del *posterior*, podemos calcular, para cada jugador, la probabilidad de que $\\delta_i$ sea mayor que 0.\n",
    "Con estas probabilidades, es posible construir el siguiente histograma resumen:"
   ]
  },
  {
   "cell_type": "code",
   "execution_count": 15,
   "id": "08143049",
   "metadata": {},
   "outputs": [
    {
     "data": {
      "image/png": "[encoded data removed]",
      "text/plain": [
       "<Figure size 640x480 with 1 Axes>"
      ]
     },
     "metadata": {},
     "output_type": "display_data"
    }
   ],
   "source": [
    "#| echo: false\n",
    "fig, ax = plt.subplots()\n",
    "p_delta = (idata_h.posterior[\"delta\"] > 0).mean((\"chain\", \"draw\")).to_numpy()\n",
    "ax.hist(p_delta, bins=20, color=c_blue)\n",
    "ax.set(yticks=[], xlabel=\"$P(\\\\delta_i > 0)$\");"
   ]
  },
  {
   "cell_type": "markdown",
   "id": "8810381b",
   "metadata": {},
   "source": [
    "Luego, sin importar el *rookie* en el que nos fijemos, siempre concluiremos que tiene una probabilidad entre moderada y alta de ser más efectivo en los segundos lanzamientos que en los primeros.\n",
    "\n",
    "Para finalizar, comparemos la distribución *a posteriori* de $\\delta$ del modelo agrupado con el *posterior* de $\\mu_\\delta$ del modelo parcialmente agrupado, ya que ambas representan la misma cantidad: el diferencial promedio en la probabilidad de acierto entre un segundo y un primer lanzamiento."
   ]
  },
  {
   "cell_type": "code",
   "execution_count": 16,
   "id": "bac92867",
   "metadata": {},
   "outputs": [
    {
     "data": {
      "image/png": "[encoded data removed]",
      "text/plain": [
       "<Figure size 640x480 with 1 Axes>"
      ]
     },
     "metadata": {},
     "output_type": "display_data"
    }
   ],
   "source": [
    "#| echo: false\n",
    "fig, ax = plt.subplots()\n",
    "\n",
    "delta_1 = idata.posterior[\"delta\"].to_numpy().flatten()\n",
    "delta_2 = idata_h.posterior[\"delta_mu\"].to_numpy().flatten()\n",
    "\n",
    "ax.hist(delta_1, bins=20, color=c_blue, alpha=0.5, label=\"Pooled model\")\n",
    "ax.hist(delta_2, bins=20, color=c_orange, alpha=0.5, label=\"Partially-pooled model\")\n",
    "ax.set(yticks=[], xlabel=\"$\\\\delta$\")\n",
    "ax.legend();"
   ]
  },
  {
   "cell_type": "markdown",
   "id": "aa70697a",
   "metadata": {},
   "source": [
    "Afortunadamente, no tenemos que reportar sorpresas. Ambos modelos nos conducen hacia conclusiones prácticamente similares sobre el $\\delta$ promedio, aunque se puede mencionar que en el modelo jerárquico el _posterior_ se encuentra levemente más regularizado hacia el 0 que en el modelo agrupado. Sin embargo, no debemos olvidar que utilizar un modelo jerárquico nos permitió obtener distribuciones _a posteriori_ para cada jugador individual."
   ]
  },
  {
   "cell_type": "markdown",
   "id": "3f150d22",
   "metadata": {},
   "source": [
    "## Comentarios finales\n",
    "\n",
    "Ejemplos como este son los que me recuerdan por qué el enfoque bayesiano para la modelización estadística me gusta tanto.\n",
    "\n",
    "Si bien podríamos habernos conformado con una simple prueba de hipótesis, como la que presentan en el [artículo mencionado](https://link.springer.com/article/10.1007/s12662-020-00646-x),\n",
    "la flexibilidad que ofrecen herramientas como PyMC nos permite ir varios pasos más allá.\n",
    "Propusimos un modelo jerárquico (nada trivial), lo implementamos en PyMC, y luego este, junto con nutpie, se encargaron de proporcionarnos muestras del _posterior_.\n",
    "\n",
    "A partir de esas muestras, pudimos extraer varias conclusiones interesantes.\n",
    "No solo aquellas a nivel global, que confirman que los jugadores de básquet suelen fallar más en los primeros disparos que en los segundos (en línea con los resultados del artículo),\n",
    "sino también conclusiones específicas para cada jugador.\n",
    "\n",
    "Y, por encima de todo, más allá de la utilidad práctica del modelo o de los _insights_ que podamos obtener… ¿no es acaso super divertido jugar a la estadística bayesiana?"
   ]
  }
 ],
 "metadata": {
  "kernelspec": {
   "display_name": "pymc-env",
   "language": "python",
   "name": "python3"
  },
  "language_info": {
   "codemirror_mode": {
    "name": "ipython",
    "version": 3
   },
   "file_extension": ".py",
   "mimetype": "text/x-python",
   "name": "python",
   "nbconvert_exporter": "python",
   "pygments_lexer": "ipython3",
   "version": "3.12.2"
  }
 },
 "nbformat": 4,
 "nbformat_minor": 5
}
