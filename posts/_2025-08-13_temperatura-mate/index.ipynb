{
 "cells": [
  {
   "cell_type": "raw",
   "id": "fe42f0da",
   "metadata": {
    "vscode": {
     "languageId": "raw"
    }
   },
   "source": [
    "---\n",
    "title: \"Mate\"\n",
    "summary: \"\"\n",
    "date: \"2025-08-13\"\n",
    "---"
   ]
  },
  {
   "cell_type": "markdown",
   "id": "1b4e68a8",
   "metadata": {},
   "source": [
    "[En español](index_es.ipynb)"
   ]
  },
  {
   "cell_type": "markdown",
   "id": "539d9968",
   "metadata": {},
   "source": [
    "Hola hola hola.."
   ]
  }
 ],
 "metadata": {
  "language_info": {
   "name": "python"
  }
 },
 "nbformat": 4,
 "nbformat_minor": 5
}
